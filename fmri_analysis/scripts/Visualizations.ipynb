{
 "cells": [
  {
   "cell_type": "code",
   "execution_count": null,
   "metadata": {},
   "outputs": [],
   "source": [
    "import argparse\n",
    "from glob import glob\n",
    "from os import path\n",
    "import pickle\n",
    "from nilearn import plotting\n",
    "from nistats.thresholding import map_threshold\n",
    "import sys\n",
    "\n",
    "from utils.firstlevel_utils import get_first_level_objs\n",
    "from utils.firstlevel_plot_utils import (plot_design, plot_design_timeseries, \n",
    "                                         plot_design_heatmap, plot_contrast,\n",
    "                                        plot_map)"
   ]
  },
  {
   "cell_type": "code",
   "execution_count": null,
   "metadata": {},
   "outputs": [],
   "source": [
    "parser = argparse.ArgumentParser(description='2nd level Entrypoint Script.')\n",
    "parser.add_argument('-derivatives_dir', default=None)\n",
    "parser.add_argument('--skip_first', action='store_true')\n",
    "parser.add_argument('--skip_second', action='store_true')\n",
    "parser.add_argument('--save', action='store_true')\n",
    "\n",
    "if '-derivatives_dir' in sys.argv or '-h' in sys.argv:\n",
    "    args = parser.parse_args()\n",
    "else:\n",
    "    args = parser.parse_args([])\n",
    "    args.derivatives_dir = '/mnt/OAK/data/uh2/BIDS_data/derivatives/'\n",
    "    args.data_dir = '/mnt/OAK/data/uh2/BIDS_data/'\n",
    "    args.tasks = ['stroop']\n",
    "    args.rt=True\n",
    "    args.save=True\n",
    "    %matplotlib inline"
   ]
  },
  {
   "cell_type": "code",
   "execution_count": null,
   "metadata": {},
   "outputs": [],
   "source": [
    "# set paths\n",
    "first_level_dir = path.join(args.derivatives_dir, '1stlevel')\n",
    "second_level_dir = path.join(args.derivatives_dir,'2ndlevel')\n",
    "fmriprep_dir = path.join(args.derivatives_dir, 'fmriprep', 'fmriprep')\n",
    "tasks = ['ANT', 'CCTHot', 'discountFix',\n",
    "        'DPX', 'motorSelectiveStop',\n",
    "        'stopSignal', 'stroop',\n",
    "        'twoByTwo', 'WATT3']\n",
    "save = args.save\n",
    "run_first_level = not args.skip_first\n",
    "run_second_level = not args.skip_second"
   ]
  },
  {
   "cell_type": "markdown",
   "metadata": {},
   "source": [
    "# Design Visualization"
   ]
  },
  {
   "cell_type": "code",
   "execution_count": null,
   "metadata": {},
   "outputs": [],
   "source": [
    "# load design\n",
    "subject_id, task = 's592', 'stroop'\n",
    "files = get_first_level_objs(subject_id, task, first_level_dir, regress_rt=False)\n",
    "subjinfo = pickle.load(open(files[0], 'rb'))"
   ]
  },
  {
   "cell_type": "code",
   "execution_count": null,
   "metadata": {},
   "outputs": [],
   "source": [
    "plot_design(subjinfo)\n",
    "plot_design_timeseries(subjinfo, 0, 100)\n",
    "plot_design_heatmap(subjinfo)"
   ]
  },
  {
   "cell_type": "markdown",
   "metadata": {},
   "source": [
    "# First Level Visualization"
   ]
  },
  {
   "cell_type": "code",
   "execution_count": null,
   "metadata": {},
   "outputs": [],
   "source": [
    "if run_first_level:\n",
    "    for task in tasks:\n",
    "        contrast_maps = glob(path.join(first_level_dir, '*s358*', task, '*maps*', '*.nii.gz'))\n",
    "        for map_file in contrast_maps:\n",
    "            contrast_name = map_file[map_file.index('contrast')+9:].rstrip('.nii.gz')\n",
    "            f = plot_map(map_file, title=contrast_name)\n",
    "            if save:\n",
    "                output = map_file.replace('.nii.gz', '_plots.pdf')\n",
    "                f.savefig(output)"
   ]
  },
  {
   "cell_type": "markdown",
   "metadata": {},
   "source": [
    "# Second Level Visualization"
   ]
  },
  {
   "cell_type": "code",
   "execution_count": null,
   "metadata": {},
   "outputs": [],
   "source": [
    "if run_second_level:\n",
    "    for task in tasks:\n",
    "        contrast_maps = sorted(glob(path.join(second_level_dir, task, '*maps', '*.nii.gz')))\n",
    "        for map_file in contrast_maps:\n",
    "            contrast_name = map_file[map_file.index('contrast')+9:].rstrip('.nii.gz')\n",
    "            # plot\n",
    "            f = plot_map(map_file, title=contrast_name)\n",
    "            if save:\n",
    "                output = map_file.replace('.nii.gz', '_plots.pdf')\n",
    "                f.savefig(output)"
   ]
  }
 ],
 "metadata": {
  "kernelspec": {
   "display_name": "Python 3",
   "language": "python",
   "name": "python3"
  },
  "language_info": {
   "codemirror_mode": {
    "name": "ipython",
    "version": 3
   },
   "file_extension": ".py",
   "mimetype": "text/x-python",
   "name": "python",
   "nbconvert_exporter": "python",
   "pygments_lexer": "ipython3",
   "version": "3.5.3"
  }
 },
 "nbformat": 4,
 "nbformat_minor": 2
}
