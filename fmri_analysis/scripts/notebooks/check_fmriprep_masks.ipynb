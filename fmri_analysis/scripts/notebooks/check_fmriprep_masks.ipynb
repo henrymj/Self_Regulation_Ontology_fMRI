{
 "cells": [
  {
   "cell_type": "code",
   "execution_count": 17,
   "metadata": {},
   "outputs": [],
   "source": [
    "import nilearn\n",
    "from nilearn import plotting\n",
    "import nibabel as nib\n",
    "from nilearn import image\n",
    "from os import path\n",
    "from glob import glob"
   ]
  },
  {
   "cell_type": "code",
   "execution_count": 3,
   "metadata": {},
   "outputs": [],
   "source": [
    "FMRIPREP_DIR = '/Users/henrymj/Documents/mounts/OAK/data/uh2/aim1/BIDS_scans/derivatives/fmriprep'"
   ]
  },
  {
   "cell_type": "code",
   "execution_count": 16,
   "metadata": {},
   "outputs": [],
   "source": [
    "DPX_masks = glob(path.join(FMRIPREP_DIR, 'sub-*/ses-*/func/*task-DPX*brain_mask.nii.gz'))"
   ]
  },
  {
   "cell_type": "code",
   "execution_count": 13,
   "metadata": {},
   "outputs": [],
   "source": [
    "eg_mask = '/Users/henrymj/Documents/mounts/OAK/data/uh2/aim1/BIDS_scans/derivatives/fmriprep/sub-s130/ses-1/func/sub-s130_ses-1_task-DPX_run-1_space-MNI152NLin2009cAsym_desc-brain_mask.nii.gz'"
   ]
  },
  {
   "cell_type": "code",
   "execution_count": 14,
   "metadata": {},
   "outputs": [
    {
     "data": {
      "text/plain": [
       "<nilearn.plotting.displays.OrthoSlicer at 0x1a1a1718d0>"
      ]
     },
     "execution_count": 14,
     "metadata": {},
     "output_type": "execute_result"
    },
    {
     "data": {
      "image/png": "[encoded data removed]",
      "text/plain": [
       "<Figure size 475.2x187.2 with 4 Axes>"
      ]
     },
     "metadata": {},
     "output_type": "display_data"
    }
   ],
   "source": [
    "_ = plotting.plot_img(eg_mask)"
   ]
  },
  {
   "cell_type": "code",
   "execution_count": 12,
   "metadata": {},
   "outputs": [
    {
     "name": "stdout",
     "output_type": "stream",
     "text": [
      "ls: OAK/data/uh2/aim1/BIDS_scans/derivatives/fmriprep/sub-s130/ses-1/func/: No such file or directory\n"
     ]
    }
   ],
   "source": [
    "ls OAK/data/uh2/aim1/BIDS_scans/derivatives/fmriprep/sub-s130/ses-1/func/"
   ]
  },
  {
   "cell_type": "code",
   "execution_count": 18,
   "metadata": {},
   "outputs": [],
   "source": [
    "mean_mask = image.mean_img(DPX_masks)\n",
    "group_mask = image.math_img(\"a>=%s\" % str(.95), a=mean_mask)"
   ]
  },
  {
   "cell_type": "code",
   "execution_count": 19,
   "metadata": {},
   "outputs": [
    {
     "data": {
      "image/png": "[encoded data removed]",
      "text/plain": [
       "<Figure size 475.2x187.2 with 4 Axes>"
      ]
     },
     "metadata": {},
     "output_type": "display_data"
    }
   ],
   "source": [
    "_ = plotting.plot_img(group_mask)"
   ]
  },
  {
   "cell_type": "code",
   "execution_count": null,
   "metadata": {},
   "outputs": [],
   "source": []
  }
 ],
 "metadata": {
  "kernelspec": {
   "display_name": "Python 3",
   "language": "python",
   "name": "python3"
  },
  "language_info": {
   "codemirror_mode": {
    "name": "ipython",
    "version": 3
   },
   "file_extension": ".py",
   "mimetype": "text/x-python",
   "name": "python",
   "nbconvert_exporter": "python",
   "pygments_lexer": "ipython3",
   "version": "3.7.3"
  }
 },
 "nbformat": 4,
 "nbformat_minor": 4
}
