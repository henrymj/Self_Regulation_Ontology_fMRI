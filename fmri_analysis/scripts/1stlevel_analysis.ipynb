{
 "cells": [
  {
   "cell_type": "markdown",
   "metadata": {},
   "source": [
    "### Imports"
   ]
  },
  {
   "cell_type": "code",
   "execution_count": 1,
   "metadata": {},
   "outputs": [
    {
     "name": "stderr",
     "output_type": "stream",
     "text": [
      "/usr/local/miniconda/lib/python3.6/importlib/_bootstrap.py:219: ImportWarning: can't resolve package from __spec__ or __package__, falling back on __name__ and __path__\n",
      "  return f(*args, **kwds)\n"
     ]
    }
   ],
   "source": [
    "import argparse\n",
    "from inspect import currentframe, getframeinfo\n",
    "from glob import glob\n",
    "import numpy as np\n",
    "import os\n",
    "from os.path import join\n",
    "import pandas as pd\n",
    "from pathlib import Path\n",
    "import pickle\n",
    "import sys\n",
    "import nibabel as nib\n",
    "from nistats.first_level_model import FirstLevelModel\n",
    "from utils.firstlevel_utils import get_first_level_objs, make_first_level_obj, save_first_level_obj"
   ]
  },
  {
   "cell_type": "markdown",
   "metadata": {},
   "source": [
    "### Parse Arguments\n",
    "These are not needed for the jupyter notebook, but are used after conversion to a script for production\n",
    "\n",
    "- conversion command:\n",
    "  - jupyter nbconvert --to script --execute 1stlevel_analysis.ipynb"
   ]
  },
  {
   "cell_type": "code",
   "execution_count": 2,
   "metadata": {},
   "outputs": [],
   "source": [
    "parser = argparse.ArgumentParser(description='First Level Entrypoint script')\n",
    "parser.add_argument('-data_dir', default='/data')\n",
    "parser.add_argument('-derivatives_dir', default=None)\n",
    "parser.add_argument('-working_dir', default=None)\n",
    "parser.add_argument('--subject_ids', default=None, nargs=\"+\")\n",
    "parser.add_argument('--tasks', nargs=\"+\", help=\"Choose from ANT, CCTHot, discountFix, \\\n",
    "                                    DPX, motorSelectiveStop, stopSignal, \\\n",
    "                                    stroop, surveyMedley, twoByTwo, WATT3\")\n",
    "parser.add_argument('--rt', action='store_true')\n",
    "parser.add_argument('--beta', action='store_true')\n",
    "parser.add_argument('--n_procs', default=16, type=int)\n",
    "parser.add_argument('--overwrite', action='store_true')\n",
    "parser.add_argument('--quiet', '-q', action='store_true')\n",
    "\n",
    "if '-derivatives_dir' in sys.argv or '-h' in sys.argv:\n",
    "    args = parser.parse_args()\n",
    "else:\n",
    "    args = parser.parse_args([])\n",
    "    args.data_dir = '/data'\n",
    "    args.derivatives_dir = '/data/derivatives'\n",
    "    args.tasks = ['stroop']\n",
    "    args.subject_ids = ['s358']\n",
    "    args.rt=True\n",
    "    args.n_procs=1\n",
    "    # get all subjects\n",
    "    all_subjs = sorted([i[-4:] for i in glob(os.path.join(args.data_dir, '*')) if 'sub-' in i])\n",
    "    args.subject_ids = all_subjs"
   ]
  },
  {
   "cell_type": "code",
   "execution_count": 3,
   "metadata": {},
   "outputs": [],
   "source": [
    "if not args.quiet:\n",
    "    def verboseprint(*args, **kwargs):\n",
    "        print(*args, **kwargs)\n",
    "else:\n",
    "    verboseprint = lambda *a, **k: None # do-nothing function"
   ]
  },
  {
   "cell_type": "markdown",
   "metadata": {},
   "source": [
    "### Initial Setup"
   ]
  },
  {
   "cell_type": "code",
   "execution_count": 4,
   "metadata": {},
   "outputs": [],
   "source": [
    "# Set Paths\n",
    "derivatives_dir = args.derivatives_dir\n",
    "fmriprep_dir = join(derivatives_dir, 'fmriprep', 'fmriprep')\n",
    "data_dir = args.data_dir\n",
    "first_level_dir = join(derivatives_dir,'1stlevel')\n",
    "if args.working_dir is None:\n",
    "    working_dir = join(derivatives_dir, '1stlevel_workingdir')\n",
    "else:\n",
    "    working_dir = join(args.working_dir, '1stlevel_workingdir')\n",
    "\n",
    "# set task\n",
    "if args.tasks is not None:\n",
    "    tasks = args.tasks\n",
    "else:\n",
    "    tasks = ['ANT', 'CCTHot', 'discountFix',\n",
    "            'DPX', 'motorSelectiveStop',\n",
    "            'stopSignal', 'stroop',\n",
    "            'twoByTwo', 'WATT3']\n",
    "\n",
    "# list of subject identifiers\n",
    "if args.subject_ids is None:\n",
    "    subjects = sorted([i[-4:] for i in glob(os.path.join(args.data_dir, '*')) if 'sub-' in i])\n",
    "else:\n",
    "    subjects = args.subject_ids\n",
    "    \n",
    "# other arguments\n",
    "regress_rt = args.rt\n",
    "beta_series = args.beta\n",
    "n_procs = args.n_procs\n",
    "# TR of functional images\n",
    "TR = .68"
   ]
  },
  {
   "cell_type": "code",
   "execution_count": 5,
   "metadata": {},
   "outputs": [
    {
     "name": "stdout",
     "output_type": "stream",
     "text": [
      "*******************************************************************************\n",
      "Tasks: ['stroop']\n",
      ", Subjects: ['s061', 's130', 's144', 's172', 's192', 's234', 's251', 's358', 's373', 's445', 's465', 's471', 's483', 's491', 's495', 's497', 's499', 's512', 's513', 's518']\n",
      ", derivatives_dir: /data/derivatives\n",
      ", data_dir: /data\n",
      "*******************************************************************************\n"
     ]
    }
   ],
   "source": [
    "# print\n",
    "verboseprint('*'*79)\n",
    "verboseprint('Tasks: %s\\n, Subjects: %s\\n, derivatives_dir: %s\\n, data_dir: %s' % \n",
    "     (tasks, subjects, derivatives_dir, data_dir))\n",
    "verboseprint('*'*79)"
   ]
  },
  {
   "cell_type": "markdown",
   "metadata": {},
   "source": [
    "# Set up Nodes"
   ]
  },
  {
   "cell_type": "markdown",
   "metadata": {},
   "source": [
    "### Run analysis"
   ]
  },
  {
   "cell_type": "code",
   "execution_count": 6,
   "metadata": {},
   "outputs": [
    {
     "name": "stdout",
     "output_type": "stream",
     "text": [
      "Missing MRI files for s144: stroop\n"
     ]
    },
    {
     "name": "stderr",
     "output_type": "stream",
     "text": [
      "/usr/local/miniconda/lib/python3.6/site-packages/nistats/experimental_paradigm.py:63: UserWarning: 'modulation' column found in the given events data.\n",
      "  warnings.warn(\"'modulation' column found in the given events data.\")\n",
      "/usr/local/miniconda/lib/python3.6/site-packages/nistats/hemodynamic_models.py:268: DeprecationWarning: object of type <class 'numpy.float64'> cannot be safely interpreted as an integer.\n",
      "  frame_times.max() * (1 + 1. / (n - 1)), n_hr)\n",
      "/usr/local/miniconda/lib/python3.6/site-packages/nistats/hemodynamic_models.py:55: DeprecationWarning: object of type <class 'float'> cannot be safely interpreted as an integer.\n",
      "  time_stamps = np.linspace(0, time_length, float(time_length) / dt)\n"
     ]
    },
    {
     "name": "stdout",
     "output_type": "stream",
     "text": [
      "Missing MRI files for s518: stroop\n"
     ]
    }
   ],
   "source": [
    "to_run = []\n",
    "for subject_id in subjects:\n",
    "    for task in tasks:\n",
    "        files = get_first_level_objs(subject_id, task, first_level_dir, regress_rt=True)\n",
    "        if len(files) == 0 or args.overwrite:\n",
    "            subjinfo = make_first_level_obj(subject_id, task, fmriprep_dir, \n",
    "                                            data_dir, TR, regress_rt=regress_rt)\n",
    "            if subjinfo is not None:\n",
    "                to_run.append(subjinfo)"
   ]
  },
  {
   "cell_type": "markdown",
   "metadata": {},
   "source": [
    "### Run model fit"
   ]
  },
  {
   "cell_type": "code",
   "execution_count": 9,
   "metadata": {},
   "outputs": [
    {
     "name": "stdout",
     "output_type": "stream",
     "text": [
      "s234_stroop\n",
      "** fitting model\n",
      "CPU times: user 17.1 s, sys: 3.42 s, total: 20.5 s\n",
      "Wall time: 1min 38s\n",
      "** computing contrasts\n",
      "** saving\n",
      "s251_stroop\n",
      "** fitting model\n",
      "CPU times: user 16.5 s, sys: 2.91 s, total: 19.5 s\n",
      "Wall time: 1min 39s\n",
      "** computing contrasts\n",
      "** saving\n",
      "s358_stroop\n",
      "** fitting model\n",
      "CPU times: user 16.8 s, sys: 2.81 s, total: 19.6 s\n",
      "Wall time: 1min 34s\n",
      "** computing contrasts\n",
      "** saving\n",
      "s373_stroop\n",
      "** fitting model\n",
      "CPU times: user 16.7 s, sys: 3.16 s, total: 19.8 s\n",
      "Wall time: 1min 30s\n",
      "** computing contrasts\n",
      "** saving\n",
      "s445_stroop\n",
      "** fitting model\n",
      "CPU times: user 17.3 s, sys: 3.21 s, total: 20.5 s\n",
      "Wall time: 1min 46s\n",
      "** computing contrasts\n",
      "** saving\n",
      "s465_stroop\n",
      "** fitting model\n",
      "CPU times: user 16.5 s, sys: 3.02 s, total: 19.5 s\n",
      "Wall time: 1min 30s\n",
      "** computing contrasts\n",
      "** saving\n",
      "s471_stroop\n",
      "** fitting model\n",
      "CPU times: user 19.5 s, sys: 3.12 s, total: 22.7 s\n",
      "Wall time: 2min 14s\n",
      "** computing contrasts\n",
      "** saving\n",
      "s483_stroop\n",
      "** fitting model\n",
      "CPU times: user 18.8 s, sys: 3.24 s, total: 22 s\n",
      "Wall time: 1min 54s\n",
      "** computing contrasts\n",
      "** saving\n",
      "s491_stroop\n",
      "** fitting model\n",
      "CPU times: user 17 s, sys: 2.98 s, total: 20 s\n",
      "Wall time: 1min 38s\n",
      "** computing contrasts\n",
      "** saving\n",
      "s495_stroop\n",
      "** fitting model\n",
      "CPU times: user 17.3 s, sys: 3.23 s, total: 20.5 s\n",
      "Wall time: 1min 34s\n",
      "** computing contrasts\n",
      "** saving\n",
      "s497_stroop\n",
      "** fitting model\n",
      "CPU times: user 17.4 s, sys: 3.14 s, total: 20.5 s\n",
      "Wall time: 1min 39s\n",
      "** computing contrasts\n",
      "** saving\n",
      "s499_stroop\n",
      "** fitting model\n",
      "CPU times: user 17 s, sys: 3.25 s, total: 20.3 s\n",
      "Wall time: 1min 36s\n",
      "** computing contrasts\n",
      "** saving\n",
      "s512_stroop\n",
      "** fitting model\n",
      "CPU times: user 18.1 s, sys: 3.11 s, total: 21.2 s\n",
      "Wall time: 1min 47s\n",
      "** computing contrasts\n",
      "** saving\n",
      "s513_stroop\n",
      "** fitting model\n",
      "CPU times: user 17 s, sys: 2.98 s, total: 20 s\n",
      "Wall time: 1min 33s\n",
      "** computing contrasts\n",
      "** saving\n"
     ]
    }
   ],
   "source": [
    "for subjinfo in to_run:\n",
    "    verboseprint(subjinfo.ID)\n",
    "    verboseprint('** fitting model')\n",
    "    fmri_glm = FirstLevelModel(TR, \n",
    "                           subject_label = subjinfo.ID,\n",
    "                           mask=subjinfo.mask,\n",
    "                           noise_model='ar1',\n",
    "                           standardize=False, \n",
    "                           hrf_model='spm',\n",
    "                           drift_model='cosine',\n",
    "                           period_cut=80,\n",
    "                           n_jobs=1\n",
    "                          )\n",
    "    out = fmri_glm.fit(subjinfo.func, design_matrices=subjinfo.design)\n",
    "    subjinfo.fit_model = out\n",
    "    \n",
    "    # run contrasts and save\n",
    "    verboseprint('** computing contrasts')\n",
    "    for name, contrast in subjinfo.contrasts:\n",
    "        z_map = subjinfo.fit_model.compute_contrast(contrast, output_type='z_score')\n",
    "        subjinfo.maps[name+'_zscore'] = z_map\n",
    "    verboseprint('** saving')\n",
    "    save_first_level_obj(subjinfo, first_level_dir)"
   ]
  }
 ],
 "metadata": {
  "anaconda-cloud": {},
  "kernelspec": {
   "display_name": "Python 3",
   "language": "python",
   "name": "python3"
  },
  "language_info": {
   "codemirror_mode": {
    "name": "ipython",
    "version": 3
   },
   "file_extension": ".py",
   "mimetype": "text/x-python",
   "name": "python",
   "nbconvert_exporter": "python",
   "pygments_lexer": "ipython3",
   "version": "3.5.3"
  },
  "toc": {
   "colors": {
    "hover_highlight": "#DAA520",
    "running_highlight": "#FF0000",
    "selected_highlight": "#FFD700"
   },
   "moveMenuLeft": true,
   "nav_menu": {
    "height": "243px",
    "width": "252px"
   },
   "navigate_menu": true,
   "number_sections": true,
   "sideBar": true,
   "threshold": 4,
   "toc_cell": false,
   "toc_section_display": "block",
   "toc_window_display": false
  }
 },
 "nbformat": 4,
 "nbformat_minor": 2
}
