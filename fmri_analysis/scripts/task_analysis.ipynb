{
 "cells": [
  {
   "cell_type": "markdown",
   "metadata": {},
   "source": [
    "### Imports"
   ]
  },
  {
   "cell_type": "code",
   "execution_count": 13,
   "metadata": {
    "scrolled": true
   },
   "outputs": [
    {
     "name": "stdout",
     "output_type": "stream",
     "text": [
      "Populating the interactive namespace from numpy and matplotlib\n"
     ]
    }
   ],
   "source": [
    "%pylab inline\n",
    "from glob import glob\n",
    "from nipype.interfaces import afni\n",
    "from nipype.interfaces import fsl\n",
    "from nipype.algorithms.modelgen import SpecifyModel\n",
    "from nipype.interfaces.utility import Function, IdentityInterface\n",
    "from nipype.interfaces.io import SelectFiles, DataSink\n",
    "from nipype.pipeline.engine import Workflow, Node\n",
    "from os import makedirs\n",
    "from os.path import abspath, join\n",
    "import pandas as pd\n",
    "import shutil\n"
   ]
  },
  {
   "cell_type": "markdown",
   "metadata": {},
   "source": [
    "### Experiment Variables"
   ]
  },
  {
   "cell_type": "code",
   "execution_count": 2,
   "metadata": {
    "scrolled": true
   },
   "outputs": [],
   "source": [
    "data_dir = '/mnt/OAK'\n",
    "experiment_dir = '/home/ian/temp'\n",
    "output_dir = '1stLevel'\n",
    "working_dir = 'workingdir'\n",
    "\n",
    "# list of subject identifiers\n",
    "subject_list = ['sub-s358']\n",
    "\n",
    "# list of task identifiers\n",
    "task_list = ['stroop', 'ANT', 'CCTHot', 'DPX', 'twoByTwo']\n",
    "\n",
    "# TR of functional images\n",
    "TR = .68\n",
    "\n",
    "regress_rt=True\n"
   ]
  },
  {
   "cell_type": "markdown",
   "metadata": {},
   "source": [
    "# Set up Nodes"
   ]
  },
  {
   "cell_type": "markdown",
   "metadata": {},
   "source": [
    "### Define helper functions"
   ]
  },
  {
   "cell_type": "code",
   "execution_count": 3,
   "metadata": {
    "scrolled": true
   },
   "outputs": [],
   "source": [
    "# helper function to create bunch\n",
    "def subjectinfo(data_dir, subject_id, task, \n",
    "                regress_rt, inspect_inputs=False):\n",
    "    \n",
    "    from glob import glob\n",
    "    from os.path import join\n",
    "    import pandas as pd\n",
    "    from nipype.interfaces.base import Bunch\n",
    "    from utils.utils import get_contrasts, parse_EVs, process_confounds\n",
    "    \n",
    "    # strip \"sub\" from beginning of subject_id if provided\n",
    "    subject_id = subject_id.replace('sub-','')\n",
    "    \n",
    "    ## Get the Events File\n",
    "    \n",
    "    # Read the TSV file and convert to pandas dataframe\n",
    "    event_file = glob(join(data_dir,\n",
    "                           'sub-%s' % subject_id,\n",
    "                           '*', 'func',\n",
    "                           '*%s*events.tsv' % task))[0]\n",
    "    events_df = pd.read_csv(event_file,sep = '\\t')\n",
    "\n",
    "    ## Get the Confounds File (output of fmriprep)\n",
    "    # Read the TSV file and convert to pandas dataframe\n",
    "    confounds_file = glob(join(data_dir,\n",
    "                               'sub-%s' % subject_id,\n",
    "                               '*', 'func',\n",
    "                               '*%s*confounds.tsv' % task))[0]\n",
    "    regressors, regressor_names = process_confounds(confounds_file)\n",
    "    \n",
    "    # set up contrasts\n",
    "    EV_dict = parse_EVs(events_df, task, regress_rt)\n",
    "    \n",
    "    subjectinfo = Bunch(conditions=EV_dict['conditions'],\n",
    "                        onsets=EV_dict['onsets'],\n",
    "                         durations=EV_dict['durations'],\n",
    "                         amplitudes=EV_dict['amplitudes'],\n",
    "                         tmod=None,\n",
    "                         pmod=None,\n",
    "                         regressor_names=regressor_names,\n",
    "                         regressors=regressors.T.tolist())\n",
    "    if inspect_inputs==True:\n",
    "        regressors_df = pd.DataFrame(regressors, columns = regressor_names)\n",
    "        return events_df, regressors_df\n",
    "    else:\n",
    "        contrasts = get_contrasts(task, regress_rt)\n",
    "        return subjectinfo, contrasts  # this output will later be returned to infosource\n",
    "\n",
    "def save_subjectinfo(base_directory, subject_id, task, subject_info, contrasts):\n",
    "    from os import makedirs\n",
    "    from os.path import join\n",
    "    import pickle\n",
    "    task_dir = join(base_directory, subject_id + '_task_' + task)\n",
    "    makedirs(task_dir, exist_ok=True)\n",
    "    subjectinfo_path = join(task_dir,'subjectinfo.pkl')\n",
    "    pickle.dump(subject_info, open(subjectinfo_path,'wb'))\n",
    "    \n",
    "    contrast_path = join(task_dir,'contrasts.pkl')\n",
    "    pickle.dump(contrasts, open(contrast_path,'wb'))\n",
    "    return (subjectinfo_path, contrast_path)"
   ]
  },
  {
   "cell_type": "markdown",
   "metadata": {},
   "source": [
    "View one events file used in subject info"
   ]
  },
  {
   "cell_type": "code",
   "execution_count": 4,
   "metadata": {
    "scrolled": true
   },
   "outputs": [
    {
     "data": {
      "text/html": [
       "<div>\n",
       "<style scoped>\n",
       "    .dataframe tbody tr th:only-of-type {\n",
       "        vertical-align: middle;\n",
       "    }\n",
       "\n",
       "    .dataframe tbody tr th {\n",
       "        vertical-align: top;\n",
       "    }\n",
       "\n",
       "    .dataframe thead th {\n",
       "        text-align: right;\n",
       "    }\n",
       "</style>\n",
       "<table border=\"1\" class=\"dataframe\">\n",
       "  <thead>\n",
       "    <tr style=\"text-align: right;\">\n",
       "      <th></th>\n",
       "      <th>onset</th>\n",
       "      <th>duration</th>\n",
       "      <th>response_time</th>\n",
       "      <th>EV</th>\n",
       "      <th>action</th>\n",
       "      <th>experiment_exp_id</th>\n",
       "      <th>gain_amount</th>\n",
       "      <th>gain_probability</th>\n",
       "      <th>key_press</th>\n",
       "      <th>loss_amount</th>\n",
       "      <th>loss_probability</th>\n",
       "      <th>num_cards</th>\n",
       "      <th>num_click_in_round</th>\n",
       "      <th>num_loss_cards</th>\n",
       "      <th>risk</th>\n",
       "      <th>total_cards</th>\n",
       "      <th>trial_type</th>\n",
       "      <th>worker_id</th>\n",
       "      <th>junk</th>\n",
       "      <th>feedback</th>\n",
       "    </tr>\n",
       "  </thead>\n",
       "  <tbody>\n",
       "    <tr>\n",
       "      <th>0</th>\n",
       "      <td>3.009</td>\n",
       "      <td>1.137</td>\n",
       "      <td>1.172657</td>\n",
       "      <td>-1.410872</td>\n",
       "      <td>draw_card</td>\n",
       "      <td>columbia_card_task_fmri</td>\n",
       "      <td>12.0</td>\n",
       "      <td>0.833333</td>\n",
       "      <td>89.0</td>\n",
       "      <td>-70.0</td>\n",
       "      <td>0.166667</td>\n",
       "      <td>6.0</td>\n",
       "      <td>1.0</td>\n",
       "      <td>1.0</td>\n",
       "      <td>-1.872734</td>\n",
       "      <td>NaN</td>\n",
       "      <td>poldrack-single-stim</td>\n",
       "      <td>s358</td>\n",
       "      <td>False</td>\n",
       "      <td>True</td>\n",
       "    </tr>\n",
       "    <tr>\n",
       "      <th>1</th>\n",
       "      <td>5.588</td>\n",
       "      <td>1.137</td>\n",
       "      <td>-0.333343</td>\n",
       "      <td>-4.144206</td>\n",
       "      <td>draw_card</td>\n",
       "      <td>columbia_card_task_fmri</td>\n",
       "      <td>12.0</td>\n",
       "      <td>0.800000</td>\n",
       "      <td>89.0</td>\n",
       "      <td>-70.0</td>\n",
       "      <td>0.200000</td>\n",
       "      <td>6.0</td>\n",
       "      <td>2.0</td>\n",
       "      <td>1.0</td>\n",
       "      <td>0.367597</td>\n",
       "      <td>NaN</td>\n",
       "      <td>poldrack-single-stim</td>\n",
       "      <td>s358</td>\n",
       "      <td>False</td>\n",
       "      <td>True</td>\n",
       "    </tr>\n",
       "    <tr>\n",
       "      <th>2</th>\n",
       "      <td>6.659</td>\n",
       "      <td>1.137</td>\n",
       "      <td>-0.555343</td>\n",
       "      <td>-8.244206</td>\n",
       "      <td>draw_card</td>\n",
       "      <td>columbia_card_task_fmri</td>\n",
       "      <td>12.0</td>\n",
       "      <td>0.750000</td>\n",
       "      <td>89.0</td>\n",
       "      <td>-70.0</td>\n",
       "      <td>0.250000</td>\n",
       "      <td>6.0</td>\n",
       "      <td>3.0</td>\n",
       "      <td>1.0</td>\n",
       "      <td>3.074563</td>\n",
       "      <td>NaN</td>\n",
       "      <td>poldrack-single-stim</td>\n",
       "      <td>s358</td>\n",
       "      <td>False</td>\n",
       "      <td>True</td>\n",
       "    </tr>\n",
       "    <tr>\n",
       "      <th>3</th>\n",
       "      <td>7.510</td>\n",
       "      <td>1.137</td>\n",
       "      <td>0.806657</td>\n",
       "      <td>-15.077539</td>\n",
       "      <td>end_round</td>\n",
       "      <td>columbia_card_task_fmri</td>\n",
       "      <td>12.0</td>\n",
       "      <td>0.666667</td>\n",
       "      <td>71.0</td>\n",
       "      <td>-70.0</td>\n",
       "      <td>0.333333</td>\n",
       "      <td>6.0</td>\n",
       "      <td>4.0</td>\n",
       "      <td>1.0</td>\n",
       "      <td>6.222617</td>\n",
       "      <td>3.0</td>\n",
       "      <td>poldrack-single-stim</td>\n",
       "      <td>s358</td>\n",
       "      <td>False</td>\n",
       "      <td>True</td>\n",
       "    </tr>\n",
       "    <tr>\n",
       "      <th>4</th>\n",
       "      <td>12.179</td>\n",
       "      <td>1.137</td>\n",
       "      <td>1.226657</td>\n",
       "      <td>-0.577539</td>\n",
       "      <td>draw_card</td>\n",
       "      <td>columbia_card_task_fmri</td>\n",
       "      <td>14.0</td>\n",
       "      <td>0.833333</td>\n",
       "      <td>89.0</td>\n",
       "      <td>-75.0</td>\n",
       "      <td>0.166667</td>\n",
       "      <td>6.0</td>\n",
       "      <td>1.0</td>\n",
       "      <td>1.0</td>\n",
       "      <td>0.735928</td>\n",
       "      <td>NaN</td>\n",
       "      <td>poldrack-single-stim</td>\n",
       "      <td>s358</td>\n",
       "      <td>False</td>\n",
       "      <td>True</td>\n",
       "    </tr>\n",
       "  </tbody>\n",
       "</table>\n",
       "</div>"
      ],
      "text/plain": [
       "    onset  duration  response_time         EV     action  \\\n",
       "0   3.009     1.137       1.172657  -1.410872  draw_card   \n",
       "1   5.588     1.137      -0.333343  -4.144206  draw_card   \n",
       "2   6.659     1.137      -0.555343  -8.244206  draw_card   \n",
       "3   7.510     1.137       0.806657 -15.077539  end_round   \n",
       "4  12.179     1.137       1.226657  -0.577539  draw_card   \n",
       "\n",
       "         experiment_exp_id  gain_amount  gain_probability  key_press  \\\n",
       "0  columbia_card_task_fmri         12.0          0.833333       89.0   \n",
       "1  columbia_card_task_fmri         12.0          0.800000       89.0   \n",
       "2  columbia_card_task_fmri         12.0          0.750000       89.0   \n",
       "3  columbia_card_task_fmri         12.0          0.666667       71.0   \n",
       "4  columbia_card_task_fmri         14.0          0.833333       89.0   \n",
       "\n",
       "   loss_amount  loss_probability  num_cards  num_click_in_round  \\\n",
       "0        -70.0          0.166667        6.0                 1.0   \n",
       "1        -70.0          0.200000        6.0                 2.0   \n",
       "2        -70.0          0.250000        6.0                 3.0   \n",
       "3        -70.0          0.333333        6.0                 4.0   \n",
       "4        -75.0          0.166667        6.0                 1.0   \n",
       "\n",
       "   num_loss_cards      risk  total_cards            trial_type worker_id  \\\n",
       "0             1.0 -1.872734          NaN  poldrack-single-stim      s358   \n",
       "1             1.0  0.367597          NaN  poldrack-single-stim      s358   \n",
       "2             1.0  3.074563          NaN  poldrack-single-stim      s358   \n",
       "3             1.0  6.222617          3.0  poldrack-single-stim      s358   \n",
       "4             1.0  0.735928          NaN  poldrack-single-stim      s358   \n",
       "\n",
       "    junk  feedback  \n",
       "0  False      True  \n",
       "1  False      True  \n",
       "2  False      True  \n",
       "3  False      True  \n",
       "4  False      True  "
      ]
     },
     "execution_count": 4,
     "metadata": {},
     "output_type": "execute_result"
    }
   ],
   "source": [
    "bunch, contrasts = subjectinfo(data_dir,'s358','CCTHot',False)\n",
    "events_df,confounds_df = subjectinfo(data_dir,'s358','CCTHot',False,True)\n",
    "events_df.head() "
   ]
  },
  {
   "cell_type": "markdown",
   "metadata": {},
   "source": [
    "### Specify Input and Output Stream"
   ]
  },
  {
   "cell_type": "code",
   "execution_count": 5,
   "metadata": {
    "scrolled": true
   },
   "outputs": [],
   "source": [
    "# Get Subject Info - get subject specific condition information\n",
    "getsubjectinfo = Node(Function(input_names=['data_dir', 'subject_id',\n",
    "                                            'regress_rt', 'task'],\n",
    "                               output_names=['subject_info', 'contrasts'],\n",
    "                               function=subjectinfo),\n",
    "                      name='getsubjectinfo')\n",
    "getsubjectinfo.inputs.data_dir = data_dir\n",
    "getsubjectinfo.inputs.regress_rt = regress_rt\n",
    "# Infosource - a function free node to iterate over the list of subject names\n",
    "infosource = Node(IdentityInterface(fields=['subject_id',\n",
    "                                            'task',\n",
    "                                            'contrasts']),\n",
    "                  name=\"infosource\")\n",
    "infosource.iterables = [('subject_id', subject_list),\n",
    "                        ('task', task_list)]\n",
    "# SelectFiles - to grab the data (alternative to DataGrabber)\n",
    "templates = {'func': join('*{subject_id}','*','func',\n",
    "                         '*{task}*MNI*preproc.nii.gz'),\n",
    "            'mask': join('*{subject_id}','*','func',\n",
    "                         '*{task}*MNI*brainmask.nii.gz')}\n",
    "selectfiles = Node(SelectFiles(templates,\n",
    "                               base_directory = data_dir,\n",
    "                               sort_filelist=True),\n",
    "                   name=\"selectfiles\")\n",
    "# Datasink - creates output folder for important outputs\n",
    "datasink = Node(DataSink(base_directory = experiment_dir,\n",
    "                         container=output_dir),\n",
    "                name=\"datasink\")\n",
    "# Save python objects that aren't accomodated by datasink nodes\n",
    "save_subjectinfo = Node(Function(input_names=['base_directory','subject_id',\n",
    "                                              'task','subject_info','contrasts'],\n",
    "                                 output_names=['output_path'],\n",
    "                                function=save_subjectinfo),\n",
    "                       name=\"savesubjectinfo\")\n",
    "save_subjectinfo.inputs.base_directory = join(experiment_dir,output_dir)\n",
    "# Use the following DataSink output substitutions\n",
    "substitutions = [('_subject_id_', ''),\n",
    "                ('fstat', 'FSTST'),\n",
    "                ('run0.mat', 'designfile.mat')]\n",
    "datasink.inputs.substitutions = substitutions"
   ]
  },
  {
   "cell_type": "markdown",
   "metadata": {},
   "source": [
    "### Model Specification"
   ]
  },
  {
   "cell_type": "code",
   "execution_count": 18,
   "metadata": {
    "scrolled": true
   },
   "outputs": [],
   "source": [
    "# mask and blur\n",
    "masker = Node(fsl.maths.ApplyMask(),name='masker')\n",
    "\n",
    "# SpecifyModel - Generates FSL-specific Model\n",
    "modelspec = Node(SpecifyModel(input_units='secs',\n",
    "                              time_repetition=TR,\n",
    "                              high_pass_filter_cutoff=80),\n",
    "                 name=\"modelspec\")\n",
    "\n",
    "# Level1Design - Generates an FSL design matrix\n",
    "level1design = Node(fsl.Level1Design(bases={'dgamma':{'derivs': True}},\n",
    "                                 interscan_interval=TR,\n",
    "                                 model_serial_correlations=True),\n",
    "                    name=\"level1design\")\n",
    "\n",
    "# FEATmodel\n",
    "level1model = Node(fsl.FEATModel(), name=\"FEATModel\")\n",
    "\n",
    "# FILMGLs\n",
    "# smooth_autocorr, check default, use FSL default\n",
    "filmgls = Node(fsl.FILMGLS(), name=\"FILMGLS\")\n",
    "\n",
    "conestimate = Node(fsl.ContrastMgr(), name='conestimate',\n",
    "                      iterfield=['tcon_file', 'param_estimates',\n",
    "                                    'sigmasquareds', 'corrections',\n",
    "                                    'dof_file'])"
   ]
  },
  {
   "cell_type": "markdown",
   "metadata": {},
   "source": [
    "# Run as separate nodes\n",
    "\n",
    "Useful for debugging"
   ]
  },
  {
   "cell_type": "code",
   "execution_count": 7,
   "metadata": {},
   "outputs": [
    {
     "name": "stdout",
     "output_type": "stream",
     "text": [
      "180103-08:31:36,939 workflow INFO:\n",
      "\t Executing node getsubjectinfo in dir: /tmp/tmp35zrhmfp/getsubjectinfo\n",
      "180103-08:31:36,946 workflow INFO:\n",
      "\t Running node \"getsubjectinfo\" (\"nipype.interfaces.utility.wrappers.Function\").\n",
      "180103-08:31:37,171 workflow INFO:\n",
      "\t Executing node selectfiles in dir: /tmp/tmpzgh3_uyw/selectfiles\n",
      "180103-08:31:37,173 workflow INFO:\n",
      "\t Running node \"selectfiles\" (\"nipype.interfaces.io.SelectFiles\").\n"
     ]
    }
   ],
   "source": [
    "task = task_list[0]\n",
    "subj = subject_list[0]\n",
    "\n",
    "getsubjectinfo.inputs.subject_id = subj\n",
    "getsubjectinfo.inputs.task = task\n",
    "subject_info_out = getsubjectinfo.run()\n",
    "\n",
    "selectfiles.inputs.subject_id = subj\n",
    "selectfiles.inputs.task = task\n",
    "selectfiles_out = selectfiles.run()\n"
   ]
  },
  {
   "cell_type": "code",
   "execution_count": 8,
   "metadata": {
    "scrolled": true
   },
   "outputs": [
    {
     "name": "stdout",
     "output_type": "stream",
     "text": [
      "180103-08:31:40,987 workflow INFO:\n",
      "\t Executing node masker in dir: /tmp/tmp4ye3crad/masker\n",
      "180103-08:31:40,992 workflow INFO:\n",
      "\t Running node \"masker\" (\"nipype.interfaces.fsl.maths.ApplyMask\"), a CommandLine Interface with command:\n",
      "fslmaths /mnt/OAK/sub-s358/ses-2/func/sub-s358_ses-2_task-stroop_run-1_bold_space-MNI152NLin2009cAsym_preproc.nii.gz -mas /mnt/OAK/sub-s358/ses-2/func/sub-s358_ses-2_task-stroop_run-1_bold_space-MNI152NLin2009cAsym_brainmask.nii.gz /tmp/tmp4ye3crad/masker/sub-s358_ses-2_task-stroop_run-1_bold_space-MNI152NLin2009cAsym_preproc_masked.nii.gz.\n",
      "180103-08:33:13,644 workflow INFO:\n",
      "\t Executing node modelspec in dir: /tmp/tmple1nck23/modelspec\n",
      "180103-08:33:13,696 workflow INFO:\n",
      "\t Running node \"modelspec\" (\"nipype.algorithms.modelgen.SpecifyModel\").\n",
      "180103-08:33:13,791 workflow INFO:\n",
      "\t Executing node level1design in dir: /tmp/tmpwe4qdwab/level1design\n",
      "180103-08:33:13,887 workflow INFO:\n",
      "\t Running node \"level1design\" (\"nipype.interfaces.fsl.model.Level1Design\").\n",
      "180103-08:33:13,944 workflow INFO:\n",
      "\t Executing node FEATModel in dir: /tmp/tmp86poicw7/FEATModel\n",
      "180103-08:33:13,949 workflow INFO:\n",
      "\t Running node \"FEATModel\" (\"nipype.interfaces.fsl.model.FEATModel\"), a CommandLine Interface with command:\n",
      "feat_model run0 .\n"
     ]
    }
   ],
   "source": [
    "masker.inputs.in_file = selectfiles_out.outputs.func \n",
    "masker.inputs.mask_file = selectfiles_out.outputs.mask \n",
    "masker_out = masker.run()\n",
    "\n",
    "modelspec.inputs.subject_info = subject_info_out.outputs.subject_info \n",
    "modelspec.inputs.functional_runs = masker_out.outputs.out_file \n",
    "modelspec_out = modelspec.run()\n",
    "\n",
    "level1design.inputs.contrasts = subject_info_out.outputs.contrasts\n",
    "level1design.inputs.session_info = modelspec_out.outputs.session_info \n",
    "level1design_out = level1design.run() \n",
    "level1design_out.outputs\n",
    "\n",
    "level1model.inputs.fsf_file = level1design_out.outputs.fsf_files \n",
    "level1model.inputs.ev_files = level1design_out.outputs.ev_files \n",
    "out=level1model.run()"
   ]
  },
  {
   "cell_type": "code",
   "execution_count": 9,
   "metadata": {
    "scrolled": true
   },
   "outputs": [
    {
     "name": "stdout",
     "output_type": "stream",
     "text": [
      "180103-08:33:14,610 workflow INFO:\n",
      "\t Executing node FILMGLS in dir: /tmp/tmpam5pihff/FILMGLS\n",
      "180103-08:33:14,613 workflow INFO:\n",
      "\t Running node \"FILMGLS\" (\"nipype.interfaces.fsl.model.FILMGLS\"), a CommandLine Interface with command:\n",
      "film_gls --rn=results --con=/tmp/tmp86poicw7/FEATModel/run0.con --in=/tmp/tmp4ye3crad/masker/sub-s358_ses-2_task-stroop_run-1_bold_space-MNI152NLin2009cAsym_preproc_masked.nii.gz --pd=/tmp/tmp86poicw7/FEATModel/run0.mat --thr=0.000000.\n",
      "180103-08:33:14,667 interface INFO:\n",
      "\t stdout 2018-01-03T08:33:14.667203:Log directory is: results\n",
      "180103-08:33:22,288 interface INFO:\n",
      "\t stdout 2018-01-03T08:33:22.287950:paradigm.getDesignMatrix().Nrows()=325\n",
      "180103-08:33:22,288 interface INFO:\n",
      "\t stdout 2018-01-03T08:33:22.287950:paradigm.getDesignMatrix().Ncols()=29\n",
      "180103-08:33:22,289 interface INFO:\n",
      "\t stdout 2018-01-03T08:33:22.287950:sizeTS=325\n",
      "180103-08:33:22,289 interface INFO:\n",
      "\t stdout 2018-01-03T08:33:22.287950:numTS=177828\n",
      "180103-08:33:22,330 interface INFO:\n",
      "\t stdout 2018-01-03T08:33:22.330826:Calculating residuals...\n",
      "180103-09:01:48,448 interface INFO:\n",
      "\t stdout 2018-01-03T09:01:48.448202:Completed\n",
      "180103-09:01:48,448 interface INFO:\n",
      "\t stdout 2018-01-03T09:01:48.448202:Estimating residual autocorrelation...\n",
      "180103-09:02:00,590 interface INFO:\n",
      "\t stdout 2018-01-03T09:02:00.590539:Calculating raw AutoCorrs... Completed\n",
      "180103-09:02:00,591 interface INFO:\n",
      "\t stdout 2018-01-03T09:02:00.590539:Tukey M = 18\n",
      "180103-09:02:00,990 interface INFO:\n",
      "\t stdout 2018-01-03T09:02:00.990682:Tukey estimates... Completed\n",
      "180103-09:02:00,991 interface INFO:\n",
      "\t stdout 2018-01-03T09:02:00.990682:Completed\n",
      "180103-09:02:00,991 interface INFO:\n",
      "\t stdout 2018-01-03T09:02:00.990682:Prewhitening and Computing PEs...\n",
      "180103-09:02:00,992 interface INFO:\n",
      "\t stdout 2018-01-03T09:02:00.990682:Percentage done:\n",
      "180103-09:37:13,538 interface INFO:\n",
      "\t stdout 2018-01-03T09:37:13.538092:1,2,3,4,5,6,7,8,9,10,11,12,13,14,15,16,17,18,19,20,21,22,23,24,25,26,27,28,29,30,31,32,33,34,35,36,37,38,39,40,41,42,43,44,45,46,47,48,49,50,51,52,53,54,55,56,57,58,59,60,61,62,63,64,65,66,67,68,69,70,71,72,73,74,75,76,77,78,79,80,81,82,83,84,85,86,87,88,89,90,91,92,93,94,95,96,97,98,99,Completed\n",
      "180103-09:37:13,538 interface INFO:\n",
      "\t stdout 2018-01-03T09:37:13.538092:Saving results... \n",
      "180103-09:37:28,408 interface INFO:\n",
      "\t stdout 2018-01-03T09:37:28.408263:Completed\n"
     ]
    }
   ],
   "source": [
    "filmgls.inputs.in_file = masker_out.outputs.out_file \n",
    "filmgls.inputs.design_file = out.outputs.design_file \n",
    "filmgls.inputs.tcon_file = out.outputs.con_file \n",
    "filmgls.inputs.fcon_file = out.outputs.fcon_file \n",
    "fil_out = filmgls.run()"
   ]
  },
  {
   "cell_type": "code",
   "execution_count": 24,
   "metadata": {},
   "outputs": [
    {
     "ename": "AttributeError",
     "evalue": "'FILMGLSOutputSpec507' object has no attribute 'corrections'",
     "output_type": "error",
     "traceback": [
      "\u001b[0;31m---------------------------------------------------------------------------\u001b[0m",
      "\u001b[0;31mAttributeError\u001b[0m                            Traceback (most recent call last)",
      "\u001b[0;32m<ipython-input-24-2ed88a51cc8a>\u001b[0m in \u001b[0;36m<module>\u001b[0;34m()\u001b[0m\n\u001b[1;32m      1\u001b[0m \u001b[0mconestimate\u001b[0m\u001b[0;34m.\u001b[0m\u001b[0minputs\u001b[0m\u001b[0;34m.\u001b[0m\u001b[0mparam_estimates\u001b[0m \u001b[0;34m=\u001b[0m \u001b[0mfil_out\u001b[0m\u001b[0;34m.\u001b[0m\u001b[0moutputs\u001b[0m\u001b[0;34m.\u001b[0m\u001b[0mparam_estimates\u001b[0m\u001b[0;34m\u001b[0m\u001b[0m\n\u001b[1;32m      2\u001b[0m \u001b[0mconestimate\u001b[0m\u001b[0;34m.\u001b[0m\u001b[0minputs\u001b[0m\u001b[0;34m.\u001b[0m\u001b[0msigmasquareds\u001b[0m \u001b[0;34m=\u001b[0m \u001b[0mfil_out\u001b[0m\u001b[0;34m.\u001b[0m\u001b[0moutputs\u001b[0m\u001b[0;34m.\u001b[0m\u001b[0msigmasquareds\u001b[0m\u001b[0;34m\u001b[0m\u001b[0m\n\u001b[0;32m----> 3\u001b[0;31m \u001b[0mconestimate\u001b[0m\u001b[0;34m.\u001b[0m\u001b[0minputs\u001b[0m\u001b[0;34m.\u001b[0m\u001b[0mcorrections\u001b[0m \u001b[0;34m=\u001b[0m \u001b[0mfil_out\u001b[0m\u001b[0;34m.\u001b[0m\u001b[0moutputs\u001b[0m\u001b[0;34m.\u001b[0m\u001b[0mcorrections\u001b[0m\u001b[0;34m\u001b[0m\u001b[0m\n\u001b[0m\u001b[1;32m      4\u001b[0m \u001b[0mconestimate\u001b[0m\u001b[0;34m.\u001b[0m\u001b[0minputs\u001b[0m\u001b[0;34m.\u001b[0m\u001b[0mdof_file\u001b[0m \u001b[0;34m=\u001b[0m \u001b[0mfil_out\u001b[0m\u001b[0;34m.\u001b[0m\u001b[0moutputs\u001b[0m\u001b[0;34m.\u001b[0m\u001b[0mdof_file\u001b[0m\u001b[0;34m\u001b[0m\u001b[0m\n\u001b[1;32m      5\u001b[0m \u001b[0;34m\u001b[0m\u001b[0m\n",
      "\u001b[0;31mAttributeError\u001b[0m: 'FILMGLSOutputSpec507' object has no attribute 'corrections'"
     ]
    }
   ],
   "source": [
    "conestimate.inputs.param_estimates = fil_out.outputs.param_estimates\n",
    "conestimate.inputs.sigmasquareds = fil_out.outputs.sigmasquareds\n",
    "conestimate.inputs.corrections = fil_out.outputs.corrections\n",
    "conestimate.inputs.dof_file = fil_out.outputs.dof_file\n",
    "\n",
    "conestimate.inputs.tcon_file = out.outputs.con_file"
   ]
  },
  {
   "cell_type": "code",
   "execution_count": 10,
   "metadata": {},
   "outputs": [
    {
     "name": "stdout",
     "output_type": "stream",
     "text": [
      "180103-16:52:08,718 workflow INFO:\n",
      "\t Executing node datasink in dir: /tmp/tmpzdxpmw7o/datasink\n",
      "180103-16:52:08,730 workflow INFO:\n",
      "\t Running node \"datasink\" (\"nipype.interfaces.io.DataSink\").\n"
     ]
    },
    {
     "data": {
      "text/plain": [
       "<nipype.interfaces.base.InterfaceResult at 0x7fe67466ea20>"
      ]
     },
     "execution_count": 10,
     "metadata": {},
     "output_type": "execute_result"
    }
   ],
   "source": [
    "datasink.inputs.copes = fil_out.outputs.copes\n",
    "datasink.inputs.zstats = fil_out.outputs.zstats\n",
    "datasink.inputs.tstats = fil_out.outputs.tstats\n",
    "datasink.inputs.fstats = fil_out.outputs.fstats\n",
    "datasink.inputs.param_estimates = fil_out.outputs.param_estimates\n",
    "datasink.inputs.residual4d = fil_out.outputs.residual4d\n",
    "datasink.inputs.sigmasquareds = fil_out.outputs.sigmasquareds\n",
    "\n",
    "datasink.run()"
   ]
  },
  {
   "cell_type": "code",
   "execution_count": 12,
   "metadata": {},
   "outputs": [
    {
     "name": "stdout",
     "output_type": "stream",
     "text": [
      "180103-16:52:35,964 workflow INFO:\n",
      "\t Executing node savesubjectinfo in dir: /tmp/tmp7vam1ve4/savesubjectinfo\n",
      "180103-16:52:36,35 workflow INFO:\n",
      "\t Running node \"savesubjectinfo\" (\"nipype.interfaces.utility.wrappers.Function\").\n"
     ]
    },
    {
     "data": {
      "text/plain": [
       "<nipype.interfaces.base.InterfaceResult at 0x7fe674512ac8>"
      ]
     },
     "execution_count": 12,
     "metadata": {},
     "output_type": "execute_result"
    }
   ],
   "source": [
    "save_subjectinfo.inputs.subject_id = subj\n",
    "save_subjectinfo.inputs.task = task\n",
    "save_subjectinfo.inputs.subject_info = subject_info_out.outputs.subject_info\n",
    "save_subjectinfo.inputs.contrasts = subject_info_out.outputs.contrasts\n",
    "\n",
    "save_subjectinfo.run()"
   ]
  },
  {
   "cell_type": "raw",
   "metadata": {},
   "source": [
    "desmtx=numpy.loadtxt(out.outputs.design_file,skiprows=5)\n",
    "plt.imshow(desmtx,aspect='auto',interpolation='nearest',cmap='gray')\n",
    "plt.title('Design Matrix')\n",
    "plt.show()\n",
    "cc=numpy.corrcoef(desmtx.T)\n",
    "plt.imshow(cc,aspect='auto',interpolation='nearest', cmap=plt.cm.viridis)\n",
    "plt.colorbar()\n",
    "plt.title('Correlation of Regressors')\n",
    "plt.show()\n",
    "# show first regressors\n",
    "plt.figure(figsize=[16,6])\n",
    "colors = ['m','c']\n",
    "for designi, conti in [(0,0),(2,1)]:\n",
    "    plt.plot(desmtx[:,designi], c=colors[conti], label=subject_info.conditions[conti])\n",
    "    ax = plt.gca()\n",
    "    for i in subject_info.onsets[conti]:\n",
    "        plt.axvline(i/.68, ymin=0, ymax=.1, c=colors[conti])\n",
    "plt.legend()\n",
    "plt.title('Incongruent Regressors')"
   ]
  },
  {
   "cell_type": "raw",
   "metadata": {},
   "source": [
    "import nilearn.plotting\n",
    "import nilearn.image\n",
    "\n",
    "nilearn.plotting.plot_glass_brain(nilearn.image.smooth_img(fil_out.outputs.zstats[0], 6),\n",
    "                                      display_mode='lyrz', colorbar=True, plot_abs=False, threshold=1)\n",
    "\n",
    "nilearn.plotting.plot_glass_brain(nilearn.image.smooth_img(fil_out.outputs.zstats[1], 6),\n",
    "                                      display_mode='lyrz', colorbar=True, plot_abs=False, threshold=1)\n",
    "\n",
    "nilearn.plotting.plot_glass_brain(nilearn.image.smooth_img(fil_out.outputs.zstats[2], 6),\n",
    "                                      display_mode='lyrz', colorbar=True, plot_abs=False, threshold=1)"
   ]
  },
  {
   "cell_type": "markdown",
   "metadata": {},
   "source": [
    "# Workflow"
   ]
  },
  {
   "cell_type": "code",
   "execution_count": null,
   "metadata": {
    "scrolled": true
   },
   "outputs": [],
   "source": [
    "# Initiation of the 1st-level analysis workflow\n",
    "l1analysis = Workflow(name='l1analysis')\n",
    "l1analysis.base_dir = join(experiment_dir, working_dir)\n",
    "\n",
    "# Connect up the 1st-level analysis components\n",
    "l1analysis.connect([(infosource, selectfiles, [('subject_id', 'subject_id'),\n",
    "                                               ('task', 'task')]),\n",
    "                    (infosource, getsubjectinfo, [('subject_id','subject_id'),\n",
    "                                                 ('task', 'task')]),\n",
    "                    (selectfiles, masker, [('func','in_file'),\n",
    "                                           ('mask', 'mask_file')]),\n",
    "                    (getsubjectinfo, modelspec, [('subject_info','subject_info')]),\n",
    "                    (masker, modelspec, [('out_file', 'functional_runs')]),\n",
    "                    (modelspec, level1design, [('session_info','session_info')]),\n",
    "                    (getsubjectinfo, level1design, [('contrasts','contrasts')]),\n",
    "                    (level1design, level1model, [('ev_files', 'ev_files'),\n",
    "                                                 ('fsf_files','fsf_file')]),\n",
    "                    (masker, filmgls, [('out_file', 'in_file')]),\n",
    "                    (level1model, filmgls, [('design_file', 'design_file'),\n",
    "                                            ('con_file', 'tcon_file'),\n",
    "                                            ('fcon_file', 'fcon_file')]),\n",
    "                    (level1model, datasink, [('design_file', '1stLevel.@design_file')]),\n",
    "                    (filmgls, datasink, [('zstats', '1stLevel.@Z'),\n",
    "                                        ('fstats', '1stLevel.@F'),\n",
    "                                        ('tstats','1stLevel.@T'),\n",
    "                                        ('param_estimates','1stLevel.param_estimates')]),\n",
    "                    (infosource, save_subjectinfo, [('subject_id','subject_id'),\n",
    "                                                     ('task', 'task')]),\n",
    "                    (getsubjectinfo, save_subjectinfo, [('subject_info','subject_info'),\n",
    "                                                        ('contrasts','contrasts')]),\n",
    "                    \n",
    "                    ])\n"
   ]
  },
  {
   "cell_type": "markdown",
   "metadata": {},
   "source": [
    "### Run the Workflow\n"
   ]
  },
  {
   "cell_type": "code",
   "execution_count": null,
   "metadata": {
    "scrolled": false
   },
   "outputs": [],
   "source": [
    "l1analysis.run('MultiProc', plugin_args={'n_procs': 4})"
   ]
  },
  {
   "cell_type": "markdown",
   "metadata": {},
   "source": [
    "### Visualize Workflow"
   ]
  },
  {
   "cell_type": "code",
   "execution_count": null,
   "metadata": {
    "scrolled": false
   },
   "outputs": [],
   "source": [
    "# Create 1st-level analysis output graph\n",
    "l1analysis.write_graph(graph2use='colored', format='png', simple_form=True)\n",
    "# Visualize the graph\n",
    "from IPython.display import Image\n",
    "graph_file=join(l1analysis.base_dir, 'l1analysis', 'graph.dot.png')\n",
    "Image(graph_file)\n"
   ]
  },
  {
   "cell_type": "code",
   "execution_count": null,
   "metadata": {
    "scrolled": true
   },
   "outputs": [],
   "source": [
    "try:\n",
    "    shutil.move(graph_file, 'l1analysis')\n",
    "except shutil.Error:\n",
    "    pass\n",
    "# remove working directory\n",
    "shutil.rmtree(working_dir)"
   ]
  },
  {
   "cell_type": "markdown",
   "metadata": {},
   "source": [
    "### Visualize Design Matrix"
   ]
  },
  {
   "cell_type": "code",
   "execution_count": null,
   "metadata": {
    "scrolled": true
   },
   "outputs": [],
   "source": [
    "!tree datasink/1stLevel/sub*\n"
   ]
  },
  {
   "cell_type": "code",
   "execution_count": null,
   "metadata": {
    "scrolled": true
   },
   "outputs": [],
   "source": [
    "design_file = glob(join(experiment_dir,'datasink','1stLevel','sub-s358_task_CCTHot','designfile.mat'))[0]\n",
    "desmtx=numpy.loadtxt(design_file, skiprows=5)\n",
    "plt.imshow(desmtx,aspect='auto',interpolation='nearest',cmap='gray')\n",
    "plt.title('Design Matrix')\n",
    "plt.show()\n",
    "cc=numpy.corrcoef(desmtx.T)\n",
    "plt.imshow(cc,aspect='auto',interpolation='nearest', cmap=plt.cm.viridis)\n",
    "plt.colorbar()\n",
    "plt.title('Correlation of Regressors')\n",
    "plt.show()\n",
    "\"\"\"\n",
    "# show first regressors\n",
    "plt.figure(figsize=[20,8])\n",
    "plt.plot(desmtx[:,0],'b', label=subject_info.conditions[0])\n",
    "plt.plot(desmtx[:,2],'r', label=subject_info.conditions[1])\n",
    "for i in subject_info.onsets[0]:\n",
    "    plt.axvline(i/.68, ymin=0, ymax=.1)\n",
    "for i in subject_info.onsets[1]:\n",
    "    plt.axvline(i/.68, ymin=0, ymax=.1, c='r')\n",
    "plt.legend()\n",
    "plt.title('Congruent/Incongruent Regressors')\n",
    "\"\"\""
   ]
  },
  {
   "cell_type": "markdown",
   "metadata": {},
   "source": [
    "### Visualize Results"
   ]
  },
  {
   "cell_type": "code",
   "execution_count": null,
   "metadata": {
    "scrolled": true
   },
   "outputs": [],
   "source": [
    "from nilearn.plotting import plot_stat_map\n",
    "from nilearn.image import smooth_img\n",
    "\n",
    "anatimg = glob(join(experiment_dir,'Data','sub-s358','anat','*T1w*MNI*preproc*'))[0]\n",
    "contrast_img = glob(join(experiment_dir,'datasink','1stLevel','sub-s358_task_ANT','zstat3.nii.gz'))[0]\n",
    "plot_stat_map(smooth_img(contrast_img, 8), title='stroop effect',\n",
    "              bg_img=anatimg, threshold=1, display_mode='z', cut_coords=(-30, -15, 0, 15, 30), dim=-1)"
   ]
  },
  {
   "cell_type": "code",
   "execution_count": null,
   "metadata": {
    "scrolled": false
   },
   "outputs": [],
   "source": [
    "import nilearn.plotting\n",
    "import nilearn.image\n",
    "import cPickle\n",
    "\n",
    "for task in task_list:\n",
    "    contrast_file = glob(join(experiment_dir,'datasink','1stLevel','sub-s358_task_' + task,'contrasts.pkl'))[0]\n",
    "    contrasts = cPickle.load(open(contrast_file,'r'))\n",
    "    contrasts = [contrast[0] for contrast in contrasts]\n",
    "    contrast_imgs = sort(glob(join(experiment_dir,'datasink','1stLevel','sub-s358_task_' + task,'zstat*.nii.gz')))\n",
    "    for i, contrast_img in enumerate(contrast_imgs):\n",
    "        nilearn.plotting.plot_glass_brain(nilearn.image.smooth_img(contrast_img, 8),\n",
    "                                          display_mode='lyrz', colorbar=True, plot_abs=False, threshold=0,\n",
    "                                          title=contrasts[i])\n"
   ]
  }
 ],
 "metadata": {
  "anaconda-cloud": {},
  "kernelspec": {
   "display_name": "Python 3",
   "language": "python",
   "name": "python3"
  },
  "language_info": {
   "codemirror_mode": {
    "name": "ipython",
    "version": 3
   },
   "file_extension": ".py",
   "mimetype": "text/x-python",
   "name": "python",
   "nbconvert_exporter": "python",
   "pygments_lexer": "ipython3",
   "version": "3.5.3"
  },
  "toc": {
   "colors": {
    "hover_highlight": "#DAA520",
    "running_highlight": "#FF0000",
    "selected_highlight": "#FFD700"
   },
   "moveMenuLeft": true,
   "nav_menu": {
    "height": "243px",
    "width": "252px"
   },
   "navigate_menu": true,
   "number_sections": true,
   "sideBar": true,
   "threshold": 4,
   "toc_cell": false,
   "toc_section_display": "block",
   "toc_window_display": false
  }
 },
 "nbformat": 4,
 "nbformat_minor": 2
}
