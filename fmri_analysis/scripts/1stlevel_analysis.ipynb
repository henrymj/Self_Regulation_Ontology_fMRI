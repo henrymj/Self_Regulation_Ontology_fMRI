{
 "cells": [
  {
   "cell_type": "markdown",
   "metadata": {},
   "source": [
    "### Imports"
   ]
  },
  {
   "cell_type": "code",
   "execution_count": 3,
   "metadata": {},
   "outputs": [],
   "source": [
    "import argparse\n",
    "from inspect import currentframe, getframeinfo\n",
    "from glob import glob\n",
    "import numpy as np\n",
    "import os\n",
    "from os.path import join\n",
    "import pandas as pd\n",
    "from pathlib import Path\n",
    "import pickle\n",
    "import sys\n",
    "import nibabel as nib\n",
    "from nistats.first_level_model import FirstLevelModel\n",
    "import warnings\n",
    "from utils.firstlevel_plot_utils import plot_design\n",
    "from utils.firstlevel_utils import get_first_level_objs, make_first_level_obj, save_first_level_obj"
   ]
  },
  {
   "cell_type": "markdown",
   "metadata": {},
   "source": [
    "### Parse Arguments\n",
    "These are not needed for the jupyter notebook, but are used after conversion to a script for production\n",
    "\n",
    "- conversion command:\n",
    "  - jupyter nbconvert --to script --execute 1stlevel_analysis.ipynb"
   ]
  },
  {
   "cell_type": "code",
   "execution_count": 4,
   "metadata": {},
   "outputs": [],
   "source": [
    "parser = argparse.ArgumentParser(description='First Level Entrypoint script')\n",
    "parser.add_argument('-data_dir', default='/data')\n",
    "parser.add_argument('-derivatives_dir', default=None)\n",
    "parser.add_argument('-fmriprep_dir', default=None)\n",
    "parser.add_argument('-working_dir', default=None)\n",
    "parser.add_argument('--subject_ids', nargs=\"+\")\n",
    "parser.add_argument('--tasks', nargs=\"+\", help=\"Choose from ANT, CCTHot, discountFix,                                     DPX, motorSelectiveStop, stopSignal,                                     stroop, surveyMedley, twoByTwo, WATT3\")\n",
    "parser.add_argument('--rt', action='store_true')\n",
    "parser.add_argument('--beta', action='store_true')\n",
    "parser.add_argument('--n_procs', default=16, type=int)\n",
    "parser.add_argument('--overwrite', action='store_true')\n",
    "parser.add_argument('--quiet', '-q', action='store_true')\n",
    "parser.add_argument('--design_matrix', '-dm', action='store_true')\n",
    "parser.add_argument('--a_comp_cor', action='store_true')\n",
    "\n",
    "if '-derivatives_dir' in sys.argv or '-h' in sys.argv:\n",
    "    args = parser.parse_args()\n",
    "else:\n",
    "    args = parser.parse_args([])\n",
    "    args.tasks = ['discountFix',  #aim 2 tasks\n",
    "                  'motorSelectiveStop']\n",
    "#     args.tasks = ['discountFix', 'manipulationTask', #aim 2 tasks\n",
    "#                   'motorSelectiveStop', 'stopSignal']\n",
    "    \n",
    "    # args.tasks = ['ANT', 'CCTHot', 'discountFix', 'DPX', #aim 1 tasks\n",
    "    #               'motorSelectiveStop', 'stopSignal', \n",
    "    #               'stroop', 'twoByTwo', 'WATT3']\n",
    "    \n",
    "   \n",
    "    #args.subject_ids = ['3010']\n",
    "    args.rt=True\n",
    "    args.a_comp_cor=True\n",
    "    args.n_procs=1\n",
    "    args.derivatives_dir = '/data/derivatives/'\n",
    "    args.data_dir = '/data'\n",
    "    args.fmriprep_dir = '/data/derivatives/fmriprep/'\n",
    "    args.design_matrix=False"
   ]
  },
  {
   "cell_type": "code",
   "execution_count": 5,
   "metadata": {},
   "outputs": [],
   "source": [
    "if not args.quiet:\n",
    "    def verboseprint(*args, **kwargs):\n",
    "        print(*args, **kwargs)\n",
    "else:\n",
    "    verboseprint = lambda *a, **k: None # do-nothing function"
   ]
  },
  {
   "cell_type": "markdown",
   "metadata": {},
   "source": [
    "### Initial Setup\n",
    "\n",
    "Organize paths and set parameters based on arguments"
   ]
  },
  {
   "cell_type": "code",
   "execution_count": 6,
   "metadata": {},
   "outputs": [],
   "source": [
    "# Set Paths\n",
    "derivatives_dir = args.derivatives_dir\n",
    "if args.fmriprep_dir is None:\n",
    "    fmriprep_dir = join(derivatives_dir, 'fmriprep', 'fmriprep')\n",
    "else:\n",
    "    fmriprep_dir = args.fmriprep_dir\n",
    "data_dir = args.data_dir\n",
    "first_level_dir = join(derivatives_dir,'1stlevel')\n",
    "if args.working_dir is None:\n",
    "    working_dir = join(derivatives_dir, '1stlevel_workingdir')\n",
    "else:\n",
    "    working_dir = join(args.working_dir, '1stlevel_workingdir')\n",
    "\n",
    "# set tasks\n",
    "if args.tasks is not None:\n",
    "    tasks = args.tasks\n",
    "else:\n",
    "    tasks = ['discountFix', 'manipulationTask', \n",
    "                  'motorSelectiveStop', 'stopSignal']\n",
    "    \n",
    "    # tasks = ['ANT', 'CCTHot', 'discountFix', 'DPX', \n",
    "    #               'motorSelectiveStop', 'stopSignal', \n",
    "    #               'stroop', 'twoByTwo', 'WATT3']\n",
    "    \n",
    "\n",
    "# list of subject identifiers\n",
    "if not args.subject_ids:\n",
    "    subjects = sorted([i.split(\"-\")[-1] for i in glob(os.path.join(args.data_dir, '*')) if 'sub-' in i])\n",
    "else:\n",
    "    subjects = args.subject_ids\n",
    "    \n",
    "# other arguments\n",
    "regress_rt = args.rt\n",
    "beta_series = args.beta\n",
    "n_procs = args.n_procs\n",
    "# TR of functional images\n",
    "TR = .68\n",
    "a_comp_cor=args.a_comp_cor"
   ]
  },
  {
   "cell_type": "code",
   "execution_count": 7,
   "metadata": {},
   "outputs": [
    {
     "data": {
      "text/plain": [
       "'/data/derivatives/1stlevel'"
      ]
     },
     "execution_count": 7,
     "metadata": {},
     "output_type": "execute_result"
    }
   ],
   "source": [
    "first_level_dir"
   ]
  },
  {
   "cell_type": "code",
   "execution_count": 5,
   "metadata": {},
   "outputs": [
    {
     "name": "stdout",
     "output_type": "stream",
     "text": [
      "*******************************************************************************\n",
      "Tasks: ['discountFix', 'motorSelectiveStop']\n",
      ", Subjects: ['1021', '1025', '1046', '1105', '1108', '1132', '1143', '1189', '1190', '1211', '1237', '1352', '1376', '1399', '1438', '1481', '1517', '1525', '1585', '1636', '1640', '1646', '1652', '1860', '192', '1961', '1976', '2001', '2099', '211', '2130', '2133', '2143', '2199', '2232', '225', '2265', '232', '233', '2577', '2604', '2689', '2696', '275', '2800', '283', '2834', '2839', '300', '3002', '3010', '31', '3225', '3324', '3364', '3464', '3525', '4022', '4081', '4129', '413', '443', '4591', '4592', '472', '479', '4829', '4930', '5064', '5293', '538', '5387', '5469', '5497', '5579', '579', '5906', '595', '6018', '615', '623', '630', '65', '6638', '667', '685', '698', '7124', '725', '731', '772', '811', '857', '885', '889', '897', '902', '91', '931', '96']\n",
      ", derivatives_dir: /data/derivatives/\n",
      ", data_dir: /data\n",
      "*******************************************************************************\n"
     ]
    }
   ],
   "source": [
    "verboseprint('*'*79)\n",
    "verboseprint('Tasks: %s\\n, Subjects: %s\\n, derivatives_dir: %s\\n, data_dir: %s' % \n",
    "     (tasks, subjects, derivatives_dir, data_dir))\n",
    "verboseprint('*'*79)"
   ]
  },
  {
   "cell_type": "markdown",
   "metadata": {},
   "source": [
    "# Set up Nodes"
   ]
  },
  {
   "cell_type": "markdown",
   "metadata": {},
   "source": [
    "### Run analysis\n",
    "\n",
    "gather the files for each task within each subject\n"
   ]
  },
  {
   "cell_type": "code",
   "execution_count": 6,
   "metadata": {},
   "outputs": [
    {
     "name": "stdout",
     "output_type": "stream",
     "text": [
      "Setting up 1021, discountFix\n",
      "['/data/derivatives/fmriprep/sub-1021/func/sub-1021_task-discountFix_run-1_space-MNI152NLin2009cAsym_desc-preproc_bold.nii.gz']\n",
      "Setting up 1021, motorSelectiveStop\n",
      "['/data/derivatives/fmriprep/sub-1021/func/sub-1021_task-motorSelectiveStop_run-1_space-MNI152NLin2009cAsym_desc-preproc_bold.nii.gz']\n",
      "Setting up 1025, discountFix\n",
      "['/data/derivatives/fmriprep/sub-1025/func/sub-1025_task-discountFix_run-1_space-MNI152NLin2009cAsym_desc-preproc_bold.nii.gz']\n",
      "Setting up 1025, motorSelectiveStop\n",
      "['/data/derivatives/fmriprep/sub-1025/func/sub-1025_task-motorSelectiveStop_run-1_space-MNI152NLin2009cAsym_desc-preproc_bold.nii.gz']\n"
     ]
    },
    {
     "ename": "ParserError",
     "evalue": "Error tokenizing data. C error: Calling read(nbytes) on source failed. Try engine='python'.",
     "output_type": "error",
     "traceback": [
      "\u001b[0;31m---------------------------------------------------------------------------\u001b[0m",
      "\u001b[0;31mParserError\u001b[0m                               Traceback (most recent call last)",
      "\u001b[0;32m<ipython-input-6-3afd3e1fbef9>\u001b[0m in \u001b[0;36m<module>\u001b[0;34m\u001b[0m\n\u001b[1;32m      9\u001b[0m                 \u001b[0mwarnings\u001b[0m\u001b[0;34m.\u001b[0m\u001b[0mfilterwarnings\u001b[0m\u001b[0;34m(\u001b[0m\u001b[0;34m\"ignore\"\u001b[0m\u001b[0;34m,\u001b[0m\u001b[0mcategory\u001b[0m\u001b[0;34m=\u001b[0m\u001b[0mUserWarning\u001b[0m\u001b[0;34m)\u001b[0m\u001b[0;34m\u001b[0m\u001b[0;34m\u001b[0m\u001b[0m\n\u001b[1;32m     10\u001b[0m                 subjinfo = make_first_level_obj(subject_id, task, fmriprep_dir, \n\u001b[0;32m---> 11\u001b[0;31m                                                 data_dir, TR, regress_rt=regress_rt, a_comp_cor=a_comp_cor)\n\u001b[0m\u001b[1;32m     12\u001b[0m             \u001b[0;32mif\u001b[0m \u001b[0msubjinfo\u001b[0m \u001b[0;32mis\u001b[0m \u001b[0;32mnot\u001b[0m \u001b[0;32mNone\u001b[0m\u001b[0;34m:\u001b[0m\u001b[0;34m\u001b[0m\u001b[0;34m\u001b[0m\u001b[0m\n\u001b[1;32m     13\u001b[0m                 \u001b[0mto_run\u001b[0m\u001b[0;34m.\u001b[0m\u001b[0mappend\u001b[0m\u001b[0;34m(\u001b[0m\u001b[0msubjinfo\u001b[0m\u001b[0;34m)\u001b[0m\u001b[0;34m\u001b[0m\u001b[0;34m\u001b[0m\u001b[0m\n",
      "\u001b[0;32m/scripts/utils/firstlevel_utils.py\u001b[0m in \u001b[0;36mmake_first_level_obj\u001b[0;34m(subject_id, task, fmriprep_dir, data_dir, TR, regress_rt, beta, a_comp_cor)\u001b[0m\n\u001b[1;32m     65\u001b[0m         \u001b[0mprint\u001b[0m\u001b[0;34m(\u001b[0m\u001b[0;34m\"Missing event files for %s: %s\"\u001b[0m \u001b[0;34m%\u001b[0m \u001b[0;34m(\u001b[0m\u001b[0msubject_id\u001b[0m\u001b[0;34m,\u001b[0m \u001b[0mtask\u001b[0m\u001b[0;34m)\u001b[0m\u001b[0;34m)\u001b[0m\u001b[0;34m\u001b[0m\u001b[0;34m\u001b[0m\u001b[0m\n\u001b[1;32m     66\u001b[0m         \u001b[0;32mreturn\u001b[0m \u001b[0;32mNone\u001b[0m\u001b[0;34m\u001b[0m\u001b[0;34m\u001b[0m\u001b[0m\n\u001b[0;32m---> 67\u001b[0;31m     \u001b[0mconfounds\u001b[0m \u001b[0;34m=\u001b[0m \u001b[0mget_confounds\u001b[0m\u001b[0;34m(\u001b[0m\u001b[0mfmriprep_dir\u001b[0m\u001b[0;34m,\u001b[0m \u001b[0msubject_id\u001b[0m\u001b[0;34m,\u001b[0m \u001b[0mtask\u001b[0m\u001b[0;34m)\u001b[0m\u001b[0;34m\u001b[0m\u001b[0;34m\u001b[0m\u001b[0m\n\u001b[0m\u001b[1;32m     68\u001b[0m     \u001b[0mdesign\u001b[0m \u001b[0;34m=\u001b[0m \u001b[0mcreate_design\u001b[0m\u001b[0;34m(\u001b[0m\u001b[0mevents\u001b[0m\u001b[0;34m,\u001b[0m \u001b[0mconfounds\u001b[0m\u001b[0;34m,\u001b[0m \u001b[0mtask\u001b[0m\u001b[0;34m,\u001b[0m \u001b[0mTR\u001b[0m\u001b[0;34m,\u001b[0m \u001b[0mbeta\u001b[0m\u001b[0;34m=\u001b[0m\u001b[0mbeta\u001b[0m\u001b[0;34m,\u001b[0m \u001b[0mregress_rt\u001b[0m\u001b[0;34m=\u001b[0m\u001b[0mregress_rt\u001b[0m\u001b[0;34m)\u001b[0m\u001b[0;34m\u001b[0m\u001b[0;34m\u001b[0m\u001b[0m\n\u001b[1;32m     69\u001b[0m     \u001b[0mcontrasts\u001b[0m \u001b[0;34m=\u001b[0m \u001b[0mget_contrasts\u001b[0m\u001b[0;34m(\u001b[0m\u001b[0mtask\u001b[0m\u001b[0;34m,\u001b[0m \u001b[0mregress_rt\u001b[0m\u001b[0;34m)\u001b[0m\u001b[0;34m\u001b[0m\u001b[0;34m\u001b[0m\u001b[0m\n",
      "\u001b[0;32m/scripts/utils/firstlevel_utils.py\u001b[0m in \u001b[0;36mget_confounds\u001b[0;34m(fmriprep_dir, subject_id, task)\u001b[0m\n\u001b[1;32m    295\u001b[0m                                '*%s*confounds_regressors.tsv' % task))[0]\n\u001b[1;32m    296\u001b[0m \u001b[0;34m\u001b[0m\u001b[0m\n\u001b[0;32m--> 297\u001b[0;31m     \u001b[0mregressors\u001b[0m\u001b[0;34m,\u001b[0m \u001b[0mregressor_names\u001b[0m \u001b[0;34m=\u001b[0m \u001b[0mprocess_confounds\u001b[0m\u001b[0;34m(\u001b[0m\u001b[0mconfounds_file\u001b[0m\u001b[0;34m)\u001b[0m\u001b[0;34m\u001b[0m\u001b[0;34m\u001b[0m\u001b[0m\n\u001b[0m\u001b[1;32m    298\u001b[0m     \u001b[0mconfounds\u001b[0m \u001b[0;34m=\u001b[0m \u001b[0mpd\u001b[0m\u001b[0;34m.\u001b[0m\u001b[0mDataFrame\u001b[0m\u001b[0;34m(\u001b[0m\u001b[0mregressors\u001b[0m\u001b[0;34m,\u001b[0m \u001b[0mcolumns\u001b[0m\u001b[0;34m=\u001b[0m\u001b[0mregressor_names\u001b[0m\u001b[0;34m)\u001b[0m\u001b[0;34m\u001b[0m\u001b[0;34m\u001b[0m\u001b[0m\n\u001b[1;32m    299\u001b[0m     \u001b[0;32mreturn\u001b[0m \u001b[0mconfounds\u001b[0m\u001b[0;34m\u001b[0m\u001b[0;34m\u001b[0m\u001b[0m\n",
      "\u001b[0;32m/scripts/utils/firstlevel_utils.py\u001b[0m in \u001b[0;36mprocess_confounds\u001b[0;34m(confounds_file, a_comp_cor)\u001b[0m\n\u001b[1;32m    187\u001b[0m     \"\"\"\n\u001b[1;32m    188\u001b[0m     confounds_df = pd.read_csv(confounds_file, sep = '\\t', \n\u001b[0;32m--> 189\u001b[0;31m                                na_values=['n/a']).fillna(0)\n\u001b[0m\u001b[1;32m    190\u001b[0m     \u001b[0mexcessive_movement\u001b[0m \u001b[0;34m=\u001b[0m \u001b[0;34m(\u001b[0m\u001b[0mconfounds_df\u001b[0m\u001b[0;34m.\u001b[0m\u001b[0mframewise_displacement\u001b[0m\u001b[0;34m>\u001b[0m\u001b[0;36m.5\u001b[0m\u001b[0;34m)\u001b[0m \u001b[0;34m&\u001b[0m\u001b[0;31m \u001b[0m\u001b[0;31m\\\u001b[0m\u001b[0;34m\u001b[0m\u001b[0;34m\u001b[0m\u001b[0m\n\u001b[1;32m    191\u001b[0m                             \u001b[0;34m(\u001b[0m\u001b[0mconfounds_df\u001b[0m\u001b[0;34m.\u001b[0m\u001b[0mstd_dvars\u001b[0m\u001b[0;34m>\u001b[0m\u001b[0;36m1.2\u001b[0m\u001b[0;34m)\u001b[0m\u001b[0;34m\u001b[0m\u001b[0;34m\u001b[0m\u001b[0m\n",
      "\u001b[0;32m/usr/local/miniconda/lib/python3.7/site-packages/pandas/io/parsers.py\u001b[0m in \u001b[0;36mparser_f\u001b[0;34m(filepath_or_buffer, sep, delimiter, header, names, index_col, usecols, squeeze, prefix, mangle_dupe_cols, dtype, engine, converters, true_values, false_values, skipinitialspace, skiprows, skipfooter, nrows, na_values, keep_default_na, na_filter, verbose, skip_blank_lines, parse_dates, infer_datetime_format, keep_date_col, date_parser, dayfirst, cache_dates, iterator, chunksize, compression, thousands, decimal, lineterminator, quotechar, quoting, doublequote, escapechar, comment, encoding, dialect, error_bad_lines, warn_bad_lines, delim_whitespace, low_memory, memory_map, float_precision)\u001b[0m\n\u001b[1;32m    683\u001b[0m         )\n\u001b[1;32m    684\u001b[0m \u001b[0;34m\u001b[0m\u001b[0m\n\u001b[0;32m--> 685\u001b[0;31m         \u001b[0;32mreturn\u001b[0m \u001b[0m_read\u001b[0m\u001b[0;34m(\u001b[0m\u001b[0mfilepath_or_buffer\u001b[0m\u001b[0;34m,\u001b[0m \u001b[0mkwds\u001b[0m\u001b[0;34m)\u001b[0m\u001b[0;34m\u001b[0m\u001b[0;34m\u001b[0m\u001b[0m\n\u001b[0m\u001b[1;32m    686\u001b[0m \u001b[0;34m\u001b[0m\u001b[0m\n\u001b[1;32m    687\u001b[0m     \u001b[0mparser_f\u001b[0m\u001b[0;34m.\u001b[0m\u001b[0m__name__\u001b[0m \u001b[0;34m=\u001b[0m \u001b[0mname\u001b[0m\u001b[0;34m\u001b[0m\u001b[0;34m\u001b[0m\u001b[0m\n",
      "\u001b[0;32m/usr/local/miniconda/lib/python3.7/site-packages/pandas/io/parsers.py\u001b[0m in \u001b[0;36m_read\u001b[0;34m(filepath_or_buffer, kwds)\u001b[0m\n\u001b[1;32m    461\u001b[0m \u001b[0;34m\u001b[0m\u001b[0m\n\u001b[1;32m    462\u001b[0m     \u001b[0;32mtry\u001b[0m\u001b[0;34m:\u001b[0m\u001b[0;34m\u001b[0m\u001b[0;34m\u001b[0m\u001b[0m\n\u001b[0;32m--> 463\u001b[0;31m         \u001b[0mdata\u001b[0m \u001b[0;34m=\u001b[0m \u001b[0mparser\u001b[0m\u001b[0;34m.\u001b[0m\u001b[0mread\u001b[0m\u001b[0;34m(\u001b[0m\u001b[0mnrows\u001b[0m\u001b[0;34m)\u001b[0m\u001b[0;34m\u001b[0m\u001b[0;34m\u001b[0m\u001b[0m\n\u001b[0m\u001b[1;32m    464\u001b[0m     \u001b[0;32mfinally\u001b[0m\u001b[0;34m:\u001b[0m\u001b[0;34m\u001b[0m\u001b[0;34m\u001b[0m\u001b[0m\n\u001b[1;32m    465\u001b[0m         \u001b[0mparser\u001b[0m\u001b[0;34m.\u001b[0m\u001b[0mclose\u001b[0m\u001b[0;34m(\u001b[0m\u001b[0;34m)\u001b[0m\u001b[0;34m\u001b[0m\u001b[0;34m\u001b[0m\u001b[0m\n",
      "\u001b[0;32m/usr/local/miniconda/lib/python3.7/site-packages/pandas/io/parsers.py\u001b[0m in \u001b[0;36mread\u001b[0;34m(self, nrows)\u001b[0m\n\u001b[1;32m   1152\u001b[0m     \u001b[0;32mdef\u001b[0m \u001b[0mread\u001b[0m\u001b[0;34m(\u001b[0m\u001b[0mself\u001b[0m\u001b[0;34m,\u001b[0m \u001b[0mnrows\u001b[0m\u001b[0;34m=\u001b[0m\u001b[0;32mNone\u001b[0m\u001b[0;34m)\u001b[0m\u001b[0;34m:\u001b[0m\u001b[0;34m\u001b[0m\u001b[0;34m\u001b[0m\u001b[0m\n\u001b[1;32m   1153\u001b[0m         \u001b[0mnrows\u001b[0m \u001b[0;34m=\u001b[0m \u001b[0m_validate_integer\u001b[0m\u001b[0;34m(\u001b[0m\u001b[0;34m\"nrows\"\u001b[0m\u001b[0;34m,\u001b[0m \u001b[0mnrows\u001b[0m\u001b[0;34m)\u001b[0m\u001b[0;34m\u001b[0m\u001b[0;34m\u001b[0m\u001b[0m\n\u001b[0;32m-> 1154\u001b[0;31m         \u001b[0mret\u001b[0m \u001b[0;34m=\u001b[0m \u001b[0mself\u001b[0m\u001b[0;34m.\u001b[0m\u001b[0m_engine\u001b[0m\u001b[0;34m.\u001b[0m\u001b[0mread\u001b[0m\u001b[0;34m(\u001b[0m\u001b[0mnrows\u001b[0m\u001b[0;34m)\u001b[0m\u001b[0;34m\u001b[0m\u001b[0;34m\u001b[0m\u001b[0m\n\u001b[0m\u001b[1;32m   1155\u001b[0m \u001b[0;34m\u001b[0m\u001b[0m\n\u001b[1;32m   1156\u001b[0m         \u001b[0;31m# May alter columns / col_dict\u001b[0m\u001b[0;34m\u001b[0m\u001b[0;34m\u001b[0m\u001b[0;34m\u001b[0m\u001b[0m\n",
      "\u001b[0;32m/usr/local/miniconda/lib/python3.7/site-packages/pandas/io/parsers.py\u001b[0m in \u001b[0;36mread\u001b[0;34m(self, nrows)\u001b[0m\n\u001b[1;32m   2057\u001b[0m     \u001b[0;32mdef\u001b[0m \u001b[0mread\u001b[0m\u001b[0;34m(\u001b[0m\u001b[0mself\u001b[0m\u001b[0;34m,\u001b[0m \u001b[0mnrows\u001b[0m\u001b[0;34m=\u001b[0m\u001b[0;32mNone\u001b[0m\u001b[0;34m)\u001b[0m\u001b[0;34m:\u001b[0m\u001b[0;34m\u001b[0m\u001b[0;34m\u001b[0m\u001b[0m\n\u001b[1;32m   2058\u001b[0m         \u001b[0;32mtry\u001b[0m\u001b[0;34m:\u001b[0m\u001b[0;34m\u001b[0m\u001b[0;34m\u001b[0m\u001b[0m\n\u001b[0;32m-> 2059\u001b[0;31m             \u001b[0mdata\u001b[0m \u001b[0;34m=\u001b[0m \u001b[0mself\u001b[0m\u001b[0;34m.\u001b[0m\u001b[0m_reader\u001b[0m\u001b[0;34m.\u001b[0m\u001b[0mread\u001b[0m\u001b[0;34m(\u001b[0m\u001b[0mnrows\u001b[0m\u001b[0;34m)\u001b[0m\u001b[0;34m\u001b[0m\u001b[0;34m\u001b[0m\u001b[0m\n\u001b[0m\u001b[1;32m   2060\u001b[0m         \u001b[0;32mexcept\u001b[0m \u001b[0mStopIteration\u001b[0m\u001b[0;34m:\u001b[0m\u001b[0;34m\u001b[0m\u001b[0;34m\u001b[0m\u001b[0m\n\u001b[1;32m   2061\u001b[0m             \u001b[0;32mif\u001b[0m \u001b[0mself\u001b[0m\u001b[0;34m.\u001b[0m\u001b[0m_first_chunk\u001b[0m\u001b[0;34m:\u001b[0m\u001b[0;34m\u001b[0m\u001b[0;34m\u001b[0m\u001b[0m\n",
      "\u001b[0;32mpandas/_libs/parsers.pyx\u001b[0m in \u001b[0;36mpandas._libs.parsers.TextReader.read\u001b[0;34m()\u001b[0m\n",
      "\u001b[0;32mpandas/_libs/parsers.pyx\u001b[0m in \u001b[0;36mpandas._libs.parsers.TextReader._read_low_memory\u001b[0;34m()\u001b[0m\n",
      "\u001b[0;32mpandas/_libs/parsers.pyx\u001b[0m in \u001b[0;36mpandas._libs.parsers.TextReader._read_rows\u001b[0;34m()\u001b[0m\n",
      "\u001b[0;32mpandas/_libs/parsers.pyx\u001b[0m in \u001b[0;36mpandas._libs.parsers.TextReader._tokenize_rows\u001b[0;34m()\u001b[0m\n",
      "\u001b[0;32mpandas/_libs/parsers.pyx\u001b[0m in \u001b[0;36mpandas._libs.parsers.raise_parser_error\u001b[0;34m()\u001b[0m\n",
      "\u001b[0;31mParserError\u001b[0m: Error tokenizing data. C error: Calling read(nbytes) on source failed. Try engine='python'."
     ]
    }
   ],
   "source": [
    "to_run = []\n",
    "for subject_id in subjects:\n",
    "    for task in tasks:\n",
    "        verboseprint('Setting up %s, %s' % (subject_id, task))\n",
    "        files = get_first_level_objs(subject_id, task, first_level_dir, regress_rt=regress_rt)\n",
    "        if len(files) == 0 or args.overwrite:\n",
    "            with warnings.catch_warnings():\n",
    "                warnings.filterwarnings(\"ignore\",category=DeprecationWarning)\n",
    "                warnings.filterwarnings(\"ignore\",category=UserWarning)\n",
    "                subjinfo = make_first_level_obj(subject_id, task, fmriprep_dir, \n",
    "                                                data_dir, TR, regress_rt=regress_rt, a_comp_cor=a_comp_cor)\n",
    "            if subjinfo is not None:\n",
    "                to_run.append(subjinfo)"
   ]
  },
  {
   "cell_type": "markdown",
   "metadata": {},
   "source": [
    "### Run model fit\n",
    "\n",
    "generate the glm and fit the timeseries data to it"
   ]
  },
  {
   "cell_type": "code",
   "execution_count": null,
   "metadata": {},
   "outputs": [],
   "source": [
    "for subjinfo in to_run:\n",
    "    verboseprint(subjinfo.ID)\n",
    "    verboseprint('** fitting model')\n",
    "    fmri_glm = FirstLevelModel(TR, \n",
    "                           subject_label = subjinfo.ID,\n",
    "                           mask=subjinfo.mask,\n",
    "                           noise_model='ar1',\n",
    "                           standardize=False, \n",
    "                           hrf_model='spm',\n",
    "                           drift_model='cosine',\n",
    "                           period_cut=80,\n",
    "                           n_jobs=1\n",
    "                          )\n",
    "    \n",
    "    if args.design_matrix:\n",
    "        verboseprint('** saving')\n",
    "        save_first_level_obj(subjinfo, first_level_dir, False)\n",
    "        subjinfo.export_design(first_level_dir)\n",
    "        subjinfo.export_events(first_level_dir)\n",
    "    else:\n",
    "        out = fmri_glm.fit(subjinfo.func, design_matrices=subjinfo.design)\n",
    "        subjinfo.fit_model = out\n",
    "\n",
    "        verboseprint('** saving')\n",
    "        save_first_level_obj(subjinfo, first_level_dir, True)\n",
    "        subjinfo.export_design(first_level_dir)\n",
    "        subjinfo.export_events(first_level_dir)\n"
   ]
  }
 ],
 "metadata": {
  "anaconda-cloud": {},
  "kernelspec": {
   "display_name": "Python 3",
   "language": "python",
   "name": "python3"
  },
  "language_info": {
   "codemirror_mode": {
    "name": "ipython",
    "version": 3
   },
   "file_extension": ".py",
   "mimetype": "text/x-python",
   "name": "python",
   "nbconvert_exporter": "python",
   "pygments_lexer": "ipython3",
   "version": "3.7.4"
  },
  "toc": {
   "colors": {
    "hover_highlight": "#DAA520",
    "running_highlight": "#FF0000",
    "selected_highlight": "#FFD700"
   },
   "moveMenuLeft": true,
   "nav_menu": {
    "height": "243px",
    "width": "252px"
   },
   "navigate_menu": true,
   "number_sections": true,
   "sideBar": true,
   "threshold": 4,
   "toc_cell": false,
   "toc_section_display": "block",
   "toc_window_display": false
  }
 },
 "nbformat": 4,
 "nbformat_minor": 4
}
