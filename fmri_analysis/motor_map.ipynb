{
 "cells": [
  {
   "cell_type": "markdown",
   "metadata": {
    "deletable": true,
    "editable": true
   },
   "source": [
    "### Imports"
   ]
  },
  {
   "cell_type": "code",
   "execution_count": 1,
   "metadata": {
    "collapsed": false,
    "deletable": true,
    "editable": true
   },
   "outputs": [
    {
     "name": "stdout",
     "output_type": "stream",
     "text": [
      "Populating the interactive namespace from numpy and matplotlib\n"
     ]
    }
   ],
   "source": [
    "%pylab inline\n",
    "from os.path import abspath, join\n",
    "from nipype.interfaces import afni\n",
    "from nipype.interfaces.fsl import Level1Design, FEATModel, FILMGLS, FEAT, maths\n",
    "from nipype.algorithms.modelgen import SpecifyModel\n",
    "from nipype.interfaces.utility import Function, IdentityInterface\n",
    "from nipype.interfaces.io import SelectFiles, DataSink\n",
    "from nipype.pipeline.engine import Workflow, Node\n",
    "import pandas as pd\n",
    "from glob import glob"
   ]
  },
  {
   "cell_type": "markdown",
   "metadata": {
    "deletable": true,
    "editable": true
   },
   "source": [
    "### Experiment Variables"
   ]
  },
  {
   "cell_type": "code",
   "execution_count": 2,
   "metadata": {
    "collapsed": false,
    "deletable": true,
    "editable": true
   },
   "outputs": [],
   "source": [
    "experiment_dir = abspath('.')\n",
    "output_dir = 'datasink'\n",
    "working_dir = 'workingdir'\n",
    "\n",
    "# list of subject identifiers\n",
    "subject_list = ['sub-s358']\n",
    "\n",
    "# list of task identifiers\n",
    "task_list = ['stroop']\n",
    "\n",
    "# TR of functional images\n",
    "TR = .68\n"
   ]
  },
  {
   "cell_type": "markdown",
   "metadata": {
    "deletable": true,
    "editable": true
   },
   "source": [
    "###  Specify Contrasts"
   ]
  },
  {
   "cell_type": "code",
   "execution_count": 3,
   "metadata": {
    "collapsed": true,
    "deletable": true,
    "editable": true
   },
   "outputs": [],
   "source": [
    "# Condition names\n",
    "condition_names = ['congruent','incongruent']\n",
    "\n",
    "# Contrasts\n",
    "cont01 = ['stroop','T', condition_names, [1,-1]]\n",
    "\n",
    "contrast_list = [cont01]"
   ]
  },
  {
   "cell_type": "markdown",
   "metadata": {
    "deletable": true,
    "editable": true
   },
   "source": [
    "# Set up Nodes"
   ]
  },
  {
   "cell_type": "markdown",
   "metadata": {
    "deletable": true,
    "editable": true
   },
   "source": [
    "### Specify GLM Model for Motor Contrast"
   ]
  },
  {
   "cell_type": "code",
   "execution_count": 4,
   "metadata": {
    "collapsed": false,
    "deletable": true,
    "editable": true
   },
   "outputs": [],
   "source": [
    "# helper function to create bunch\n",
    "def subjectinfo(subject_id, task, inspect_inputs=False):\n",
    "    \n",
    "    from glob import glob\n",
    "    import numpy as np\n",
    "    import pandas as pd\n",
    "    from os.path import join\n",
    "    from nipype.interfaces.base import Bunch\n",
    "    \n",
    "    base_dir = '/home/jovyan/work/output'\n",
    "    \n",
    "    # strip \"sub\" from beginning of subject_id if provided\n",
    "    subject_id = subject_id.replace('sub-','')\n",
    "    \n",
    "    ## Get the Events File\n",
    "    \n",
    "    # Read the TSV file and convert to pandas dataframe\n",
    "    event_file = glob(join(base_dir,\n",
    "                           'Data',\n",
    "                           'sub-%s' % subject_id,\n",
    "                           '*', 'func',\n",
    "                           '*%s*events.tsv' % task))[0]\n",
    "    events_df = pd.read_csv(event_file,sep = '\\t')\n",
    "\n",
    "    ## Get the Confounds File (output of fmriprep)\n",
    "    # Read the TSV file and convert to pandas dataframe\n",
    "    confounds_file = glob(join(base_dir,\n",
    "                               'Data',\n",
    "                               'sub-%s' % subject_id,\n",
    "                               '*', 'func',\n",
    "                               '*%s*confounds.tsv' % task))[0]\n",
    "    confounds_df = pd.read_csv(confounds_file, sep = '\\t', na_values=['n/a']).fillna(0)\n",
    "    # select relevant regressors\n",
    "    regressor_names = ['FramewiseDisplacement', \n",
    "                       'aCompCor0',\n",
    "                       'aCompCor1',\n",
    "                       'aCompCor2',\n",
    "                       'aCompCor3',\n",
    "                       'aCompCor4',\n",
    "                       'aCompCor5']\n",
    "    # convert selected regressors in dataframe to list of lists\n",
    "    regressors = confounds_df.loc[:,regressor_names].values.T.tolist()\n",
    "    \n",
    "    \n",
    "    \n",
    "    subjectinfo = Bunch(conditions=events_df.trial_type.unique(),\n",
    "                        onsets=[i[1].tolist() for i in events_df.groupby('trial_type').onset],\n",
    "                         durations=[i[1].tolist() for i in events_df.groupby('trial_type').duration],\n",
    "                         amplitudes=None,\n",
    "                         tmod=None,\n",
    "                         pmod=None,\n",
    "                         regressor_names=regressor_names,\n",
    "                         regressors=regressors)\n",
    "    if inspect_inputs==True:\n",
    "        return events_df, confounds_df\n",
    "    else:\n",
    "        return subjectinfo  # this output will later be returned to infosource\n",
    "\n"
   ]
  },
  {
   "cell_type": "markdown",
   "metadata": {
    "deletable": true,
    "editable": true
   },
   "source": [
    "View one events file used in subject info"
   ]
  },
  {
   "cell_type": "code",
   "execution_count": 5,
   "metadata": {
    "collapsed": false,
    "deletable": true,
    "editable": true,
    "scrolled": true
   },
   "outputs": [
    {
     "data": {
      "text/html": [
       "<div>\n",
       "<table border=\"1\" class=\"dataframe\">\n",
       "  <thead>\n",
       "    <tr style=\"text-align: right;\">\n",
       "      <th></th>\n",
       "      <th>onset</th>\n",
       "      <th>duration</th>\n",
       "      <th>response_time</th>\n",
       "      <th>block_duration</th>\n",
       "      <th>correct</th>\n",
       "      <th>experiment_exp_id</th>\n",
       "      <th>stim_color</th>\n",
       "      <th>stim_word</th>\n",
       "      <th>timing_post_trial</th>\n",
       "      <th>trial_num</th>\n",
       "      <th>trial_type</th>\n",
       "      <th>worker_id</th>\n",
       "    </tr>\n",
       "  </thead>\n",
       "  <tbody>\n",
       "    <tr>\n",
       "      <th>0</th>\n",
       "      <td>3.510</td>\n",
       "      <td>1.5</td>\n",
       "      <td>0.807</td>\n",
       "      <td>2272.0</td>\n",
       "      <td>1.0</td>\n",
       "      <td>stroop</td>\n",
       "      <td>blue</td>\n",
       "      <td>red</td>\n",
       "      <td>0.0</td>\n",
       "      <td>0.0</td>\n",
       "      <td>incongruent</td>\n",
       "      <td>s358</td>\n",
       "    </tr>\n",
       "    <tr>\n",
       "      <th>1</th>\n",
       "      <td>5.785</td>\n",
       "      <td>1.5</td>\n",
       "      <td>0.458</td>\n",
       "      <td>2000.0</td>\n",
       "      <td>1.0</td>\n",
       "      <td>stroop</td>\n",
       "      <td>blue</td>\n",
       "      <td>red</td>\n",
       "      <td>0.0</td>\n",
       "      <td>1.0</td>\n",
       "      <td>incongruent</td>\n",
       "      <td>s358</td>\n",
       "    </tr>\n",
       "    <tr>\n",
       "      <th>2</th>\n",
       "      <td>7.786</td>\n",
       "      <td>1.5</td>\n",
       "      <td>0.412</td>\n",
       "      <td>2000.0</td>\n",
       "      <td>1.0</td>\n",
       "      <td>stroop</td>\n",
       "      <td>blue</td>\n",
       "      <td>blue</td>\n",
       "      <td>0.0</td>\n",
       "      <td>2.0</td>\n",
       "      <td>congruent</td>\n",
       "      <td>s358</td>\n",
       "    </tr>\n",
       "    <tr>\n",
       "      <th>3</th>\n",
       "      <td>9.788</td>\n",
       "      <td>1.5</td>\n",
       "      <td>0.499</td>\n",
       "      <td>2000.0</td>\n",
       "      <td>1.0</td>\n",
       "      <td>stroop</td>\n",
       "      <td>green</td>\n",
       "      <td>green</td>\n",
       "      <td>0.0</td>\n",
       "      <td>3.0</td>\n",
       "      <td>congruent</td>\n",
       "      <td>s358</td>\n",
       "    </tr>\n",
       "    <tr>\n",
       "      <th>4</th>\n",
       "      <td>11.791</td>\n",
       "      <td>1.5</td>\n",
       "      <td>0.508</td>\n",
       "      <td>2000.0</td>\n",
       "      <td>1.0</td>\n",
       "      <td>stroop</td>\n",
       "      <td>blue</td>\n",
       "      <td>green</td>\n",
       "      <td>0.0</td>\n",
       "      <td>4.0</td>\n",
       "      <td>incongruent</td>\n",
       "      <td>s358</td>\n",
       "    </tr>\n",
       "  </tbody>\n",
       "</table>\n",
       "</div>"
      ],
      "text/plain": [
       "    onset  duration  response_time  block_duration  correct experiment_exp_id  \\\n",
       "0   3.510       1.5          0.807          2272.0      1.0            stroop   \n",
       "1   5.785       1.5          0.458          2000.0      1.0            stroop   \n",
       "2   7.786       1.5          0.412          2000.0      1.0            stroop   \n",
       "3   9.788       1.5          0.499          2000.0      1.0            stroop   \n",
       "4  11.791       1.5          0.508          2000.0      1.0            stroop   \n",
       "\n",
       "  stim_color stim_word  timing_post_trial  trial_num   trial_type worker_id  \n",
       "0       blue       red                0.0        0.0  incongruent      s358  \n",
       "1       blue       red                0.0        1.0  incongruent      s358  \n",
       "2       blue      blue                0.0        2.0    congruent      s358  \n",
       "3      green     green                0.0        3.0    congruent      s358  \n",
       "4       blue     green                0.0        4.0  incongruent      s358  "
      ]
     },
     "execution_count": 5,
     "metadata": {},
     "output_type": "execute_result"
    }
   ],
   "source": [
    "events_df,confounds_df = subjectinfo('s358','stroop',True)\n",
    "events_df.head()"
   ]
  },
  {
   "cell_type": "markdown",
   "metadata": {
    "deletable": true,
    "editable": true
   },
   "source": [
    "View bunch"
   ]
  },
  {
   "cell_type": "code",
   "execution_count": 6,
   "metadata": {
    "collapsed": false,
    "deletable": true,
    "editable": true,
    "scrolled": true
   },
   "outputs": [
    {
     "name": "stdout",
     "output_type": "stream",
     "text": [
      "Bunch Keys: \n"
     ]
    },
    {
     "data": {
      "text/plain": [
       "['amplitudes',\n",
       " 'pmod',\n",
       " 'durations',\n",
       " 'regressor_names',\n",
       " 'tmod',\n",
       " 'regressors',\n",
       " 'conditions',\n",
       " 'onsets']"
      ]
     },
     "execution_count": 6,
     "metadata": {},
     "output_type": "execute_result"
    }
   ],
   "source": [
    "bunch = subjectinfo('s358','stroop')\n",
    "print('Bunch Keys: ')\n",
    "[i[0] for i in bunch.items()]"
   ]
  },
  {
   "cell_type": "markdown",
   "metadata": {
    "deletable": true,
    "editable": true
   },
   "source": [
    "### Specify Input and Output Stream"
   ]
  },
  {
   "cell_type": "code",
   "execution_count": 7,
   "metadata": {
    "collapsed": false,
    "deletable": true,
    "editable": true,
    "scrolled": false
   },
   "outputs": [
    {
     "data": {
      "text/plain": [
       "\"\\n# Use the following DataSink output substitutions\\nsubstitutions = [('_subject_id_', '')]\\nsubjFolders = [('_fwhm_id_%s%s' % (f, sub), '%s_fwhm%s' % (sub, f))\\n               for f in fwhm\\n               for sub in subject_list]\\nsubstitutions.extend(subjFolders)\\ndatasink.inputs.substitutions = substitutions\\n\""
      ]
     },
     "execution_count": 7,
     "metadata": {},
     "output_type": "execute_result"
    }
   ],
   "source": [
    "# Get Subject Info - get subject specific condition information\n",
    "getsubjectinfo = Node(Function(input_names=['subject_id', 'task'],\n",
    "                               output_names=['subject_info'],\n",
    "                               function=subjectinfo),\n",
    "                      name='getsubjectinfo')\n",
    "\n",
    "# Infosource - a function free node to iterate over the list of subject names\n",
    "infosource = Node(IdentityInterface(fields=['subject_id',\n",
    "                                            'task',\n",
    "                                            'contrasts'],\n",
    "                                    contrasts=contrast_list),\n",
    "                  name=\"infosource\")\n",
    "infosource.iterables = [('subject_id', subject_list),\n",
    "                        ('task', task_list)]\n",
    "\n",
    "# SelectFiles - to grab the data (alternativ to DataGrabber)\n",
    "templates = {'func': join('Data', '{subject_id}','*','func',\n",
    "                         '*{task}*preproc.nii.gz'),\n",
    "            'mask': join('Data', '{subject_id}','*','func',\n",
    "                         '*{task}*brainmask.nii.gz')}\n",
    "selectfiles = Node(SelectFiles(templates,\n",
    "                               base_directory = experiment_dir,\n",
    "                               sort_filelist=True),\n",
    "                   name=\"selectfiles\")\n",
    "\n",
    "# Datasink - creates output folder for important outputs\n",
    "datasink = Node(DataSink(base_directory = experiment_dir,\n",
    "                         container=output_dir),\n",
    "                name=\"datasink\")\n",
    "\n",
    "\"\"\"\n",
    "# Use the following DataSink output substitutions\n",
    "substitutions = [('_subject_id_', '')]\n",
    "subjFolders = [('_fwhm_id_%s%s' % (f, sub), '%s_fwhm%s' % (sub, f))\n",
    "               for f in fwhm\n",
    "               for sub in subject_list]\n",
    "substitutions.extend(subjFolders)\n",
    "datasink.inputs.substitutions = substitutions\n",
    "\"\"\""
   ]
  },
  {
   "cell_type": "markdown",
   "metadata": {
    "deletable": true,
    "editable": true
   },
   "source": [
    "### Model Specification"
   ]
  },
  {
   "cell_type": "code",
   "execution_count": 8,
   "metadata": {
    "collapsed": false,
    "deletable": true,
    "editable": true
   },
   "outputs": [],
   "source": [
    "# mask and blur\n",
    "masker = Node(maths.ApplyMask(),name='masker')\n",
    "\n",
    "# SpecifyModel - Generates FSL-specific Model\n",
    "modelspec = Node(SpecifyModel(input_units='secs',\n",
    "                              time_repetition=TR,\n",
    "                              high_pass_filter_cutoff=128),\n",
    "                 name=\"modelspec\")\n",
    "\n",
    "# Level1Design - Generates an FSL design matrix\n",
    "level1design = Node(Level1Design(bases={'dgamma':{'derivs': True}},\n",
    "                                 interscan_interval=TR,\n",
    "                                 model_serial_correlations=True,\n",
    "                                 contrasts=contrast_list),\n",
    "                    name=\"level1design\")\n",
    "\n",
    "# FEATmodel\n",
    "level1model = Node(FEATModel(), name=\"FEATModel\")\n",
    "\n",
    "# FILMGLs\n",
    "filmgls = Node(FILMGLS(autocorr_noestimate = True), name=\"FILMGLS\")"
   ]
  },
  {
   "cell_type": "markdown",
   "metadata": {
    "deletable": true,
    "editable": true
   },
   "source": [
    "# Run as separate nodes"
   ]
  },
  {
   "cell_type": "code",
   "execution_count": null,
   "metadata": {
    "collapsed": false,
    "deletable": true,
    "editable": true,
    "scrolled": true
   },
   "outputs": [],
   "source": [
    "getsubjectinfo.inputs.subject_id = 'sub-s358'\n",
    "getsubjectinfo.inputs.task = 'stroop'\n",
    "subject_info = getsubjectinfo.run().outputs.subject_info\n",
    "\n",
    "selectfiles.inputs.subject_id = 'sub-s358'\n",
    "selectfiles.inputs.task = 'stroop'\n",
    "selectfiles_out = selectfiles.run()\n",
    "\n",
    "masker.inputs.in_file = selectfiles_out.outputs.func\n",
    "masker.inputs.mask_file = selectfiles_out.outputs.mask\n",
    "masker_out = masker.run()\n",
    "\n",
    "modelspec.inputs.subject_info = subject_info\n",
    "modelspec.inputs.functional_runs = masker_out.outputs.out_file\n",
    "modelspec_out = modelspec.run()\n",
    "\n",
    "level1design.inputs.session_info = modelspec_out.outputs.session_info\n",
    "level1design_out = level1design.run()\n",
    "level1design_out.outputs\n",
    "\n",
    "level1model.inputs.fsf_file = level1design_out.outputs.fsf_files\n",
    "level1model.inputs.ev_files = level1design_out.outputs.ev_files\n",
    "out=level1model.run()\n",
    "\n",
    "filmgls.inputs.in_file = masker_out.outputs.out_file\n",
    "filmgls.inputs.design_file = out.outputs.design_file\n",
    "filmgls.inputs.tcon_file = out.outputs.con_file\n",
    "filmgls.inputs.fcon_file = out.outputs.fcon_file\n",
    "fil_out = filmgls.run()\n"
   ]
  },
  {
   "cell_type": "code",
   "execution_count": 11,
   "metadata": {
    "collapsed": false,
    "deletable": true,
    "editable": true,
    "scrolled": false
   },
   "outputs": [
    {
     "data": {
      "image/png": "[encoded data removed]",
      "text/plain": [
       "<matplotlib.figure.Figure at 0x7fc496a925d0>"
      ]
     },
     "metadata": {},
     "output_type": "display_data"
    },
    {
     "data": {
      "text/plain": [
       "<matplotlib.text.Text at 0x7fc49362b650>"
      ]
     },
     "execution_count": 11,
     "metadata": {},
     "output_type": "execute_result"
    },
    {
     "data": {
      "image/png": "[encoded data removed]",
      "text/plain": [
       "<matplotlib.figure.Figure at 0x7fc4935f1510>"
      ]
     },
     "metadata": {},
     "output_type": "display_data"
    }
   ],
   "source": [
    "desmtx=numpy.loadtxt(out.outputs.design_file,skiprows=5)\n",
    "plt.imshow(desmtx,aspect='auto',interpolation='nearest',cmap='gray')\n",
    "plt.title('Design Matrix')\n",
    "plt.show()\n",
    "cc=numpy.corrcoef(desmtx.T)\n",
    "plt.imshow(cc,aspect='auto',interpolation='nearest', cmap=plt.cm.viridis)\n",
    "plt.colorbar()\n",
    "plt.title('Correlation of Regressors')"
   ]
  },
  {
   "cell_type": "code",
   "execution_count": null,
   "metadata": {
    "collapsed": false,
    "deletable": true,
    "editable": true
   },
   "outputs": [],
   "source": [
    "import nilearn.plotting\n",
    "import nilearn.image\n",
    "t_map = fil_out.outputs.zstats\n",
    "nilearn.plotting.plot_glass_brain(nilearn.image.smooth_img(t_map, 4),\n",
    "                                      display_mode='lyrz', colorbar=True, plot_abs=False, threshold=2.3)"
   ]
  },
  {
   "cell_type": "markdown",
   "metadata": {
    "deletable": true,
    "editable": true
   },
   "source": [
    "# Workflow"
   ]
  },
  {
   "cell_type": "code",
   "execution_count": 12,
   "metadata": {
    "collapsed": false,
    "deletable": true,
    "editable": true
   },
   "outputs": [],
   "source": [
    "# Initiation of the 1st-level analysis workflow\n",
    "l1analysis = Workflow(name='l1analysis')\n",
    "l1analysis.base_dir = join(experiment_dir, working_dir)\n",
    "\n",
    "# Connect up the 1st-level analysis components\n",
    "l1analysis.connect([(infosource, selectfiles, [('subject_id', 'subject_id'),\n",
    "                                               ('task', 'task')]),\n",
    "                    (infosource, getsubjectinfo, [('subject_id','subject_id'),\n",
    "                                                 ('task', 'task')]),\n",
    "                    (getsubjectinfo, modelspec, [('subject_info',\n",
    "                                                  'subject_info')]),\n",
    "                    (selectfiles, masker, [('mask', 'mask_file')]),\n",
    "                    (masker, modelspec, [('out_file', 'functional_runs')]),\n",
    "                    (modelspec, level1design, [('session_info',\n",
    "                                                'session_info')]),\n",
    "                    (level1design, level1model, [('ev_files', 'ev_files'),\n",
    "                                                 ('fsf_files','fsf_file')]),\n",
    "                    (masker, filmgls, [('out_file', 'in_file')]),\n",
    "                    (level1model, filmgls, [('design_file', 'design_file'),\n",
    "                                            ('con_file', 'tcon_file'),\n",
    "                                            ('fcon_file', 'fcon_file')])\n",
    "                    ])"
   ]
  },
  {
   "cell_type": "markdown",
   "metadata": {
    "deletable": true,
    "editable": true
   },
   "source": [
    "### Visualize Workflow"
   ]
  },
  {
   "cell_type": "code",
   "execution_count": 13,
   "metadata": {
    "collapsed": false,
    "deletable": true,
    "editable": true,
    "scrolled": true
   },
   "outputs": [
    {
     "name": "stdout",
     "output_type": "stream",
     "text": [
      "170516-22:59:25,663 workflow INFO:\n",
      "\t Converting dotfile: /home/jovyan/work/output/workingdir/l1analysis/graph.dot to png format\n"
     ]
    },
    {
     "data": {
      "image/png": "[encoded data removed]",
      "text/plain": [
       "<IPython.core.display.Image object>"
      ]
     },
     "execution_count": 13,
     "metadata": {},
     "output_type": "execute_result"
    }
   ],
   "source": [
    "# Create 1st-level analysis output graph\n",
    "l1analysis.write_graph(graph2use='colored', format='png', simple_form=True)\n",
    "\n",
    "# Visualize the graph\n",
    "from IPython.display import Image\n",
    "Image(filename=join(l1analysis.base_dir, 'l1analysis', 'graph.dot.png'))"
   ]
  },
  {
   "cell_type": "markdown",
   "metadata": {
    "deletable": true,
    "editable": true
   },
   "source": [
    "### Run the Workflow\n"
   ]
  },
  {
   "cell_type": "code",
   "execution_count": 14,
   "metadata": {
    "collapsed": false,
    "deletable": true,
    "editable": true
   },
   "outputs": [
    {
     "name": "stdout",
     "output_type": "stream",
     "text": [
      "170516-22:59:29,328 workflow INFO:\n",
      "\t Workflow l1analysis settings: ['check', 'execution', 'logging']\n",
      "170516-22:59:29,380 workflow INFO:\n",
      "\t Running serially.\n",
      "170516-22:59:29,382 workflow INFO:\n",
      "\t Executing node selectfiles.a0 in dir: /home/jovyan/work/output/workingdir/l1analysis/_subject_id_sub-s358_task_stroop/selectfiles\n",
      "170516-22:59:29,409 workflow INFO:\n",
      "\t Executing node masker.a0 in dir: /home/jovyan/work/output/workingdir/l1analysis/_subject_id_sub-s358_task_stroop/masker\n",
      "170516-22:59:29,426 workflow INFO:\n",
      "\t Running: fslmaths /home/jovyan/work/output/Data/sub-s358/ses-2/func/sub-s358_ses-2_task-stroop_run-1_bold_space-MNI152NLin2009cAsym_preproc.nii.gz -mas /home/jovyan/work/output/Data/sub-s358/ses-2/func/sub-s358_ses-2_task-stroop_run-1_bold_space-MNI152NLin2009cAsym_brainmask.nii.gz /home/jovyan/work/output/workingdir/l1analysis/_subject_id_sub-s358_task_stroop/masker/sub-s358_ses-2_task-stroop_run-1_bold_space-MNI152NLin2009cAsym_preproc_masked.nii.gz\n",
      "170516-23:00:06,756 workflow INFO:\n",
      "\t Executing node getsubjectinfo.a0 in dir: /home/jovyan/work/output/workingdir/l1analysis/_subject_id_sub-s358_task_stroop/getsubjectinfo\n",
      "170516-23:00:06,904 workflow INFO:\n",
      "\t Executing node modelspec.a0 in dir: /home/jovyan/work/output/workingdir/l1analysis/_subject_id_sub-s358_task_stroop/modelspec\n",
      "170516-23:00:07,444 workflow INFO:\n",
      "\t Executing node level1design.a0 in dir: /home/jovyan/work/output/workingdir/l1analysis/_subject_id_sub-s358_task_stroop/level1design\n",
      "170516-23:00:07,830 workflow INFO:\n",
      "\t Executing node FEATModel.a0 in dir: /home/jovyan/work/output/workingdir/l1analysis/_subject_id_sub-s358_task_stroop/FEATModel\n",
      "170516-23:00:07,844 workflow INFO:\n",
      "\t Running: feat_model  \n",
      "170516-23:00:07,895 interface INFO:\n",
      "\t stderr 2017-05-16T23:00:07.895176:feat_model: /opt/mcr/v91/bin/glnxa64/libtiff.so.5: no version information available (required by /usr/lib/x86_64-linux-gnu/libgd.so.3)\n",
      "170516-23:00:08,400 interface INFO:\n",
      "\t stdout 2017-05-16T23:00:08.400905:Usage: feat_model <design_name_root> [confound matrix text file]\n",
      "170516-23:00:08,906 workflow ERROR:\n",
      "\t [u'Node FEATModel.a0 failed to run on host f2c8a4b8bc00.']\n",
      "170516-23:00:08,908 workflow INFO:\n",
      "\t Saving crash info to /home/jovyan/work/output/crash-20170516-230008-jovyan-FEATModel.a0-b3b16b2f-6fad-4cc0-a049-d38ce71d42ed.pklz\n",
      "170516-23:00:08,909 workflow INFO:\n",
      "\t Traceback (most recent call last):\n",
      "  File \"/opt/conda/envs/python2/lib/python2.7/site-packages/nipype-0.13.0rc1-py2.7.egg/nipype/pipeline/plugins/linear.py\", line 43, in run\n",
      "    node.run(updatehash=updatehash)\n",
      "  File \"/opt/conda/envs/python2/lib/python2.7/site-packages/nipype-0.13.0rc1-py2.7.egg/nipype/pipeline/engine/nodes.py\", line 366, in run\n",
      "    self._run_interface()\n",
      "  File \"/opt/conda/envs/python2/lib/python2.7/site-packages/nipype-0.13.0rc1-py2.7.egg/nipype/pipeline/engine/nodes.py\", line 476, in _run_interface\n",
      "    self._result = self._run_command(execute)\n",
      "  File \"/opt/conda/envs/python2/lib/python2.7/site-packages/nipype-0.13.0rc1-py2.7.egg/nipype/pipeline/engine/nodes.py\", line 607, in _run_command\n",
      "    result = self._interface.run()\n",
      "  File \"/opt/conda/envs/python2/lib/python2.7/site-packages/nipype-0.13.0rc1-py2.7.egg/nipype/interfaces/base.py\", line 1085, in run\n",
      "    runtime = self._run_wrapper(runtime)\n",
      "  File \"/opt/conda/envs/python2/lib/python2.7/site-packages/nipype-0.13.0rc1-py2.7.egg/nipype/interfaces/base.py\", line 1728, in _run_wrapper\n",
      "    runtime = self._run_interface(runtime)\n",
      "  File \"/opt/conda/envs/python2/lib/python2.7/site-packages/nipype-0.13.0rc1-py2.7.egg/nipype/interfaces/base.py\", line 1762, in _run_interface\n",
      "    self.raise_exception(runtime)\n",
      "  File \"/opt/conda/envs/python2/lib/python2.7/site-packages/nipype-0.13.0rc1-py2.7.egg/nipype/interfaces/base.py\", line 1686, in raise_exception\n",
      "    **runtime.dictcopy()))\n",
      "RuntimeError: Command:\n",
      "feat_model  \n",
      "Standard output:\n",
      "Usage: feat_model <design_name_root> [confound matrix text file]\n",
      "Standard error:\n",
      "feat_model: /opt/mcr/v91/bin/glnxa64/libtiff.so.5: no version information available (required by /usr/lib/x86_64-linux-gnu/libgd.so.3)\n",
      "Return code: 1\n",
      "Interface FEATModel failed to run. \n",
      "\n",
      "170516-23:00:08,919 workflow INFO:\n",
      "\t ***********************************\n",
      "170516-23:00:08,920 workflow ERROR:\n",
      "\t could not run node: l1analysis.FEATModel.a0\n",
      "170516-23:00:08,921 workflow INFO:\n",
      "\t crashfile: /home/jovyan/work/output/crash-20170516-230008-jovyan-FEATModel.a0-b3b16b2f-6fad-4cc0-a049-d38ce71d42ed.pklz\n",
      "170516-23:00:08,922 workflow INFO:\n",
      "\t ***********************************\n"
     ]
    },
    {
     "ename": "RuntimeError",
     "evalue": "Workflow did not execute cleanly. Check log for details",
     "output_type": "error",
     "traceback": [
      "\u001b[0;31m---------------------------------------------------------------------------\u001b[0m",
      "\u001b[0;31mRuntimeError\u001b[0m                              Traceback (most recent call last)",
      "\u001b[0;32m<ipython-input-14-f07b03d1f5c5>\u001b[0m in \u001b[0;36m<module>\u001b[0;34m()\u001b[0m\n\u001b[0;32m----> 1\u001b[0;31m \u001b[0ml1analysis\u001b[0m\u001b[0;34m.\u001b[0m\u001b[0mrun\u001b[0m\u001b[0;34m(\u001b[0m\u001b[0;34m)\u001b[0m\u001b[0;34m\u001b[0m\u001b[0m\n\u001b[0m",
      "\u001b[0;32m/opt/conda/envs/python2/lib/python2.7/site-packages/nipype-0.13.0rc1-py2.7.egg/nipype/pipeline/engine/workflows.pyc\u001b[0m in \u001b[0;36mrun\u001b[0;34m(self, plugin, plugin_args, updatehash)\u001b[0m\n\u001b[1;32m    581\u001b[0m         \u001b[0;32mif\u001b[0m \u001b[0mstr2bool\u001b[0m\u001b[0;34m(\u001b[0m\u001b[0mself\u001b[0m\u001b[0;34m.\u001b[0m\u001b[0mconfig\u001b[0m\u001b[0;34m[\u001b[0m\u001b[0;34m'execution'\u001b[0m\u001b[0;34m]\u001b[0m\u001b[0;34m[\u001b[0m\u001b[0;34m'create_report'\u001b[0m\u001b[0;34m]\u001b[0m\u001b[0;34m)\u001b[0m\u001b[0;34m:\u001b[0m\u001b[0;34m\u001b[0m\u001b[0m\n\u001b[1;32m    582\u001b[0m             \u001b[0mself\u001b[0m\u001b[0;34m.\u001b[0m\u001b[0m_write_report_info\u001b[0m\u001b[0;34m(\u001b[0m\u001b[0mself\u001b[0m\u001b[0;34m.\u001b[0m\u001b[0mbase_dir\u001b[0m\u001b[0;34m,\u001b[0m \u001b[0mself\u001b[0m\u001b[0;34m.\u001b[0m\u001b[0mname\u001b[0m\u001b[0;34m,\u001b[0m \u001b[0mexecgraph\u001b[0m\u001b[0;34m)\u001b[0m\u001b[0;34m\u001b[0m\u001b[0m\n\u001b[0;32m--> 583\u001b[0;31m         \u001b[0mrunner\u001b[0m\u001b[0;34m.\u001b[0m\u001b[0mrun\u001b[0m\u001b[0;34m(\u001b[0m\u001b[0mexecgraph\u001b[0m\u001b[0;34m,\u001b[0m \u001b[0mupdatehash\u001b[0m\u001b[0;34m=\u001b[0m\u001b[0mupdatehash\u001b[0m\u001b[0;34m,\u001b[0m \u001b[0mconfig\u001b[0m\u001b[0;34m=\u001b[0m\u001b[0mself\u001b[0m\u001b[0;34m.\u001b[0m\u001b[0mconfig\u001b[0m\u001b[0;34m)\u001b[0m\u001b[0;34m\u001b[0m\u001b[0m\n\u001b[0m\u001b[1;32m    584\u001b[0m         \u001b[0mdatestr\u001b[0m \u001b[0;34m=\u001b[0m \u001b[0mdatetime\u001b[0m\u001b[0;34m.\u001b[0m\u001b[0mutcnow\u001b[0m\u001b[0;34m(\u001b[0m\u001b[0;34m)\u001b[0m\u001b[0;34m.\u001b[0m\u001b[0mstrftime\u001b[0m\u001b[0;34m(\u001b[0m\u001b[0;34m'%Y%m%dT%H%M%S'\u001b[0m\u001b[0;34m)\u001b[0m\u001b[0;34m\u001b[0m\u001b[0m\n\u001b[1;32m    585\u001b[0m         \u001b[0;32mif\u001b[0m \u001b[0mstr2bool\u001b[0m\u001b[0;34m(\u001b[0m\u001b[0mself\u001b[0m\u001b[0;34m.\u001b[0m\u001b[0mconfig\u001b[0m\u001b[0;34m[\u001b[0m\u001b[0;34m'execution'\u001b[0m\u001b[0;34m]\u001b[0m\u001b[0;34m[\u001b[0m\u001b[0;34m'write_provenance'\u001b[0m\u001b[0;34m]\u001b[0m\u001b[0;34m)\u001b[0m\u001b[0;34m:\u001b[0m\u001b[0;34m\u001b[0m\u001b[0m\n",
      "\u001b[0;32m/opt/conda/envs/python2/lib/python2.7/site-packages/nipype-0.13.0rc1-py2.7.egg/nipype/pipeline/plugins/linear.pyc\u001b[0m in \u001b[0;36mrun\u001b[0;34m(self, graph, config, updatehash)\u001b[0m\n\u001b[1;32m     59\u001b[0m                 \u001b[0;32mif\u001b[0m \u001b[0mself\u001b[0m\u001b[0;34m.\u001b[0m\u001b[0m_status_callback\u001b[0m\u001b[0;34m:\u001b[0m\u001b[0;34m\u001b[0m\u001b[0m\n\u001b[1;32m     60\u001b[0m                     \u001b[0mself\u001b[0m\u001b[0;34m.\u001b[0m\u001b[0m_status_callback\u001b[0m\u001b[0;34m(\u001b[0m\u001b[0mnode\u001b[0m\u001b[0;34m,\u001b[0m \u001b[0;34m'exception'\u001b[0m\u001b[0;34m)\u001b[0m\u001b[0;34m\u001b[0m\u001b[0m\n\u001b[0;32m---> 61\u001b[0;31m         \u001b[0mreport_nodes_not_run\u001b[0m\u001b[0;34m(\u001b[0m\u001b[0mnotrun\u001b[0m\u001b[0;34m)\u001b[0m\u001b[0;34m\u001b[0m\u001b[0m\n\u001b[0m",
      "\u001b[0;32m/opt/conda/envs/python2/lib/python2.7/site-packages/nipype-0.13.0rc1-py2.7.egg/nipype/pipeline/plugins/base.pyc\u001b[0m in \u001b[0;36mreport_nodes_not_run\u001b[0;34m(notrun)\u001b[0m\n\u001b[1;32m     93\u001b[0m                 \u001b[0mlogger\u001b[0m\u001b[0;34m.\u001b[0m\u001b[0mdebug\u001b[0m\u001b[0;34m(\u001b[0m\u001b[0msubnode\u001b[0m\u001b[0;34m.\u001b[0m\u001b[0m_id\u001b[0m\u001b[0;34m)\u001b[0m\u001b[0;34m\u001b[0m\u001b[0m\n\u001b[1;32m     94\u001b[0m         \u001b[0mlogger\u001b[0m\u001b[0;34m.\u001b[0m\u001b[0minfo\u001b[0m\u001b[0;34m(\u001b[0m\u001b[0;34m\"***********************************\"\u001b[0m\u001b[0;34m)\u001b[0m\u001b[0;34m\u001b[0m\u001b[0m\n\u001b[0;32m---> 95\u001b[0;31m         raise RuntimeError(('Workflow did not execute cleanly. '\n\u001b[0m\u001b[1;32m     96\u001b[0m                             'Check log for details'))\n\u001b[1;32m     97\u001b[0m \u001b[0;34m\u001b[0m\u001b[0m\n",
      "\u001b[0;31mRuntimeError\u001b[0m: Workflow did not execute cleanly. Check log for details"
     ]
    }
   ],
   "source": [
    "l1analysis.run()"
   ]
  },
  {
   "cell_type": "markdown",
   "metadata": {
    "deletable": true,
    "editable": true
   },
   "source": [
    "### Visualize Design Matrix"
   ]
  },
  {
   "cell_type": "code",
   "execution_count": null,
   "metadata": {
    "collapsed": false,
    "deletable": true,
    "editable": true
   },
   "outputs": [],
   "source": [
    "!tree datasink/1stLevel/_subject*\n"
   ]
  },
  {
   "cell_type": "code",
   "execution_count": null,
   "metadata": {
    "collapsed": false,
    "deletable": true,
    "editable": true,
    "scrolled": true
   },
   "outputs": [],
   "source": [
    "desmtx=numpy.loadtxt(out.outputs.design_file,skiprows=5)\n",
    "plt.imshow(desmtx,aspect='auto',interpolation='nearest',cmap='gray')\n",
    "plt.title('Design Matrix')\n",
    "plt.show()\n",
    "cc=numpy.corrcoef(desmtx.T)\n",
    "plt.imshow(cc,aspect='auto',interpolation='nearest', cmap=plt.cm.viridis)\n",
    "plt.colorbar()\n",
    "plt.title('Correlation of Regressors')"
   ]
  },
  {
   "cell_type": "markdown",
   "metadata": {
    "deletable": true,
    "editable": true
   },
   "source": [
    "### Visualize Results"
   ]
  },
  {
   "cell_type": "code",
   "execution_count": null,
   "metadata": {
    "collapsed": true,
    "deletable": true,
    "editable": true
   },
   "outputs": [],
   "source": [
    "from nilearn.plotting import plot_stat_map\n",
    "anatimg = '/data/ds102/sub-01/anat/sub-01_T1w.nii.gz'\n",
    "plot_stat_map(\n",
    "    '/output/datasink/1stLevel/sub-01_fwhm4/spmT_0001.nii', title='average - fwhm=4',\n",
    "    bg_img=anatimg, threshold=3, display_mode='z', cut_coords=(-30, -15, 0, 15, 30), dim=-1)\n",
    "plot_stat_map(\n",
    "    '/output/datasink/1stLevel/sub-01_fwhm8/spmT_0001.nii', title='average - fwhm=8',\n",
    "    bg_img=anatimg, threshold=3, display_mode='z', cut_coords=(-30, -15, 0, 15, 30), dim=-1)"
   ]
  }
 ],
 "metadata": {
  "kernelspec": {
   "display_name": "Python [conda env:python2]",
   "language": "python",
   "name": "conda-env-python2-py"
  },
  "language_info": {
   "codemirror_mode": {
    "name": "ipython",
    "version": 2
   },
   "file_extension": ".py",
   "mimetype": "text/x-python",
   "name": "python",
   "nbconvert_exporter": "python",
   "pygments_lexer": "ipython2",
   "version": "2.7.12"
  }
 },
 "nbformat": 4,
 "nbformat_minor": 2
}
