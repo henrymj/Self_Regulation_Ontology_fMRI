{
 "cells": [
  {
   "cell_type": "code",
   "execution_count": null,
   "metadata": {},
   "outputs": [],
   "source": [
    "from nilearn import plotting \n",
    "from nistats.thresholding import map_threshold\n",
    "from utils.secondlevel_utils import load_contrast_maps"
   ]
  },
  {
   "cell_type": "code",
   "execution_count": null,
   "metadata": {},
   "outputs": [],
   "source": [
    "second_level_dir = '/mnt/OAK/data/uh2/BIDS_data/derivatives/2ndlevel/'"
   ]
  },
  {
   "cell_type": "code",
   "execution_count": null,
   "metadata": {},
   "outputs": [],
   "source": [
    "maps = load_contrast_maps(second_level_dir, 'stopSignal')\n",
    "for name in sorted(maps.keys()):\n",
    "    zmap = maps[name]\n",
    "    thresholded_map, threshold = map_threshold(\n",
    "                            zmap, level=.05, height_control='fdr')\n",
    "    plotting.plot_stat_map(zmap, title='Raw %s' % name)\n",
    "    plotting.plot_stat_map(thresholded_map, title='Corrected %s' % name)"
   ]
  },
  {
   "cell_type": "code",
   "execution_count": null,
   "metadata": {},
   "outputs": [],
   "source": []
  }
 ],
 "metadata": {
  "kernelspec": {
   "display_name": "Python 3",
   "language": "python",
   "name": "python3"
  },
  "language_info": {
   "codemirror_mode": {
    "name": "ipython",
    "version": 3
   },
   "file_extension": ".py",
   "mimetype": "text/x-python",
   "name": "python",
   "nbconvert_exporter": "python",
   "pygments_lexer": "ipython3",
   "version": "3.5.3"
  }
 },
 "nbformat": 4,
 "nbformat_minor": 2
}
