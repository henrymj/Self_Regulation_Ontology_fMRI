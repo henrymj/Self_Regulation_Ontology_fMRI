{
 "cells": [
  {
   "cell_type": "markdown",
   "metadata": {
    "deletable": true,
    "editable": true
   },
   "source": [
    "### Imports"
   ]
  },
  {
   "cell_type": "code",
   "execution_count": 1,
   "metadata": {
    "collapsed": false,
    "deletable": true,
    "editable": true
   },
   "outputs": [
    {
     "name": "stdout",
     "output_type": "stream",
     "text": [
      "Populating the interactive namespace from numpy and matplotlib\n"
     ]
    }
   ],
   "source": [
    "%pylab inline\n",
    "from os.path import abspath, join\n",
    "from nipype.interfaces.spm import Level1Design, EstimateModel, EstimateContrast\n",
    "from nipype.algorithms.modelgen import SpecifySPMModel\n",
    "from nipype.interfaces.utility import Function, IdentityInterface\n",
    "from nipype.interfaces.io import SelectFiles, DataSink\n",
    "from nipype.pipeline.engine import Workflow, Node\n",
    "import pandas as pd\n",
    "from glob import glob"
   ]
  },
  {
   "cell_type": "markdown",
   "metadata": {},
   "source": [
    "### Experiment Variables"
   ]
  },
  {
   "cell_type": "code",
   "execution_count": 2,
   "metadata": {
    "collapsed": true
   },
   "outputs": [],
   "source": [
    "output_dir = 'datasink'\n",
    "working_dir = 'workingdir'\n",
    "\n",
    "# list of subject identifiers\n",
    "subject_list = ['sub-s358']\n",
    "\n",
    "# list of task identifiers\n",
    "task_list = ['stroop']\n",
    "\n",
    "# TR of functional images\n",
    "TR = .68\n"
   ]
  },
  {
   "cell_type": "markdown",
   "metadata": {},
   "source": [
    "###  Specify Contrasts"
   ]
  },
  {
   "cell_type": "code",
   "execution_count": 3,
   "metadata": {
    "collapsed": true
   },
   "outputs": [],
   "source": [
    "# Condition names\n",
    "condition_names = ['response']\n",
    "\n",
    "# Contrasts\n",
    "cont01 = ['average','T', condition_names, [1]]\n",
    "\n",
    "contrast_list = [cont01]"
   ]
  },
  {
   "cell_type": "markdown",
   "metadata": {},
   "source": [
    "### Specify GLM Model for Motor Contrast"
   ]
  },
  {
   "cell_type": "code",
   "execution_count": 4,
   "metadata": {
    "collapsed": false
   },
   "outputs": [],
   "source": [
    "def subjectinfo(subject_id, task):\n",
    "    \n",
    "    from glob import glob\n",
    "    import numpy as np\n",
    "    import pandas as pd\n",
    "    from os.path import join\n",
    "    from nipype.interfaces.base import Bunch\n",
    "    \n",
    "    base_dir = '/home/jovyan/work/output'\n",
    "    \n",
    "    # strip \"sub\" from beginning of subject_id if provided\n",
    "    subject_id = subject_id.replace('sub-','')\n",
    "    \n",
    "    ## Get the Events File\n",
    "    \n",
    "    # Read the TSV file and convert to pandas dataframe\n",
    "    event_file = glob(join(base_dir,\n",
    "                           'Data',\n",
    "                           'sub-%s' % subject_id,\n",
    "                           '*', 'func',\n",
    "                           '*%s*events.tsv' % task))[0]\n",
    "    events_df = pd.read_csv(event_file,sep = '\\t')\n",
    "    # set duration \n",
    "    events_df.loc[:,'duration'] = .01\n",
    "\n",
    "    ## Get the Confounds File (output of fmriprep)\n",
    "    \n",
    "    # Read the TSV file and convert to pandas dataframe\n",
    "    confounds_file = glob(join(base_dir,\n",
    "                               'Data',\n",
    "                               'sub-%s' % subject_id,\n",
    "                               '*', 'func',\n",
    "                               '*%s*confounds.tsv' % task))[0]\n",
    "    confounds_df = pd.read_csv(confounds_file, sep = '\\t')\n",
    "    # select relevant regressors\n",
    "    regressor_names = ['stdDVARS', 'tCompCor0']\n",
    "    # convert selected regressors in dataframe to list of lists\n",
    "    regressors = confounds_df.loc[:,regressor_names].values.T.tolist()\n",
    "    \n",
    "    \n",
    "    \n",
    "    subjectinfo = Bunch(conditions=['response'],\n",
    "                        onsets=events_df.onset.tolist(),\n",
    "                         durations=events_df.duration.tolist(),\n",
    "                         amplitudes=None,\n",
    "                         tmod=None,\n",
    "                         pmod=None,\n",
    "                         regressor_names=regressor_names,\n",
    "                         regressors=regressors)\n",
    "\n",
    "    return subjectinfo  # this output will later be returned to infosource\n",
    "\n",
    "# Get Subject Info - get subject specific condition information\n",
    "getsubjectinfo = Node(Function(input_names=['subject_id', 'task'],\n",
    "                               output_names=['subject_info'],\n",
    "                               function=subjectinfo),\n",
    "                      name='getsubjectinfo')"
   ]
  },
  {
   "cell_type": "markdown",
   "metadata": {},
   "source": [
    "### Model Specification"
   ]
  },
  {
   "cell_type": "code",
   "execution_count": 5,
   "metadata": {
    "collapsed": true
   },
   "outputs": [],
   "source": [
    "# SpecifyModel - Generates SPM-specific Model\n",
    "modelspec = Node(SpecifySPMModel(concatenate_runs=False,\n",
    "                                 input_units='secs',\n",
    "                                 output_units='secs',\n",
    "                                 time_repetition=TR,\n",
    "                                 high_pass_filter_cutoff=128),\n",
    "                 name=\"modelspec\")\n",
    "\n",
    "# Level1Design - Generates an SPM design matrix\n",
    "level1design = Node(Level1Design(bases={'hrf': {'derivs': [0, 0]}},\n",
    "                                 timing_units='secs',\n",
    "                                 interscan_interval=TR,\n",
    "                                 model_serial_correlations='AR(1)'),\n",
    "                    name=\"level1design\")\n",
    "\n",
    "# EstimateModel - estimate the parameters of the model\n",
    "level1estimate = Node(EstimateModel(estimation_method={'Classical': 1}),\n",
    "                      name=\"level1estimate\")\n",
    "\n",
    "# EstimateContrast - estimates contrasts\n",
    "level1conest = Node(EstimateContrast(), name=\"level1conest\")"
   ]
  },
  {
   "cell_type": "markdown",
   "metadata": {},
   "source": [
    "### Specify Input and Output Stream"
   ]
  },
  {
   "cell_type": "code",
   "execution_count": 6,
   "metadata": {
    "collapsed": false,
    "scrolled": true
   },
   "outputs": [
    {
     "data": {
      "text/plain": [
       "\"\\n# Use the following DataSink output substitutions\\nsubstitutions = [('_subject_id_', '')]\\nsubjFolders = [('_fwhm_id_%s%s' % (f, sub), '%s_fwhm%s' % (sub, f))\\n               for f in fwhm\\n               for sub in subject_list]\\nsubstitutions.extend(subjFolders)\\ndatasink.inputs.substitutions = substitutions\\n\""
      ]
     },
     "execution_count": 6,
     "metadata": {},
     "output_type": "execute_result"
    }
   ],
   "source": [
    "# Infosource - a function free node to iterate over the list of subject names\n",
    "infosource = Node(IdentityInterface(fields=['subject_id',\n",
    "                                            'task',\n",
    "                                            'contrasts'],\n",
    "                                    contrasts=contrast_list),\n",
    "                  name=\"infosource\")\n",
    "infosource.iterables = [('subject_id', subject_list),\n",
    "                        ('task', task_list)]\n",
    "\n",
    "# SelectFiles - to grab the data (alternativ to DataGrabber)\n",
    "templates = {'func': join('Data', '{subject_id}','*','func',\n",
    "                         '*{task}*preproc.nii.gz')}\n",
    "selectfiles = Node(SelectFiles(templates,\n",
    "                               sort_filelist=True),\n",
    "                   name=\"selectfiles\")\n",
    "\n",
    "# Datasink - creates output folder for important outputs\n",
    "datasink = Node(DataSink(container=output_dir),\n",
    "                name=\"datasink\")\n",
    "\n",
    "\"\"\"\n",
    "# Use the following DataSink output substitutions\n",
    "substitutions = [('_subject_id_', '')]\n",
    "subjFolders = [('_fwhm_id_%s%s' % (f, sub), '%s_fwhm%s' % (sub, f))\n",
    "               for f in fwhm\n",
    "               for sub in subject_list]\n",
    "substitutions.extend(subjFolders)\n",
    "datasink.inputs.substitutions = substitutions\n",
    "\"\"\""
   ]
  },
  {
   "cell_type": "markdown",
   "metadata": {},
   "source": [
    "### Workflow"
   ]
  },
  {
   "cell_type": "code",
   "execution_count": 7,
   "metadata": {
    "collapsed": false
   },
   "outputs": [
    {
     "data": {
      "text/plain": [
       "\"\\n                    (infosource, getsubjectinfo, [('subject_id','subject_id'),\\n                                                 ('task', 'task')]),\\n                    (getsubjectinfo, modelspec, [('subject_info',\\n                                                  'subject_info')]),\\n                    (infosource, level1conest, [('contrasts', 'contrasts')]),\\n                    (selectfiles, modelspec, [('func', 'functional_runs')]),\\n                    (modelspec, level1design, [('session_info',\\n                                                'session_info')]),\\n                    (level1design, level1estimate, [('spm_mat_file',\\n                                                     'spm_mat_file')]),\\n                    (level1estimate, level1conest, [('spm_mat_file',\\n                                                     'spm_mat_file'),\\n                                                    ('beta_images',\\n                                                     'beta_images'),\\n                                                    ('residual_image',\\n                                                     'residual_image')]),\\n                    (level1conest, datasink, [('spm_mat_file',\\n                                               '1stLevel.@spm_mat'),\\n                                              ('spmT_images', '1stLevel.@T'),\\n                                              ('con_images', '1stLevel.@con'),\\n                                              ('spmF_images', '1stLevel.@F'),\\n                                              ('ess_images', '1stLevel.@ess'),\\n                                              ]),\\n                    ])\\n\""
      ]
     },
     "execution_count": 7,
     "metadata": {},
     "output_type": "execute_result"
    }
   ],
   "source": [
    "# Initiation of the 1st-level analysis workflow\n",
    "l1analysis = Workflow(name='l1analysis')\n",
    "l1analysis.base_dir = working_dir\n",
    "\n",
    "# Connect up the 1st-level analysis components\n",
    "l1analysis.connect([(infosource, selectfiles, [('subject_id', 'subject_id'),\n",
    "                                               ('task', 'task')]),\n",
    "                    (infosource, getsubjectinfo, [('subject_id','subject_id'),\n",
    "                                                 ('task', 'task')]),\n",
    "                    (getsubjectinfo, modelspec, [('subject_info',\n",
    "                                                  'subject_info')]),\n",
    "                    (infosource, level1conest, [('contrasts', 'contrasts')]),\n",
    "                    (selectfiles, modelspec, [('func', 'functional_runs')]),\n",
    "                    (modelspec, level1design, [('session_info',\n",
    "                                                'session_info')]),\n",
    "                    (level1design, level1estimate, [('spm_mat_file',\n",
    "                                                     'spm_mat_file')]),\n",
    "                    (level1estimate, level1conest, [('spm_mat_file',\n",
    "                                                     'spm_mat_file'),\n",
    "                                                    ('beta_images',\n",
    "                                                     'beta_images'),\n",
    "                                                    ('residual_image',\n",
    "                                                     'residual_image')]),\n",
    "                    (level1conest, datasink, [('spm_mat_file',\n",
    "                                               '1stLevel.@spm_mat'),\n",
    "                                              ('spmT_images', '1stLevel.@T'),\n",
    "                                              ('con_images', '1stLevel.@con'),\n",
    "                                              ('spmF_images', '1stLevel.@F'),\n",
    "                                              ('ess_images', '1stLevel.@ess'),\n",
    "                                              ]),\n",
    "                    ])\n"
   ]
  },
  {
   "cell_type": "markdown",
   "metadata": {},
   "source": [
    "### Visualize Workflow"
   ]
  },
  {
   "cell_type": "code",
   "execution_count": 8,
   "metadata": {
    "collapsed": false,
    "scrolled": true
   },
   "outputs": [
    {
     "name": "stdout",
     "output_type": "stream",
     "text": [
      "170511-06:05:35,232 workflow INFO:\n",
      "\t Converting dotfile: workingdir/l1analysis/graph.dot to png format\n"
     ]
    },
    {
     "data": {
      "image/png": "[encoded data removed]",
      "text/plain": [
       "<IPython.core.display.Image object>"
      ]
     },
     "execution_count": 8,
     "metadata": {},
     "output_type": "execute_result"
    }
   ],
   "source": [
    "# Create 1st-level analysis output graph\n",
    "l1analysis.write_graph(graph2use='colored', format='png', simple_form=True)\n",
    "\n",
    "# Visualize the graph\n",
    "from IPython.display import Image\n",
    "Image(filename=join(l1analysis.base_dir, 'l1analysis', 'graph.dot.png'))"
   ]
  },
  {
   "cell_type": "markdown",
   "metadata": {},
   "source": [
    "### Run the Workflow\n"
   ]
  },
  {
   "cell_type": "code",
   "execution_count": 9,
   "metadata": {
    "collapsed": false,
    "scrolled": true
   },
   "outputs": [
    {
     "name": "stdout",
     "output_type": "stream",
     "text": [
      "170511-06:05:35,278 workflow INFO:\n",
      "\t Workflow l1analysis settings: ['check', 'execution', 'logging']\n",
      "170511-06:05:35,291 workflow INFO:\n",
      "\t Running serially.\n",
      "170511-06:05:35,294 workflow INFO:\n",
      "\t Executing node selectfiles.a0 in dir: /home/jovyan/work/output/workingdir/l1analysis/_subject_id_sub-s358_task_stroop/selectfiles\n",
      "170511-06:05:35,317 workflow ERROR:\n",
      "\t [u'Node selectfiles.a0 failed to run on host 7330712c5d52.']\n",
      "170511-06:05:35,320 workflow INFO:\n",
      "\t Saving crash info to /home/jovyan/work/output/crash-20170511-060535-jovyan-selectfiles.a0-c270f4db-60bc-446c-a2dd-b21ee1dfc122.pklz\n",
      "170511-06:05:35,325 workflow INFO:\n",
      "\t Traceback (most recent call last):\n",
      "  File \"/opt/conda/envs/python2/lib/python2.7/site-packages/nipype-0.13.0rc1-py2.7.egg/nipype/pipeline/plugins/linear.py\", line 43, in run\n",
      "    node.run(updatehash=updatehash)\n",
      "  File \"/opt/conda/envs/python2/lib/python2.7/site-packages/nipype-0.13.0rc1-py2.7.egg/nipype/pipeline/engine/nodes.py\", line 366, in run\n",
      "    self._run_interface()\n",
      "  File \"/opt/conda/envs/python2/lib/python2.7/site-packages/nipype-0.13.0rc1-py2.7.egg/nipype/pipeline/engine/nodes.py\", line 476, in _run_interface\n",
      "    self._result = self._run_command(execute)\n",
      "  File \"/opt/conda/envs/python2/lib/python2.7/site-packages/nipype-0.13.0rc1-py2.7.egg/nipype/pipeline/engine/nodes.py\", line 607, in _run_command\n",
      "    result = self._interface.run()\n",
      "  File \"/opt/conda/envs/python2/lib/python2.7/site-packages/nipype-0.13.0rc1-py2.7.egg/nipype/interfaces/base.py\", line 1086, in run\n",
      "    outputs = self.aggregate_outputs(runtime)\n",
      "  File \"/opt/conda/envs/python2/lib/python2.7/site-packages/nipype-0.13.0rc1-py2.7.egg/nipype/interfaces/base.py\", line 1157, in aggregate_outputs\n",
      "    predicted_outputs = self._list_outputs()\n",
      "  File \"/opt/conda/envs/python2/lib/python2.7/site-packages/nipype-0.13.0rc1-py2.7.egg/nipype/interfaces/io.py\", line 1313, in _list_outputs\n",
      "    raise IOError(msg)\n",
      "IOError: No files were found matching func template: /home/jovyan/work/output/workingdir/l1analysis/_subject_id_sub-s358_task_stroop/selectfiles/Data/sub-s358/*/func/*stroop*preproc.nii.gz\n",
      "Interface SelectFiles failed to run. \n",
      "\n",
      "170511-06:05:35,338 workflow INFO:\n",
      "\t ***********************************\n",
      "170511-06:05:35,340 workflow ERROR:\n",
      "\t could not run node: l1analysis.selectfiles.a0\n",
      "170511-06:05:35,341 workflow INFO:\n",
      "\t crashfile: /home/jovyan/work/output/crash-20170511-060535-jovyan-selectfiles.a0-c270f4db-60bc-446c-a2dd-b21ee1dfc122.pklz\n",
      "170511-06:05:35,343 workflow INFO:\n",
      "\t ***********************************\n"
     ]
    },
    {
     "ename": "RuntimeError",
     "evalue": "Workflow did not execute cleanly. Check log for details",
     "output_type": "error",
     "traceback": [
      "\u001b[0;31m-----------------------------------------------------------------------\u001b[0m",
      "\u001b[0;31mRuntimeError\u001b[0m                          Traceback (most recent call last)",
      "\u001b[0;32m<ipython-input-9-f07b03d1f5c5>\u001b[0m in \u001b[0;36m<module>\u001b[0;34m()\u001b[0m\n\u001b[0;32m----> 1\u001b[0;31m \u001b[0ml1analysis\u001b[0m\u001b[0;34m.\u001b[0m\u001b[0mrun\u001b[0m\u001b[0;34m(\u001b[0m\u001b[0;34m)\u001b[0m\u001b[0;34m\u001b[0m\u001b[0m\n\u001b[0m",
      "\u001b[0;32m/opt/conda/envs/python2/lib/python2.7/site-packages/nipype-0.13.0rc1-py2.7.egg/nipype/pipeline/engine/workflows.pyc\u001b[0m in \u001b[0;36mrun\u001b[0;34m(self, plugin, plugin_args, updatehash)\u001b[0m\n\u001b[1;32m    581\u001b[0m         \u001b[0;32mif\u001b[0m \u001b[0mstr2bool\u001b[0m\u001b[0;34m(\u001b[0m\u001b[0mself\u001b[0m\u001b[0;34m.\u001b[0m\u001b[0mconfig\u001b[0m\u001b[0;34m[\u001b[0m\u001b[0;34m'execution'\u001b[0m\u001b[0;34m]\u001b[0m\u001b[0;34m[\u001b[0m\u001b[0;34m'create_report'\u001b[0m\u001b[0;34m]\u001b[0m\u001b[0;34m)\u001b[0m\u001b[0;34m:\u001b[0m\u001b[0;34m\u001b[0m\u001b[0m\n\u001b[1;32m    582\u001b[0m             \u001b[0mself\u001b[0m\u001b[0;34m.\u001b[0m\u001b[0m_write_report_info\u001b[0m\u001b[0;34m(\u001b[0m\u001b[0mself\u001b[0m\u001b[0;34m.\u001b[0m\u001b[0mbase_dir\u001b[0m\u001b[0;34m,\u001b[0m \u001b[0mself\u001b[0m\u001b[0;34m.\u001b[0m\u001b[0mname\u001b[0m\u001b[0;34m,\u001b[0m \u001b[0mexecgraph\u001b[0m\u001b[0;34m)\u001b[0m\u001b[0;34m\u001b[0m\u001b[0m\n\u001b[0;32m--> 583\u001b[0;31m         \u001b[0mrunner\u001b[0m\u001b[0;34m.\u001b[0m\u001b[0mrun\u001b[0m\u001b[0;34m(\u001b[0m\u001b[0mexecgraph\u001b[0m\u001b[0;34m,\u001b[0m \u001b[0mupdatehash\u001b[0m\u001b[0;34m=\u001b[0m\u001b[0mupdatehash\u001b[0m\u001b[0;34m,\u001b[0m \u001b[0mconfig\u001b[0m\u001b[0;34m=\u001b[0m\u001b[0mself\u001b[0m\u001b[0;34m.\u001b[0m\u001b[0mconfig\u001b[0m\u001b[0;34m)\u001b[0m\u001b[0;34m\u001b[0m\u001b[0m\n\u001b[0m\u001b[1;32m    584\u001b[0m         \u001b[0mdatestr\u001b[0m \u001b[0;34m=\u001b[0m \u001b[0mdatetime\u001b[0m\u001b[0;34m.\u001b[0m\u001b[0mutcnow\u001b[0m\u001b[0;34m(\u001b[0m\u001b[0;34m)\u001b[0m\u001b[0;34m.\u001b[0m\u001b[0mstrftime\u001b[0m\u001b[0;34m(\u001b[0m\u001b[0;34m'%Y%m%dT%H%M%S'\u001b[0m\u001b[0;34m)\u001b[0m\u001b[0;34m\u001b[0m\u001b[0m\n\u001b[1;32m    585\u001b[0m         \u001b[0;32mif\u001b[0m \u001b[0mstr2bool\u001b[0m\u001b[0;34m(\u001b[0m\u001b[0mself\u001b[0m\u001b[0;34m.\u001b[0m\u001b[0mconfig\u001b[0m\u001b[0;34m[\u001b[0m\u001b[0;34m'execution'\u001b[0m\u001b[0;34m]\u001b[0m\u001b[0;34m[\u001b[0m\u001b[0;34m'write_provenance'\u001b[0m\u001b[0;34m]\u001b[0m\u001b[0;34m)\u001b[0m\u001b[0;34m:\u001b[0m\u001b[0;34m\u001b[0m\u001b[0m\n",
      "\u001b[0;32m/opt/conda/envs/python2/lib/python2.7/site-packages/nipype-0.13.0rc1-py2.7.egg/nipype/pipeline/plugins/linear.pyc\u001b[0m in \u001b[0;36mrun\u001b[0;34m(self, graph, config, updatehash)\u001b[0m\n\u001b[1;32m     59\u001b[0m                 \u001b[0;32mif\u001b[0m \u001b[0mself\u001b[0m\u001b[0;34m.\u001b[0m\u001b[0m_status_callback\u001b[0m\u001b[0;34m:\u001b[0m\u001b[0;34m\u001b[0m\u001b[0m\n\u001b[1;32m     60\u001b[0m                     \u001b[0mself\u001b[0m\u001b[0;34m.\u001b[0m\u001b[0m_status_callback\u001b[0m\u001b[0;34m(\u001b[0m\u001b[0mnode\u001b[0m\u001b[0;34m,\u001b[0m \u001b[0;34m'exception'\u001b[0m\u001b[0;34m)\u001b[0m\u001b[0;34m\u001b[0m\u001b[0m\n\u001b[0;32m---> 61\u001b[0;31m         \u001b[0mreport_nodes_not_run\u001b[0m\u001b[0;34m(\u001b[0m\u001b[0mnotrun\u001b[0m\u001b[0;34m)\u001b[0m\u001b[0;34m\u001b[0m\u001b[0m\n\u001b[0m",
      "\u001b[0;32m/opt/conda/envs/python2/lib/python2.7/site-packages/nipype-0.13.0rc1-py2.7.egg/nipype/pipeline/plugins/base.pyc\u001b[0m in \u001b[0;36mreport_nodes_not_run\u001b[0;34m(notrun)\u001b[0m\n\u001b[1;32m     93\u001b[0m                 \u001b[0mlogger\u001b[0m\u001b[0;34m.\u001b[0m\u001b[0mdebug\u001b[0m\u001b[0;34m(\u001b[0m\u001b[0msubnode\u001b[0m\u001b[0;34m.\u001b[0m\u001b[0m_id\u001b[0m\u001b[0;34m)\u001b[0m\u001b[0;34m\u001b[0m\u001b[0m\n\u001b[1;32m     94\u001b[0m         \u001b[0mlogger\u001b[0m\u001b[0;34m.\u001b[0m\u001b[0minfo\u001b[0m\u001b[0;34m(\u001b[0m\u001b[0;34m\"***********************************\"\u001b[0m\u001b[0;34m)\u001b[0m\u001b[0;34m\u001b[0m\u001b[0m\n\u001b[0;32m---> 95\u001b[0;31m         raise RuntimeError(('Workflow did not execute cleanly. '\n\u001b[0m\u001b[1;32m     96\u001b[0m                             'Check log for details'))\n\u001b[1;32m     97\u001b[0m \u001b[0;34m\u001b[0m\u001b[0m\n",
      "\u001b[0;31mRuntimeError\u001b[0m: Workflow did not execute cleanly. Check log for details"
     ]
    }
   ],
   "source": [
    "l1analysis.run()\n"
   ]
  },
  {
   "cell_type": "code",
   "execution_count": null,
   "metadata": {
    "collapsed": false
   },
   "outputs": [],
   "source": [
    "!tree datasink/1stLevel/sub-01*\n"
   ]
  },
  {
   "cell_type": "code",
   "execution_count": null,
   "metadata": {
    "collapsed": true
   },
   "outputs": [],
   "source": [
    "from nilearn.plotting import plot_stat_map\n",
    "anatimg = '/data/ds102/sub-01/anat/sub-01_T1w.nii.gz'\n",
    "plot_stat_map(\n",
    "    '/output/datasink/1stLevel/sub-01_fwhm4/spmT_0001.nii', title='average - fwhm=4',\n",
    "    bg_img=anatimg, threshold=3, display_mode='z', cut_coords=(-30, -15, 0, 15, 30), dim=-1)\n",
    "plot_stat_map(\n",
    "    '/output/datasink/1stLevel/sub-01_fwhm8/spmT_0001.nii', title='average - fwhm=8',\n",
    "    bg_img=anatimg, threshold=3, display_mode='z', cut_coords=(-30, -15, 0, 15, 30), dim=-1)"
   ]
  }
 ],
 "metadata": {
  "kernelspec": {
   "display_name": "Python [conda env:python2]",
   "language": "python",
   "name": "conda-env-python2-py"
  },
  "language_info": {
   "codemirror_mode": {
    "name": "ipython",
    "version": 2
   },
   "file_extension": ".py",
   "mimetype": "text/x-python",
   "name": "python",
   "nbconvert_exporter": "python",
   "pygments_lexer": "ipython2",
   "version": "2.7.12"
  }
 },
 "nbformat": 4,
 "nbformat_minor": 2
}
