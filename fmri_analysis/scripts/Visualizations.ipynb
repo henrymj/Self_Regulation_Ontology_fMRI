{
 "cells": [
  {
   "cell_type": "code",
   "execution_count": 1,
   "metadata": {},
   "outputs": [
    {
     "name": "stderr",
     "output_type": "stream",
     "text": [
      "/media/Data/Ian/miniconda/envs/SO/lib/python3.5/importlib/_bootstrap.py:222: RuntimeWarning: numpy.dtype size changed, may indicate binary incompatibility. Expected 96, got 88\n",
      "  return f(*args, **kwds)\n"
     ]
    }
   ],
   "source": [
    "import argparse\n",
    "from glob import glob\n",
    "from os import path\n",
    "from nilearn import plotting\n",
    "from nistats.thresholding import map_threshold\n",
    "import sys"
   ]
  },
  {
   "cell_type": "code",
   "execution_count": 31,
   "metadata": {},
   "outputs": [],
   "source": [
    "parser = argparse.ArgumentParser(description='2nd level Entrypoint Script.')\n",
    "parser.add_argument('-derivatives_dir', default=None)\n",
    "parser.add_argument('--skip_first', action='store_true')\n",
    "parser.add_argument('--skip_second', action='store_true')\n",
    "parser.add_argument('--save', action='store_true')\n",
    "\n",
    "if '-derivatives_dir' in sys.argv or '-h' in sys.argv:\n",
    "    args = parser.parse_args()\n",
    "else:\n",
    "    args = parser.parse_args([])\n",
    "    args.derivatives_dir = '/data/derivatives'\n",
    "    args.tasks = ['stroop']\n",
    "    args.rt=True\n",
    "    args.save=True"
   ]
  },
  {
   "cell_type": "code",
   "execution_count": 11,
   "metadata": {},
   "outputs": [],
   "source": [
    "# set paths\n",
    "first_level_dir = path.join(args.derivatives_dir, '1stlevel')\n",
    "second_level_dir = path.join(args.derivatives_dir,'2ndlevel')\n",
    "fmriprep_dir = path.join(args.derivatives_dir, 'fmriprep', 'fmriprep')\n",
    "tasks = ['ANT', 'CCTHot', 'discountFix',\n",
    "        'DPX', 'motorSelectiveStop',\n",
    "        'stopSignal', 'stroop',\n",
    "        'twoByTwo', 'WATT3']\n",
    "save = args.save\n",
    "run_first_level = not args.skip_first\n",
    "run_second_level = not args.skip_second"
   ]
  },
  {
   "cell_type": "markdown",
   "metadata": {},
   "source": [
    "# First Level Visualization"
   ]
  },
  {
   "cell_type": "code",
   "execution_count": null,
   "metadata": {},
   "outputs": [],
   "source": [
    "if run_first_level:\n",
    "    continue"
   ]
  },
  {
   "cell_type": "markdown",
   "metadata": {},
   "source": [
    "# Second Level Visualization"
   ]
  },
  {
   "cell_type": "code",
   "execution_count": 36,
   "metadata": {},
   "outputs": [],
   "source": [
    "if run_second_level:\n",
    "    threshold = 'FDR' # None\n",
    "    for task in tasks:\n",
    "        contrast_maps = glob(path.join(second_level_dir, task, '*maps', '*.nii.gz'))\n",
    "        for map_file in contrast_maps:\n",
    "            if save:\n",
    "                output = map_file.replace('.nii.gz', '_threshold-%s.pdf' % threshold)\n",
    "            else:\n",
    "                output = None\n",
    "            contrast_name = map_file[map_file.index('contrast')+9:].rstrip('.nii.gz')\n",
    "            if threshold is None:\n",
    "                z_map = map_file\n",
    "            elif threshold == 'FDR':\n",
    "                z_map, threshold1 = map_threshold(map_file, level=.05, height_control='fdr')\n",
    "            plotting.plot_stat_map(z_map, title='%s: %s' % (task, contrast_name),\n",
    "                                  output_file=output)"
   ]
  }
 ],
 "metadata": {
  "kernelspec": {
   "display_name": "Python 3",
   "language": "python",
   "name": "python3"
  },
  "language_info": {
   "codemirror_mode": {
    "name": "ipython",
    "version": 3
   },
   "file_extension": ".py",
   "mimetype": "text/x-python",
   "name": "python",
   "nbconvert_exporter": "python",
   "pygments_lexer": "ipython3",
   "version": "3.5.3"
  }
 },
 "nbformat": 4,
 "nbformat_minor": 2
}
