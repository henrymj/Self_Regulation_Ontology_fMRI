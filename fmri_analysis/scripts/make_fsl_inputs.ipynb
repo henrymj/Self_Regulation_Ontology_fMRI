{
 "cells": [
  {
   "cell_type": "markdown",
   "metadata": {},
   "source": [
    "### Pt0.5 - imports and (mounted) paths"
   ]
  },
  {
   "cell_type": "code",
   "execution_count": 1,
   "metadata": {},
   "outputs": [],
   "source": [
    "import pandas as pd\n",
    "import numpy as np\n",
    "from glob import glob\n",
    "from os import path,makedirs\n",
    "import re"
   ]
  },
  {
   "cell_type": "code",
   "execution_count": 2,
   "metadata": {},
   "outputs": [],
   "source": [
    "bids_dir = '/Users/henrymj/Documents/SRO/tmp/OAK/data/uh2/aim1/BIDS_scans'\n",
    "deriv_dir = path.join(bids_dir, 'derivatives')\n",
    "firstlevel_path = path.join(deriv_dir, '1stlevel')\n",
    "fsl_input_path = path.join(deriv_dir, 'fsl/inputs')\n",
    "fsl_output_path = path.join(deriv_dir, 'fsl/outputs')"
   ]
  },
  {
   "cell_type": "code",
   "execution_count": 4,
   "metadata": {},
   "outputs": [],
   "source": [
    "eventsfiles = glob(path.join(firstlevel_path, '*/*', 'simplified_events_RT-True_*')) #the RT regressor does not affect the calculation of other regressors\n",
    "eventsfiles.sort()"
   ]
  },
  {
   "cell_type": "code",
   "execution_count": 5,
   "metadata": {},
   "outputs": [],
   "source": [
    "designfiles = glob(path.join(firstlevel_path, '*/*', 'design_RT-True*')) #confounds should not be affected by presence/absence of RT regressor\n",
    "designfiles.sort()"
   ]
  },
  {
   "cell_type": "markdown",
   "metadata": {},
   "source": [
    "## Pt1 - making simple events .tsv files for design matrix"
   ]
  },
  {
   "cell_type": "code",
   "execution_count": null,
   "metadata": {},
   "outputs": [],
   "source": [
    "for ef in eventsfiles:\n",
    "    subjtask = ef.split('1stlevel/')[1].split('/simplified')[0] #get subj/task\n",
    "    print(subjtask)\n",
    "    makedirs(path.join(fsl_input_path, subjtask), exist_ok=True) #make fsl/inputs/subj/task dir\n",
    "    makedirs(path.join(fsl_output_path, subjtask), exist_ok=True) #make fsl/inputs/subj/task dir\n",
    "    ev_df = pd.read_csv(ef)\n",
    "    curr_conditions = ev_df.conditions.unique()\n",
    "    for cond in curr_conditions:\n",
    "        tmp = ev_df[ev_df.conditions==cond] #get condition subset\n",
    "        tmp = tmp.filter(['onsets', 'durations', 'amplitudes']) #drop irrelevant columns\n",
    "        tmp.to_csv(path.join(fsl_input_path, subjtask, cond+'_events.tsv'), sep='\\t', header=False, index=False) #save as simple tsv"
   ]
  },
  {
   "cell_type": "markdown",
   "metadata": {},
   "source": [
    "## Pt2 - making confound .tsv files for design matrix"
   ]
  },
  {
   "cell_type": "code",
   "execution_count": null,
   "metadata": {},
   "outputs": [],
   "source": [
    "confound_cols = ['trans_*', 'rot_*', 'framewise_displacement', 'a_comp_cor_*', 'rejectTR_*', 'drift_*']"
   ]
  },
  {
   "cell_type": "code",
   "execution_count": 23,
   "metadata": {},
   "outputs": [],
   "source": [
    "for des in designfiles:\n",
    "    subjtask = des.split('1stlevel/')[1].split('/design')[0] #get subj/task\n",
    "    makedirs(path.join(fsl_input_path, subjtask), exist_ok=True) #make fsl/inputs/subj/task dir\n",
    "    des_df = pd.read_csv(des, index_col=0)\n",
    "    confound_df = des_df.filter(regex='|'.join(confound_cols))\n",
    "    confound_df.to_csv(path.join(fsl_input_path, subjtask, 'confounds.tsv'), sep='\\t', header=False, index=False) #save as simple tsv    "
   ]
  },
  {
   "cell_type": "code",
   "execution_count": 21,
   "metadata": {},
   "outputs": [
    {
     "data": {
      "text/plain": [
       "Index(['response_time', 'response_time_TD', 'task', 'task_TD', 'trans_x',\n",
       "       'trans_y', 'trans_z', 'rot_x', 'rot_y', 'rot_z', 'trans_xtd',\n",
       "       'trans_ytd', 'trans_ztd', 'rot_xtd', 'rot_ytd', 'rot_ztd', 'trans_x_sq',\n",
       "       'trans_y_sq', 'trans_z_sq', 'rot_x_sq', 'rot_y_sq', 'rot_z_sq',\n",
       "       'trans_xtd_sq', 'trans_ytd_sq', 'trans_ztd_sq', 'rot_xtd_sq',\n",
       "       'rot_ytd_sq', 'rot_ztd_sq', 'framewise_displacement', 'a_comp_cor_00',\n",
       "       'a_comp_cor_01', 'a_comp_cor_02', 'a_comp_cor_03', 'a_comp_cor_04',\n",
       "       'a_comp_cor_05', 'a_comp_cor_06', 'a_comp_cor_07', 'rejectTR_159',\n",
       "       'rejectTR_160', 'rejectTR_161', 'rejectTR_175', 'rejectTR_228',\n",
       "       'rejectTR_230', 'rejectTR_259', 'rejectTR_284', 'rejectTR_507',\n",
       "       'rejectTR_659', 'rejectTR_668', 'rejectTR_669', 'rejectTR_794',\n",
       "       'rejectTR_795', 'rejectTR_827', 'rejectTR_845', 'rejectTR_846',\n",
       "       'rejectTR_847', 'drift_1', 'drift_2', 'drift_3', 'drift_4', 'drift_5',\n",
       "       'drift_6', 'drift_7', 'drift_8', 'drift_9', 'drift_10', 'drift_11',\n",
       "       'drift_12', 'drift_13', 'constant'],\n",
       "      dtype='object')"
      ]
     },
     "execution_count": 21,
     "metadata": {},
     "output_type": "execute_result"
    }
   ],
   "source": [
    "des_df.columns"
   ]
  },
  {
   "cell_type": "markdown",
   "metadata": {},
   "source": [
    "## Pt3 - generate slicetiming files"
   ]
  },
  {
   "cell_type": "code",
   "execution_count": 126,
   "metadata": {},
   "outputs": [],
   "source": [
    "import json as JSON"
   ]
  },
  {
   "cell_type": "code",
   "execution_count": 170,
   "metadata": {},
   "outputs": [],
   "source": [
    "task_jsons = glob(path.join(bids_dir, '*_bold.json'))"
   ]
  },
  {
   "cell_type": "code",
   "execution_count": 174,
   "metadata": {},
   "outputs": [
    {
     "name": "stdout",
     "output_type": "stream",
     "text": [
      "/Users/henrymj/Documents/SRO/tmp/OAK/data/uh2/aim1/BIDS_scans/derivatives/fsl/inputs/stroop_slice_times.txt\n",
      "/Users/henrymj/Documents/SRO/tmp/OAK/data/uh2/aim1/BIDS_scans/derivatives/fsl/inputs/motorSelectiveStop_slice_times.txt\n",
      "/Users/henrymj/Documents/SRO/tmp/OAK/data/uh2/aim1/BIDS_scans/derivatives/fsl/inputs/rest_slice_times.txt\n",
      "/Users/henrymj/Documents/SRO/tmp/OAK/data/uh2/aim1/BIDS_scans/derivatives/fsl/inputs/twoByTwo_slice_times.txt\n",
      "/Users/henrymj/Documents/SRO/tmp/OAK/data/uh2/aim1/BIDS_scans/derivatives/fsl/inputs/discountFix_slice_times.txt\n",
      "/Users/henrymj/Documents/SRO/tmp/OAK/data/uh2/aim1/BIDS_scans/derivatives/fsl/inputs/CCTHot_slice_times.txt\n",
      "/Users/henrymj/Documents/SRO/tmp/OAK/data/uh2/aim1/BIDS_scans/derivatives/fsl/inputs/ANT_slice_times.txt\n",
      "/Users/henrymj/Documents/SRO/tmp/OAK/data/uh2/aim1/BIDS_scans/derivatives/fsl/inputs/DPX_slice_times.txt\n",
      "/Users/henrymj/Documents/SRO/tmp/OAK/data/uh2/aim1/BIDS_scans/derivatives/fsl/inputs/surveyMedley_slice_times.txt\n",
      "/Users/henrymj/Documents/SRO/tmp/OAK/data/uh2/aim1/BIDS_scans/derivatives/fsl/inputs/stopSignal_slice_times.txt\n",
      "/Users/henrymj/Documents/SRO/tmp/OAK/data/uh2/aim1/BIDS_scans/derivatives/fsl/inputs/WATT3_slice_times.txt\n"
     ]
    }
   ],
   "source": [
    "for curr_json in task_jsons:\n",
    "    #read in json dict\n",
    "    jf = open(curr_json,'r')\n",
    "    task_dict = JSON.loads(jf.read())\n",
    "    jf.close()\n",
    "    #get relevant path\n",
    "    task_str = curr_json.split('task-')[1].replace('_bold.json', '')\n",
    "    out_slice_file = path.join(fsl_input_path, task_str+'_slice_times.txt')\n",
    "    #write the slice times into a file\n",
    "    f=open(out_slice_file, 'w+')\n",
    "    for slice_time in task_dict['SliceTiming']:\n",
    "        f.write(str(slice_time)+'\\n')\n",
    "    f.close()"
   ]
  },
  {
   "cell_type": "markdown",
   "metadata": {},
   "source": [
    "## Pt4 - extract brains\n",
    "\n",
    "this will generate commands like the one below and save them to an sbatch_file in SRO_fMRI/fmri_analyses/fsl\n",
    "\n",
    "`/share/software/user/open/fsl/5.0.10/bin/bet /oak/stanford/groups/russpold/data/uh2/aim1/BIDS_scans/sub-s061/ses-1/anat/sub-s061_ses-1_T1w /oak/stanford/groups/russpold/data/uh2/aim1/BIDS_scans/derivatives/fsl/inputs/s061/brain  -f 0.5 -g 0 -m\n",
    "`"
   ]
  },
  {
   "cell_type": "code",
   "execution_count": 84,
   "metadata": {},
   "outputs": [],
   "source": [
    "sbatch_headers='''#!/bin/bash\n",
    "#SBATCH --job-name=fsl_BET\n",
    "#SBATCH --output=.out/fsl_BET.out\n",
    "#SBATCH --error=.err/fsl_BET.err\n",
    "#SBATCH --time=10:00:00\n",
    "#SBATCH --mail-type=END\n",
    "#SBATCH --mail-user=poldracklab@stanford.edu\n",
    "#SBATCH --cpus-per-task=8\n",
    "#SBATCH --ntasks-per-node=1\n",
    "#SBATCH -p russpold\n",
    "export PYTHONPATH=\"\"\n",
    "'''"
   ]
  },
  {
   "cell_type": "code",
   "execution_count": 85,
   "metadata": {},
   "outputs": [],
   "source": [
    "fsl_command = '/share/software/user/open/fsl/5.0.10/bin/bet'\n",
    "sherlock_bids = '/oak/stanford/groups/russpold/data/uh2/aim1/BIDS_scans'\n",
    "sherlock_fsl = '/oak/stanford/groups/russpold/data/uh2/aim1/BIDS_scans/derivatives/fsl/inputs'\n",
    "fsl_flags = '  -f 0.5 -g 0 -m'"
   ]
  },
  {
   "cell_type": "code",
   "execution_count": 86,
   "metadata": {},
   "outputs": [],
   "source": [
    "anats = glob(path.join(bids_dir, 'sub-*', 'ses-*', 'anat', '*_T1w*'))\n",
    "anats.sort()"
   ]
  },
  {
   "cell_type": "code",
   "execution_count": 94,
   "metadata": {},
   "outputs": [],
   "source": [
    "f=open('../fsl/fsl_BET.batch', 'w+')"
   ]
  },
  {
   "cell_type": "code",
   "execution_count": 95,
   "metadata": {},
   "outputs": [
    {
     "data": {
      "text/plain": [
       "1"
      ]
     },
     "execution_count": 95,
     "metadata": {},
     "output_type": "execute_result"
    }
   ],
   "source": [
    "f.write(sbatch_headers)\n",
    "f.write('\\n')"
   ]
  },
  {
   "cell_type": "code",
   "execution_count": null,
   "metadata": {},
   "outputs": [],
   "source": [
    "for anat in anats:\n",
    "    full_sub = anat.split('BIDS_scans/')[1].split('/ses')[0]\n",
    "    subid = full_sub.split('-')[1]\n",
    "\n",
    "    sesanat = anat.split(full_sub)[1]\n",
    "    sesanat = sesanat.strip('/')\n",
    "    \n",
    "    sesnums = re.findall(r'\\d', sesanat)\n",
    "    sesnum = sesnums[0]\n",
    "\n",
    "    t1_file = anat.split('/')[-1].replace('.nii.gz', '')\n",
    "\n",
    "    full_command = fsl_command+' '+path.join(sherlock_bids, full_sub, sesanat, t1_file)+' '+path.join(sherlock_fsl, subid, 'brain'+sesnum)+fsl_flags+'\\n'\n",
    "#     print(full_command)\n",
    "    f.write(full_command)\n",
    "    f.write('\\n')"
   ]
  },
  {
   "cell_type": "code",
   "execution_count": 97,
   "metadata": {},
   "outputs": [],
   "source": [
    "f.close()"
   ]
  },
  {
   "cell_type": "markdown",
   "metadata": {},
   "source": [
    "## P5 - building up bash scripts for each task"
   ]
  },
  {
   "cell_type": "code",
   "execution_count": 3,
   "metadata": {},
   "outputs": [],
   "source": [
    "import nibabel as nib"
   ]
  },
  {
   "cell_type": "code",
   "execution_count": 4,
   "metadata": {},
   "outputs": [],
   "source": [
    "def get_relative_brain(task, subject, ses_num):\n",
    "    possible_brains = glob(path.join(fsl_input_path, subject, 'brain*_mask.nii.gz'))\n",
    "    if len(possible_brains) >= int(ses_num): #if there is enough brains to match the session number, use the appropiate brain\n",
    "        return path.join(fsl_input_path, subject, 'brain%s.nii.gz' % ses_num)\n",
    "    else: #use the default brain\n",
    "        return possible_brains[0].replace('_mask', '')"
   ]
  },
  {
   "cell_type": "code",
   "execution_count": 15,
   "metadata": {},
   "outputs": [],
   "source": [
    "tasks = ['ANT', 'CCTHot', 'DPX', 'WATT3', 'discountFix', 'motorSelectiveStop', 'stopSignal', 'stroop', 'twoByTwo']"
   ]
  },
  {
   "cell_type": "markdown",
   "metadata": {},
   "source": [
    "#build up bash scripts to run FEAT for different tasks"
   ]
  },
  {
   "cell_type": "code",
   "execution_count": 16,
   "metadata": {},
   "outputs": [],
   "source": [
    "sbatch_headers='''fsl_dir=\"/home/groups/russpold/uh2_analysis/Self_Regulation_Ontology_fMRI/fmri_analysis/fsl\"\n",
    "template_dir=$fsl_dir/\"templates\"\n",
    "tmp_dir=$fsl_dir/\"tmp_batch\"\n",
    "\n",
    "'''"
   ]
  },
  {
   "cell_type": "code",
   "execution_count": 17,
   "metadata": {},
   "outputs": [
    {
     "name": "stdout",
     "output_type": "stream",
     "text": [
      "check out the brain for s513\n",
      "check out the brain for s604\n",
      "check out the brain for s513\n",
      "check out the brain for s604\n",
      "check out the brain for s513\n",
      "check out the brain for s599\n",
      "check out the brain for s604\n",
      "check out the brain for s513\n",
      "check out the brain for s604\n",
      "check out the brain for s513\n",
      "check out the brain for s599\n",
      "check out the brain for s600\n",
      "check out the brain for s604\n",
      "check out the brain for s513\n",
      "check out the brain for s599\n",
      "check out the brain for s600\n",
      "check out the brain for s604\n",
      "check out the brain for s513\n",
      "check out the brain for s604\n",
      "check out the brain for s513\n",
      "check out the brain for s599\n",
      "check out the brain for s604\n",
      "check out the brain for s513\n",
      "check out the brain for s604\n"
     ]
    }
   ],
   "source": [
    "for task in tasks:\n",
    "    task_niftis = glob(path.join(bids_dir, 'sub-*', '*/func/*task-%s*_bold.nii.gz' % task))\n",
    "    task_niftis.sort()\n",
    "\n",
    "    loop_str = ''\n",
    "    for curr_nifti in task_niftis:\n",
    "        #break down path to get {RELATIVE_BOLD}, {SUBJECT}, {SES_BRAIN}, and {NTP}\n",
    "        relative_bold = curr_nifti.replace(bids_dir, '').replace('.nii.gz', '')\n",
    "        subject = relative_bold.replace('/sub-', '').split('/')[0]\n",
    "        ses_num = relative_bold.split('/ses-')[1].split('/')[0]\n",
    "        try:\n",
    "            BET_brain_path = get_relative_brain(task, subject, ses_num)\n",
    "            ses_brain = BET_brain_path.split('/')[-1].replace('.nii.gz', '')\n",
    "            img = nib.load(curr_nifti)\n",
    "            ntp = img.header.get_data_shape()[-1]\n",
    "\n",
    "            loop_str += ' %s,%s,%s,%s' % (relative_bold, subject, ses_brain, ntp)\n",
    "        except IndexError:\n",
    "            print('check out the brain for %s' % subject)\n",
    "\n",
    "    potential_str = \"OLDIFS=$IFS; IFS=',';\\n for i in\"+loop_str+'; do set -- $i;\\n' +\"\"\"\\tsed -e \"s|{RELATIVE_BOLD}|$1|g\" -e \"s|{SUBJECT}|$2|g\" -e \"s|{SES_BRAIN}|$3|g\" -e \"s|{NTP}|$4|g\" $template_dir/template_DPX_fsl.fsf > $tmp_dir/DPX_$2_fsl.fsf;\n",
    "    \\tsed -e \"s|{SUBJECT}|$2|g\" $template_dir/template_fsl_DPX_FEAT.batch > $tmp_dir/DPX_$2_FEAT.batch;\n",
    "    \\tsbatch $tmp_dir/DPX_$2_FEAT.batch;\n",
    "    done;\n",
    "    IFS=$OLDIFS;\n",
    "    \"\"\"\n",
    "    f=open('../fsl/run_%s_FEAT.sh' % task, 'w+')\n",
    "    f.write(sbatch_headers)\n",
    "    f.write('\\n')\n",
    "    f.write(potential_str)\n",
    "    f.close()"
   ]
  },
  {
   "cell_type": "code",
   "execution_count": 46,
   "metadata": {},
   "outputs": [],
   "source": []
  },
  {
   "cell_type": "code",
   "execution_count": 47,
   "metadata": {},
   "outputs": [],
   "source": [
    "# for curr_nifti in [task_niftis[0]]:\n",
    "#     #break down path to get {RELATIVE_BOLD}, {SUBJECT}, {SES_BRAIN}, and {NTP}\n",
    "#     relative_bold = curr_nifti.replace(bids_dir, '').replace('.nii.gz', '')\n",
    "#     subject = relative_bold.replace('/sub-', '').split('/')[0]\n",
    "#     ses_num = relative_bold.split('/ses-')[1].split('/')[0]\n",
    "#     try:\n",
    "#         BET_brain_path = get_relative_brain(task, subject, ses_num)\n",
    "#         ses_brain = BET_brain_path.split('/')[-1].replace('.nii.gz', '')\n",
    "\n",
    "#     img = nib.load(curr_nifti)\n",
    "#     ntp = img.header.get_data_shape()[-1]\n",
    "    \n",
    "#     curr_str = '''\n",
    "#     for i in \"$template_dir/template_DPX_fsl.fsf\"; do \n",
    "#      sed -e \"s|{RELATIVE_BOLD}|%s|g\" -e \"s|{SUBJECT}|%s|g\" -e \"s|{SES_BRAIN}|%s|g\" -e \"s|{NTP}|%i|g\" $template_dir/template_DPX_fsl.fsf > $tmp_dir/DPX_%s_fsl.fsf\n",
    "#      sed -e \"s|{SUBJECT}|%s|g\" $template_dir/template_fsl_DPX_FEAT.batch > $tmp_dir/DPX_%s_FEAT.batch\n",
    "#      sbatch $tmp_dir/DPX_%s_FEAT.batch\n",
    "#     done  \n",
    "#     ''' % (relative_bold, subject, ses_brain, ntp, subject, subject, subject, subject)\n",
    "#     f.write(curr_str)\n",
    "#     f.write('\\n')\n",
    "#     except IndexError:\n",
    "#         print('check out the brain for %s' % subject)   "
   ]
  },
  {
   "cell_type": "code",
   "execution_count": 13,
   "metadata": {},
   "outputs": [
    {
     "data": {
      "text/plain": [
       "' /sub-s061/ses-2/func/sub-s061_ses-2_task-DPX_run-1_bold,s061,brain1,1094 /sub-s130/ses-1/func/sub-s130_ses-1_task-DPX_run-1_bold,s130,brain1,1086 /sub-s172/ses-1/func/sub-s172_ses-1_task-DPX_run-1_bold,s172,brain1,1104 /sub-s192/ses-1/func/sub-s192_ses-1_task-DPX_run-1_bold,s192,brain1,1097 /sub-s234/ses-2/func/sub-s234_ses-2_task-DPX_run-1_bold,s234,brain2,1104 /sub-s251/ses-2/func/sub-s251_ses-2_task-DPX_run-1_bold,s251,brain2,1098 /sub-s358/ses-2/func/sub-s358_ses-2_task-DPX_run-1_bold,s358,brain2,1097 /sub-s373/ses-2/func/sub-s373_ses-2_task-DPX_run-1_bold,s373,brain2,1104 /sub-s445/ses-3/func/sub-s445_ses-3_task-DPX_run-1_bold,s445,brain1,1104 /sub-s465/ses-2/func/sub-s465_ses-2_task-DPX_run-1_bold,s465,brain2,1104 /sub-s471/ses-2/func/sub-s471_ses-2_task-DPX_run-1_bold,s471,brain1,1088 /sub-s483/ses-1/func/sub-s483_ses-1_task-DPX_run-1_bold,s483,brain1,1108 /sub-s491/ses-2/func/sub-s491_ses-2_task-DPX_run-1_bold,s491,brain1,1138 /sub-s495/ses-2/func/sub-s495_ses-2_task-DPX_run-1_bold,s495,brain1,1119 /sub-s497/ses-1/func/sub-s497_ses-1_task-DPX_run-1_bold,s497,brain1,1104 /sub-s499/ses-2/func/sub-s499_ses-2_task-DPX_run-1_bold,s499,brain1,1186 /sub-s512/ses-1/func/sub-s512_ses-1_task-DPX_run-1_bold,s512,brain1,1104 /sub-s518/ses-1/func/sub-s518_ses-1_task-DPX_run-1_bold,s518,brain1,1104 /sub-s519/ses-2/func/sub-s519_ses-2_task-DPX_run-1_bold,s519,brain2,1104 /sub-s524/ses-1/func/sub-s524_ses-1_task-DPX_run-1_bold,s524,brain1,1104 /sub-s525/ses-1/func/sub-s525_ses-1_task-DPX_run-1_bold,s525,brain1,1104 /sub-s526/ses-1/func/sub-s526_ses-1_task-DPX_run-1_bold,s526,brain1,1104 /sub-s541/ses-2/func/sub-s541_ses-2_task-DPX_run-1_bold,s541,brain2,1104 /sub-s546/ses-2/func/sub-s546_ses-2_task-DPX_run-1_bold,s546,brain2,1099 /sub-s548/ses-1/func/sub-s548_ses-1_task-DPX_run-1_bold,s548,brain1,1104 /sub-s549/ses-1/func/sub-s549_ses-1_task-DPX_run-1_bold,s549,brain1,1104 /sub-s553/ses-1/func/sub-s553_ses-1_task-DPX_run-1_bold,s553,brain1,1104 /sub-s554/ses-2/func/sub-s554_ses-2_task-DPX_run-1_bold,s554,brain2,1104 /sub-s555/ses-2/func/sub-s555_ses-2_task-DPX_run-1_bold,s555,brain1,1104 /sub-s556/ses-2/func/sub-s556_ses-2_task-DPX_run-1_bold,s556,brain2,1095 /sub-s557/ses-1/func/sub-s557_ses-1_task-DPX_run-1_bold,s557,brain1,1104 /sub-s558/ses-1/func/sub-s558_ses-1_task-DPX_run-1_bold,s558,brain1,1104 /sub-s561/ses-1/func/sub-s561_ses-1_task-DPX_run-1_bold,s561,brain1,1104 /sub-s567/ses-2/func/sub-s567_ses-2_task-DPX_run-1_bold,s567,brain2,1104 /sub-s568/ses-2/func/sub-s568_ses-2_task-DPX_run-1_bold,s568,brain2,1093 /sub-s570/ses-2/func/sub-s570_ses-2_task-DPX_run-1_bold,s570,brain2,1104 /sub-s572/ses-1/func/sub-s572_ses-1_task-DPX_run-1_bold,s572,brain1,1104 /sub-s573/ses-1/func/sub-s573_ses-1_task-DPX_run-1_bold,s573,brain1,1102 /sub-s574/ses-1/func/sub-s574_ses-1_task-DPX_run-1_bold,s574,brain1,1104 /sub-s577/ses-2/func/sub-s577_ses-2_task-DPX_run-1_bold,s577,brain2,1104 /sub-s579/ses-2/func/sub-s579_ses-2_task-DPX_run-1_bold,s579,brain2,1104 /sub-s581/ses-1/func/sub-s581_ses-1_task-DPX_run-1_bold,s581,brain1,1104 /sub-s582/ses-1/func/sub-s582_ses-1_task-DPX_run-1_bold,s582,brain1,1104 /sub-s583/ses-1/func/sub-s583_ses-1_task-DPX_run-1_bold,s583,brain1,1104 /sub-s584/ses-1/func/sub-s584_ses-1_task-DPX_run-1_bold,s584,brain1,1104 /sub-s585/ses-1/func/sub-s585_ses-1_task-DPX_run-1_bold,s585,brain1,1104 /sub-s586/ses-1/func/sub-s586_ses-1_task-DPX_run-1_bold,s586,brain1,1104 /sub-s587/ses-2/func/sub-s587_ses-2_task-DPX_run-1_bold,s587,brain2,1096 /sub-s588/ses-2/func/sub-s588_ses-2_task-DPX_run-1_bold,s588,brain1,1104 /sub-s589/ses-2/func/sub-s589_ses-2_task-DPX_run-1_bold,s589,brain2,1090 /sub-s590/ses-2/func/sub-s590_ses-2_task-DPX_run-1_bold,s590,brain2,1104 /sub-s591/ses-1/func/sub-s591_ses-1_task-DPX_run-1_bold,s591,brain1,1104 /sub-s592/ses-1/func/sub-s592_ses-1_task-DPX_run-1_bold,s592,brain1,1088 /sub-s593/ses-1/func/sub-s593_ses-1_task-DPX_run-1_bold,s593,brain1,1104 /sub-s594/ses-1/func/sub-s594_ses-1_task-DPX_run-1_bold,s594,brain1,1104 /sub-s595/ses-1/func/sub-s595_ses-1_task-DPX_run-1_bold,s595,brain1,1104 /sub-s596/ses-2/func/sub-s596_ses-2_task-DPX_run-1_bold,s596,brain1,1104 /sub-s597/ses-2/func/sub-s597_ses-2_task-DPX_run-1_bold,s597,brain2,1104 /sub-s598/ses-2/func/sub-s598_ses-2_task-DPX_run-1_bold,s598,brain1,1104 /sub-s601/ses-1/func/sub-s601_ses-1_task-DPX_run-1_bold,s601,brain1,1097 /sub-s602/ses-1/func/sub-s602_ses-1_task-DPX_run-1_bold,s602,brain1,1104 /sub-s605/ses-2/func/sub-s605_ses-2_task-DPX_run-1_bold,s605,brain2,1104 /sub-s606/ses-2/func/sub-s606_ses-2_task-DPX_run-1_bold,s606,brain2,1104 /sub-s607/ses-1/func/sub-s607_ses-1_task-DPX_run-1_bold,s607,brain1,1104 /sub-s608/ses-1/func/sub-s608_ses-1_task-DPX_run-1_bold,s608,brain1,1104 /sub-s609/ses-1/func/sub-s609_ses-1_task-DPX_run-1_bold,s609,brain1,1097 /sub-s610/ses-1/func/sub-s610_ses-1_task-DPX_run-1_bold,s610,brain1,1104 /sub-s611/ses-2/func/sub-s611_ses-2_task-DPX_run-1_bold,s611,brain2,1104 /sub-s612/ses-2/func/sub-s612_ses-2_task-DPX_run-1_bold,s612,brain2,1104 /sub-s613/ses-2/func/sub-s613_ses-2_task-DPX_run-1_bold,s613,brain3,1104 /sub-s614/ses-2/func/sub-s614_ses-2_task-DPX_run-1_bold,s614,brain2,1104 /sub-s615/ses-1/func/sub-s615_ses-1_task-DPX_run-1_bold,s615,brain1,1104 /sub-s616/ses-1/func/sub-s616_ses-1_task-DPX_run-1_bold,s616,brain1,1104 /sub-s617/ses-1/func/sub-s617_ses-1_task-DPX_run-1_bold,s617,brain1,1104 /sub-s618/ses-1/func/sub-s618_ses-1_task-DPX_run-1_bold,s618,brain1,1104 /sub-s619/ses-2/func/sub-s619_ses-2_task-DPX_run-1_bold,s619,brain2,1090 /sub-s621/ses-2/func/sub-s621_ses-2_task-DPX_run-1_bold,s621,brain2,1104 /sub-s622/ses-1/func/sub-s622_ses-1_task-DPX_run-1_bold,s622,brain1,1104 /sub-s623/ses-3/func/sub-s623_ses-3_task-DPX_run-1_bold,s623,brain3,1104 /sub-s624/ses-1/func/sub-s624_ses-1_task-DPX_run-1_bold,s624,brain1,1104 /sub-s626/ses-2/func/sub-s626_ses-2_task-DPX_run-1_bold,s626,brain2,1104 /sub-s627/ses-2/func/sub-s627_ses-2_task-DPX_run-1_bold,s627,brain2,1104 /sub-s628/ses-2/func/sub-s628_ses-2_task-DPX_run-1_bold,s628,brain2,1104 /sub-s629/ses-2/func/sub-s629_ses-2_task-DPX_run-1_bold,s629,brain2,1104 /sub-s631/ses-1/func/sub-s631_ses-1_task-DPX_run-1_bold,s631,brain1,1097 /sub-s633/ses-1/func/sub-s633_ses-1_task-DPX_run-1_bold,s633,brain1,1098 /sub-s634/ses-1/func/sub-s634_ses-1_task-DPX_run-1_bold,s634,brain1,1104 /sub-s635/ses-1/func/sub-s635_ses-1_task-DPX_run-1_bold,s635,brain1,1104 /sub-s636/ses-2/func/sub-s636_ses-2_task-DPX_run-1_bold,s636,brain2,1104 /sub-s637/ses-2/func/sub-s637_ses-2_task-DPX_run-1_bold,s637,brain2,1104 /sub-s638/ses-2/func/sub-s638_ses-2_task-DPX_run-1_bold,s638,brain2,1104 /sub-s640/ses-2/func/sub-s640_ses-2_task-DPX_run-1_bold,s640,brain2,1091 /sub-s641/ses-1/func/sub-s641_ses-1_task-DPX_run-1_bold,s641,brain1,1086 /sub-s642/ses-1/func/sub-s642_ses-1_task-DPX_run-1_bold,s642,brain1,1104 /sub-s643/ses-1/func/sub-s643_ses-1_task-DPX_run-1_bold,s643,brain1,1104 /sub-s644/ses-1/func/sub-s644_ses-1_task-DPX_run-1_bold,s644,brain1,1104 /sub-s645/ses-2/func/sub-s645_ses-2_task-DPX_run-1_bold,s645,brain2,1104 /sub-s647/ses-2/func/sub-s647_ses-2_task-DPX_run-1_bold,s647,brain2,1104 /sub-s648/ses-1/func/sub-s648_ses-1_task-DPX_run-1_bold,s648,brain1,1104 /sub-s649/ses-1/func/sub-s649_ses-1_task-DPX_run-1_bold,s649,brain1,1104 /sub-s650/ses-1/func/sub-s650_ses-1_task-DPX_run-1_bold,s650,brain1,1104'"
      ]
     },
     "execution_count": 13,
     "metadata": {},
     "output_type": "execute_result"
    }
   ],
   "source": [
    "\n",
    "loop_str"
   ]
  },
  {
   "cell_type": "code",
   "execution_count": 202,
   "metadata": {},
   "outputs": [
    {
     "data": {
      "text/plain": [
       "'/Users/henrymj/Documents/SRO/tmp/OAK/data/uh2/aim1/BIDS_scans/sub-s491/ses-2/func/sub-s491_ses-2_task-DPX_run-1_bold.nii.gz'"
      ]
     },
     "execution_count": 202,
     "metadata": {},
     "output_type": "execute_result"
    }
   ],
   "source": [
    "curr_nifti"
   ]
  },
  {
   "cell_type": "code",
   "execution_count": 31,
   "metadata": {},
   "outputs": [
    {
     "data": {
      "text/plain": [
       "'#!/bin/bash\\n#SBATCH --job-name=DPX_FEAT\\n#SBATCH --output=.out/DPX_FEAT.out\\n#SBATCH --error=.err/DPX_FEAT.err\\n#SBATCH --time=10:00:00\\n#SBATCH --mail-type=END\\n#SBATCH --mail-user=poldracklab@stanford.edu\\n#SBATCH --cpus-per-task=8\\n#SBATCH --ntasks-per-node=1\\n#SBATCH -p russpold\\nexport PYTHONPATH=\"\"\\n\\nfsl_dir=\"/home/groups/russpold/uh2_analysis/Self_Regulation_Ontology_fMRI/fmri_analysis/fsl\"\\ntemplate_dir = $fsl_dir/\"templates\"\\ntmp_dir=$fsl_dir/\"tmp_batch\"\\n\\n\\n'"
      ]
     },
     "execution_count": 31,
     "metadata": {},
     "output_type": "execute_result"
    }
   ],
   "source": [
    "sbatch_headers"
   ]
  },
  {
   "cell_type": "code",
   "execution_count": 32,
   "metadata": {},
   "outputs": [
    {
     "data": {
      "text/plain": [
       "'#!/bin/bash\\n#SBATCH --job-name=DPX_FEAT\\n#SBATCH --output=.out/DPX_FEAT.out\\n#SBATCH --error=.err/DPX_FEAT.err\\n#SBATCH --time=10:00:00\\n#SBATCH --mail-type=END\\n#SBATCH --mail-user=poldracklab@stanford.edu\\n#SBATCH --cpus-per-task=8\\n#SBATCH --ntasks-per-node=1\\n#SBATCH -p russpold\\nexport PYTHONPATH=\"\"\\n\\nfsl_dir=\"/home/groups/russpold/uh2_analysis/Self_Regulation_Ontology_fMRI/fmri_analysis/fsl\"\\ntemplate_dir = $fsl_dir/\"templates\"\\ntmp_dir=$fsl_dir/\"tmp_batch\"\\n\\n\\n'"
      ]
     },
     "execution_count": 32,
     "metadata": {},
     "output_type": "execute_result"
    }
   ],
   "source": [
    "sbatch_headers"
   ]
  },
  {
   "cell_type": "code",
   "execution_count": null,
   "metadata": {},
   "outputs": [],
   "source": []
  }
 ],
 "metadata": {
  "kernelspec": {
   "display_name": "Python 3",
   "language": "python",
   "name": "python3"
  },
  "language_info": {
   "codemirror_mode": {
    "name": "ipython",
    "version": 3
   },
   "file_extension": ".py",
   "mimetype": "text/x-python",
   "name": "python",
   "nbconvert_exporter": "python",
   "pygments_lexer": "ipython3",
   "version": "3.7.3"
  }
 },
 "nbformat": 4,
 "nbformat_minor": 4
}
