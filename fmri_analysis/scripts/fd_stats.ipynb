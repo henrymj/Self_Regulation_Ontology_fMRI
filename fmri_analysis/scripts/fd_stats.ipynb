{
 "cells": [
  {
   "cell_type": "markdown",
   "metadata": {},
   "source": [
    "to gather fd_stats from qc reports"
   ]
  },
  {
   "cell_type": "code",
   "execution_count": 2,
   "metadata": {},
   "outputs": [],
   "source": [
    "import json\n",
    "import csv \n",
    "import os\n",
    "from glob import glob\n",
    "import pandas as pd\n",
    "import numpy as np\n",
    "from collections import defaultdict\n",
    "import matplotlib.pyplot as plt"
   ]
  },
  {
   "cell_type": "code",
   "execution_count": 3,
   "metadata": {},
   "outputs": [],
   "source": [
    "fd_dict = defaultdict(dict, {})"
   ]
  },
  {
   "cell_type": "code",
   "execution_count": 4,
   "metadata": {},
   "outputs": [],
   "source": [
    "qc_reports = list(glob('*/func/*_bold.json'))"
   ]
  },
  {
   "cell_type": "code",
   "execution_count": 5,
   "metadata": {},
   "outputs": [],
   "source": [
    "for file in qc_reports:\n",
    "    file_name = os.path.basename(file)\n",
    "    f2 = file_name.split('_')\n",
    "    sub_num = f2[0]\n",
    "    task = f2[1].split('-')[1]\n",
    "    with open(file) as f:\n",
    "        temp_data = json.load(f)\n",
    "        temp_mean = temp_data.get('fd_mean')\n",
    "        temp_num = temp_data.get('fd_num')\n",
    "        temp_perc = temp_data.get('fd_perc')\n",
    "        #print(sub_num)\n",
    "        fd_dict[sub_num][task] = {'fd_mean': temp_mean, 'fd_num': temp_num, 'fd_perc': temp_perc}     "
   ]
  },
  {
   "cell_type": "code",
   "execution_count": 6,
   "metadata": {},
   "outputs": [
    {
     "name": "stdout",
     "output_type": "stream",
     "text": [
      "                              fd_mean  fd_num    fd_perc\n",
      "sub-2839 motorSelectiveStop  0.098694       2   0.203252\n",
      "         discountFix         0.113609      49   4.979675\n",
      "         manipulationTask    0.100561      11   0.787966\n",
      "         rest                0.105558       8   0.808898\n",
      "         stopSignal          0.103249       6   1.147228\n",
      "...                               ...     ...        ...\n",
      "sub-857  motorSelectiveStop  0.128961      88   8.943089\n",
      "         stopSignal          0.209616      79  15.076336\n",
      "         rest                0.126563      63   6.370071\n",
      "         discountFix         0.276352     236  23.983740\n",
      "         manipulationTask    0.360354     613  41.307278\n",
      "\n",
      "[497 rows x 3 columns]\n"
     ]
    }
   ],
   "source": [
    "fd_stats = pd.DataFrame.from_dict({(i,j): fd_dict[i][j] \n",
    "                           for i in fd_dict.keys()\n",
    "                           for j in fd_dict[i].keys()},\n",
    "                       orient='index' )\n",
    "\n",
    "pd.MultiIndex.from_frame(fd_stats)\n",
    "\n",
    "print(fd_stats)\n",
    "\n",
    "\n",
    "# solution: https://stackoverflow.com/questions/13575090/construct-pandas-dataframe-from-items-in-nested-dictionary/13581730"
   ]
  },
  {
   "cell_type": "code",
   "execution_count": 7,
   "metadata": {},
   "outputs": [
    {
     "data": {
      "image/png": "[encoded data removed]",
      "text/plain": [
       "<Figure size 432x288 with 1 Axes>"
      ]
     },
     "metadata": {},
     "output_type": "display_data"
    }
   ],
   "source": [
    "plt.hist(fd_stats['fd_mean'].values, alpha=0.5)\n",
    "plt.show()"
   ]
  },
  {
   "cell_type": "code",
   "execution_count": 8,
   "metadata": {},
   "outputs": [
    {
     "data": {
      "text/plain": [
       "0.12129824931215638"
      ]
     },
     "execution_count": 8,
     "metadata": {},
     "output_type": "execute_result"
    }
   ],
   "source": [
    "#change for different thresholds \n",
    "\n",
    "fd_thresh_mean = .2 \n",
    "fd_thresh_perc = 30\n",
    "\n",
    "\n",
    "fd_prob = fd_stats[np.logical_or(fd_stats.fd_mean > fd_thresh_mean, fd_stats.fd_perc > fd_thresh_perc)]\n",
    "#print(fd_prob)\n",
    "\n",
    "pd.set_option(\"display.max_rows\", -1)\n",
    "np.mean(fd_stats.fd_mean)\n",
    "\n",
    "#for sub in sublist:\n",
    "#    fd_stats['fd_mean'][sub]\n",
    "    "
   ]
  },
  {
   "cell_type": "code",
   "execution_count": 9,
   "metadata": {},
   "outputs": [],
   "source": [
    "#write to tsv \n",
    "\n",
    "fd_stats.to_csv('output.tsv',sep='\\t')"
   ]
  },
  {
   "cell_type": "code",
   "execution_count": null,
   "metadata": {},
   "outputs": [],
   "source": []
  }
 ],
 "metadata": {
  "kernelspec": {
   "display_name": "Python 3",
   "language": "python",
   "name": "python3"
  },
  "language_info": {
   "codemirror_mode": {
    "name": "ipython",
    "version": 3
   },
   "file_extension": ".py",
   "mimetype": "text/x-python",
   "name": "python",
   "nbconvert_exporter": "python",
   "pygments_lexer": "ipython3",
   "version": "3.6.5"
  }
 },
 "nbformat": 4,
 "nbformat_minor": 4
}
