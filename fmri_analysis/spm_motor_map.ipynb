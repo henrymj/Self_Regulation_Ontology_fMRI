{
 "cells": [
  {
   "cell_type": "markdown",
   "metadata": {
    "deletable": true,
    "editable": true
   },
   "source": [
    "### Imports"
   ]
  },
  {
   "cell_type": "code",
   "execution_count": 1,
   "metadata": {
    "collapsed": false,
    "deletable": true,
    "editable": true
   },
   "outputs": [
    {
     "name": "stdout",
     "output_type": "stream",
     "text": [
      "Populating the interactive namespace from numpy and matplotlib\n"
     ]
    }
   ],
   "source": [
    "%pylab inline\n",
    "from os.path import abspath, join\n",
    "from nipype.interfaces.spm import Level1Design, EstimateModel, EstimateContrast\n",
    "from nipype.algorithms.modelgen import SpecifySPMModel, SpecifyModel\n",
    "from nipype.interfaces.utility import Function, IdentityInterface\n",
    "from nipype.interfaces.io import SelectFiles, DataSink\n",
    "from nipype.pipeline.engine import Workflow, Node\n",
    "import pandas as pd\n",
    "from glob import glob"
   ]
  },
  {
   "cell_type": "markdown",
   "metadata": {
    "deletable": true,
    "editable": true
   },
   "source": [
    "### Experiment Variables"
   ]
  },
  {
   "cell_type": "code",
   "execution_count": 2,
   "metadata": {
    "collapsed": true,
    "deletable": true,
    "editable": true
   },
   "outputs": [],
   "source": [
    "experiment_dir = abspath('.')\n",
    "output_dir = 'datasink'\n",
    "working_dir = 'workingdir'\n",
    "\n",
    "# list of subject identifiers\n",
    "subject_list = ['sub-s358']\n",
    "\n",
    "# list of task identifiers\n",
    "task_list = ['stroop']\n",
    "\n",
    "# TR of functional images\n",
    "TR = .68\n"
   ]
  },
  {
   "cell_type": "markdown",
   "metadata": {
    "deletable": true,
    "editable": true
   },
   "source": [
    "###  Specify Contrasts"
   ]
  },
  {
   "cell_type": "code",
   "execution_count": 3,
   "metadata": {
    "collapsed": true,
    "deletable": true,
    "editable": true
   },
   "outputs": [],
   "source": [
    "# Condition names\n",
    "condition_names = ['response']\n",
    "\n",
    "# Contrasts\n",
    "cont01 = ['average','T', condition_names, [1]]\n",
    "\n",
    "contrast_list = [cont01]"
   ]
  },
  {
   "cell_type": "markdown",
   "metadata": {
    "deletable": true,
    "editable": true
   },
   "source": [
    "### Specify GLM Model for Motor Contrast"
   ]
  },
  {
   "cell_type": "code",
   "execution_count": 4,
   "metadata": {
    "collapsed": false,
    "deletable": true,
    "editable": true
   },
   "outputs": [],
   "source": [
    "def subjectinfo(subject_id, task, inspect_inputs=False):\n",
    "    \n",
    "    from glob import glob\n",
    "    import numpy as np\n",
    "    import pandas as pd\n",
    "    from os.path import join\n",
    "    from nipype.interfaces.base import Bunch\n",
    "    \n",
    "    base_dir = '/home/jovyan/work/output'\n",
    "    \n",
    "    # strip \"sub\" from beginning of subject_id if provided\n",
    "    subject_id = subject_id.replace('sub-','')\n",
    "    \n",
    "    ## Get the Events File\n",
    "    \n",
    "    # Read the TSV file and convert to pandas dataframe\n",
    "    event_file = glob(join(base_dir,\n",
    "                           'Data',\n",
    "                           'sub-%s' % subject_id,\n",
    "                           '*', 'func',\n",
    "                           '*%s*events.tsv' % task))[0]\n",
    "    events_df = pd.read_csv(event_file,sep = '\\t')\n",
    "    # set duration and add response column\n",
    "    events_df.loc[:,'duration'] = .01\n",
    "\n",
    "    ## Get the Confounds File (output of fmriprep)\n",
    "    \n",
    "    # Read the TSV file and convert to pandas dataframe\n",
    "    confounds_file = glob(join(base_dir,\n",
    "                               'Data',\n",
    "                               'sub-%s' % subject_id,\n",
    "                               '*', 'func',\n",
    "                               '*%s*confounds.tsv' % task))[0]\n",
    "    confounds_df = pd.read_csv(confounds_file, sep = '\\t', na_values=['n/a']).fillna(0)\n",
    "    # select relevant regressors\n",
    "    regressor_names = ['FramewiseDisplacement', \n",
    "                       'aCompCor0',\n",
    "                       'aCompCor1',\n",
    "                       'aCompCor2',\n",
    "                       'aCompCor3',\n",
    "                       'aCompCor4',\n",
    "                       'aCompCor5']\n",
    "    # convert selected regressors in dataframe to list of lists\n",
    "    regressors = confounds_df.loc[:,regressor_names].values.T.tolist()\n",
    "    \n",
    "    \n",
    "    \n",
    "    subjectinfo = Bunch(conditions=['response'],\n",
    "                        onsets=[events_df.onset.tolist()],\n",
    "                         durations=[events_df.duration.tolist()],\n",
    "                         amplitudes=None,\n",
    "                         tmod=None,\n",
    "                         pmod=None,\n",
    "                         regressor_names=regressor_names,\n",
    "                         regressors=regressors)\n",
    "\n",
    "    if inspect_inputs==True:\n",
    "        return events_df, confounds_df\n",
    "    else:\n",
    "        return subjectinfo  # this output will later be returned to infosource\n",
    "\n",
    "# Get Subject Info - get subject specific condition information\n",
    "getsubjectinfo = Node(Function(input_names=['subject_id', 'task'],\n",
    "                               output_names=['subject_info'],\n",
    "                               function=subjectinfo),\n",
    "                      name='getsubjectinfo')"
   ]
  },
  {
   "cell_type": "markdown",
   "metadata": {
    "deletable": true,
    "editable": true
   },
   "source": [
    "View one events file used in subject info"
   ]
  },
  {
   "cell_type": "code",
   "execution_count": 5,
   "metadata": {
    "collapsed": false,
    "deletable": true,
    "editable": true,
    "scrolled": true
   },
   "outputs": [
    {
     "data": {
      "text/html": [
       "<div>\n",
       "<table border=\"1\" class=\"dataframe\">\n",
       "  <thead>\n",
       "    <tr style=\"text-align: right;\">\n",
       "      <th></th>\n",
       "      <th>WhiteMatter</th>\n",
       "      <th>GlobalSignal</th>\n",
       "      <th>stdDVARS</th>\n",
       "      <th>non-stdDVARS</th>\n",
       "      <th>vx-wisestdDVARS</th>\n",
       "      <th>FramewiseDisplacement</th>\n",
       "      <th>tCompCor0</th>\n",
       "      <th>tCompCor1</th>\n",
       "      <th>tCompCor2</th>\n",
       "      <th>tCompCor3</th>\n",
       "      <th>...</th>\n",
       "      <th>aCompCor2</th>\n",
       "      <th>aCompCor3</th>\n",
       "      <th>aCompCor4</th>\n",
       "      <th>aCompCor5</th>\n",
       "      <th>X</th>\n",
       "      <th>Y</th>\n",
       "      <th>Z</th>\n",
       "      <th>RotX</th>\n",
       "      <th>RotY</th>\n",
       "      <th>RotZ</th>\n",
       "    </tr>\n",
       "  </thead>\n",
       "  <tbody>\n",
       "    <tr>\n",
       "      <th>0</th>\n",
       "      <td>3.129071</td>\n",
       "      <td>-5.173492</td>\n",
       "      <td>0.995423</td>\n",
       "      <td>25.107180</td>\n",
       "      <td>0.954376</td>\n",
       "      <td>0.066566</td>\n",
       "      <td>-0.028548</td>\n",
       "      <td>-0.050399</td>\n",
       "      <td>-0.043659</td>\n",
       "      <td>-0.015710</td>\n",
       "      <td>...</td>\n",
       "      <td>-0.078841</td>\n",
       "      <td>0.067989</td>\n",
       "      <td>-0.008318</td>\n",
       "      <td>0.090335</td>\n",
       "      <td>0.014954</td>\n",
       "      <td>-0.199724</td>\n",
       "      <td>-0.516326</td>\n",
       "      <td>-0.002785</td>\n",
       "      <td>3.350870e-04</td>\n",
       "      <td>-0.000304</td>\n",
       "    </tr>\n",
       "    <tr>\n",
       "      <th>1</th>\n",
       "      <td>3.705239</td>\n",
       "      <td>-15.384580</td>\n",
       "      <td>1.056665</td>\n",
       "      <td>26.651878</td>\n",
       "      <td>0.974954</td>\n",
       "      <td>0.116180</td>\n",
       "      <td>-0.019380</td>\n",
       "      <td>-0.027954</td>\n",
       "      <td>0.046011</td>\n",
       "      <td>-0.062212</td>\n",
       "      <td>...</td>\n",
       "      <td>-0.130099</td>\n",
       "      <td>0.016186</td>\n",
       "      <td>-0.010789</td>\n",
       "      <td>0.080306</td>\n",
       "      <td>0.025682</td>\n",
       "      <td>-0.204269</td>\n",
       "      <td>-0.534507</td>\n",
       "      <td>-0.003302</td>\n",
       "      <td>3.123530e-04</td>\n",
       "      <td>-0.000182</td>\n",
       "    </tr>\n",
       "    <tr>\n",
       "      <th>2</th>\n",
       "      <td>0.438633</td>\n",
       "      <td>-18.004847</td>\n",
       "      <td>1.060456</td>\n",
       "      <td>26.747486</td>\n",
       "      <td>0.972209</td>\n",
       "      <td>0.080029</td>\n",
       "      <td>-0.016963</td>\n",
       "      <td>0.083715</td>\n",
       "      <td>0.007950</td>\n",
       "      <td>-0.099760</td>\n",
       "      <td>...</td>\n",
       "      <td>-0.094918</td>\n",
       "      <td>0.016897</td>\n",
       "      <td>0.004875</td>\n",
       "      <td>0.061585</td>\n",
       "      <td>0.038782</td>\n",
       "      <td>-0.242088</td>\n",
       "      <td>-0.481399</td>\n",
       "      <td>-0.003517</td>\n",
       "      <td>3.000780e-04</td>\n",
       "      <td>-0.000198</td>\n",
       "    </tr>\n",
       "    <tr>\n",
       "      <th>3</th>\n",
       "      <td>-3.488617</td>\n",
       "      <td>-14.283317</td>\n",
       "      <td>0.982462</td>\n",
       "      <td>24.780272</td>\n",
       "      <td>0.941140</td>\n",
       "      <td>0.085458</td>\n",
       "      <td>-0.019241</td>\n",
       "      <td>-0.045433</td>\n",
       "      <td>-0.060118</td>\n",
       "      <td>-0.087091</td>\n",
       "      <td>...</td>\n",
       "      <td>-0.096359</td>\n",
       "      <td>0.120974</td>\n",
       "      <td>0.032313</td>\n",
       "      <td>0.047891</td>\n",
       "      <td>0.034637</td>\n",
       "      <td>-0.239297</td>\n",
       "      <td>-0.433832</td>\n",
       "      <td>-0.003319</td>\n",
       "      <td>8.047130e-23</td>\n",
       "      <td>-0.000186</td>\n",
       "    </tr>\n",
       "    <tr>\n",
       "      <th>4</th>\n",
       "      <td>-7.867039</td>\n",
       "      <td>-19.170673</td>\n",
       "      <td>1.040890</td>\n",
       "      <td>26.253975</td>\n",
       "      <td>0.958739</td>\n",
       "      <td>0.049176</td>\n",
       "      <td>-0.008654</td>\n",
       "      <td>-0.051826</td>\n",
       "      <td>0.060073</td>\n",
       "      <td>-0.090306</td>\n",
       "      <td>...</td>\n",
       "      <td>-0.145776</td>\n",
       "      <td>0.014613</td>\n",
       "      <td>0.056545</td>\n",
       "      <td>0.050722</td>\n",
       "      <td>0.030090</td>\n",
       "      <td>-0.200441</td>\n",
       "      <td>-0.442900</td>\n",
       "      <td>-0.002864</td>\n",
       "      <td>1.472280e-04</td>\n",
       "      <td>-0.000243</td>\n",
       "    </tr>\n",
       "  </tbody>\n",
       "</table>\n",
       "<p>5 rows × 24 columns</p>\n",
       "</div>"
      ],
      "text/plain": [
       "   WhiteMatter  GlobalSignal  stdDVARS  non-stdDVARS  vx-wisestdDVARS  \\\n",
       "0     3.129071     -5.173492  0.995423     25.107180         0.954376   \n",
       "1     3.705239    -15.384580  1.056665     26.651878         0.974954   \n",
       "2     0.438633    -18.004847  1.060456     26.747486         0.972209   \n",
       "3    -3.488617    -14.283317  0.982462     24.780272         0.941140   \n",
       "4    -7.867039    -19.170673  1.040890     26.253975         0.958739   \n",
       "\n",
       "   FramewiseDisplacement  tCompCor0  tCompCor1  tCompCor2  tCompCor3  \\\n",
       "0               0.066566  -0.028548  -0.050399  -0.043659  -0.015710   \n",
       "1               0.116180  -0.019380  -0.027954   0.046011  -0.062212   \n",
       "2               0.080029  -0.016963   0.083715   0.007950  -0.099760   \n",
       "3               0.085458  -0.019241  -0.045433  -0.060118  -0.087091   \n",
       "4               0.049176  -0.008654  -0.051826   0.060073  -0.090306   \n",
       "\n",
       "     ...     aCompCor2  aCompCor3  aCompCor4  aCompCor5         X         Y  \\\n",
       "0    ...     -0.078841   0.067989  -0.008318   0.090335  0.014954 -0.199724   \n",
       "1    ...     -0.130099   0.016186  -0.010789   0.080306  0.025682 -0.204269   \n",
       "2    ...     -0.094918   0.016897   0.004875   0.061585  0.038782 -0.242088   \n",
       "3    ...     -0.096359   0.120974   0.032313   0.047891  0.034637 -0.239297   \n",
       "4    ...     -0.145776   0.014613   0.056545   0.050722  0.030090 -0.200441   \n",
       "\n",
       "          Z      RotX          RotY      RotZ  \n",
       "0 -0.516326 -0.002785  3.350870e-04 -0.000304  \n",
       "1 -0.534507 -0.003302  3.123530e-04 -0.000182  \n",
       "2 -0.481399 -0.003517  3.000780e-04 -0.000198  \n",
       "3 -0.433832 -0.003319  8.047130e-23 -0.000186  \n",
       "4 -0.442900 -0.002864  1.472280e-04 -0.000243  \n",
       "\n",
       "[5 rows x 24 columns]"
      ]
     },
     "execution_count": 5,
     "metadata": {},
     "output_type": "execute_result"
    }
   ],
   "source": [
    "events_df,confounds_df = subjectinfo('s358','stroop', True)\n",
    "confounds_df.head()"
   ]
  },
  {
   "cell_type": "markdown",
   "metadata": {
    "deletable": true,
    "editable": true
   },
   "source": [
    "View bunch"
   ]
  },
  {
   "cell_type": "code",
   "execution_count": 6,
   "metadata": {
    "collapsed": false,
    "deletable": true,
    "editable": true
   },
   "outputs": [
    {
     "name": "stdout",
     "output_type": "stream",
     "text": [
      "Bunch Keys: \n"
     ]
    },
    {
     "data": {
      "text/plain": [
       "['amplitudes',\n",
       " 'pmod',\n",
       " 'durations',\n",
       " 'regressor_names',\n",
       " 'tmod',\n",
       " 'regressors',\n",
       " 'conditions',\n",
       " 'onsets']"
      ]
     },
     "execution_count": 6,
     "metadata": {},
     "output_type": "execute_result"
    }
   ],
   "source": [
    "bunch = subjectinfo('s358','stroop')\n",
    "print('Bunch Keys: ')\n",
    "[i[0] for i in bunch.items()]"
   ]
  },
  {
   "cell_type": "markdown",
   "metadata": {
    "deletable": true,
    "editable": true
   },
   "source": [
    "### Model Specification"
   ]
  },
  {
   "cell_type": "code",
   "execution_count": 7,
   "metadata": {
    "collapsed": false,
    "deletable": true,
    "editable": true
   },
   "outputs": [],
   "source": [
    "# SpecifyModel - Generates SPM-specific Model\n",
    "modelspec = Node(SpecifySPMModel(concatenate_runs=False,\n",
    "                                 input_units='secs',\n",
    "                                 output_units='secs',\n",
    "                                 time_repetition=TR,\n",
    "                                 high_pass_filter_cutoff=128),\n",
    "                 name=\"modelspec\")\n",
    "\n",
    "# Level1Design - Generates an SPM design matrix\n",
    "level1design = Node(Level1Design(bases={'hrf': {'derivs': [0, 0]}},\n",
    "                                 timing_units='secs',\n",
    "                                 interscan_interval=TR,\n",
    "                                 model_serial_correlations='AR(1)'),\n",
    "                    name=\"level1design\")\n",
    "\n",
    "# EstimateModel - estimate the parameters of the model\n",
    "level1estimate = Node(EstimateModel(estimation_method={'Classical': 1}),\n",
    "                      name=\"level1estimate\")\n",
    "\n",
    "# EstimateContrast - estimates contrasts\n",
    "level1conest = Node(EstimateContrast(), name=\"level1conest\")"
   ]
  },
  {
   "cell_type": "markdown",
   "metadata": {
    "deletable": true,
    "editable": true
   },
   "source": [
    "### Specify Input and Output Stream"
   ]
  },
  {
   "cell_type": "code",
   "execution_count": 8,
   "metadata": {
    "collapsed": false,
    "deletable": true,
    "editable": true,
    "scrolled": true
   },
   "outputs": [
    {
     "data": {
      "text/plain": [
       "\"\\n# Use the following DataSink output substitutions\\nsubstitutions = [('_subject_id_', '')]\\nsubjFolders = [('_fwhm_id_%s%s' % (f, sub), '%s_fwhm%s' % (sub, f))\\n               for f in fwhm\\n               for sub in subject_list]\\nsubstitutions.extend(subjFolders)\\ndatasink.inputs.substitutions = substitutions\\n\""
      ]
     },
     "execution_count": 8,
     "metadata": {},
     "output_type": "execute_result"
    }
   ],
   "source": [
    "# Infosource - a function free node to iterate over the list of subject names\n",
    "infosource = Node(IdentityInterface(fields=['subject_id',\n",
    "                                            'task',\n",
    "                                            'contrasts'],\n",
    "                                    contrasts=contrast_list),\n",
    "                  name=\"infosource\")\n",
    "infosource.iterables = [('subject_id', subject_list),\n",
    "                        ('task', task_list)]\n",
    "\n",
    "# SelectFiles - to grab the data (alternativ to DataGrabber)\n",
    "templates = {'func': join('Data', '{subject_id}','*','func',\n",
    "                         '*{task}*preproc.nii.gz')}\n",
    "selectfiles = Node(SelectFiles(templates,\n",
    "                               base_directory = experiment_dir,\n",
    "                               sort_filelist=True),\n",
    "                   name=\"selectfiles\")\n",
    "\n",
    "# Datasink - creates output folder for important outputs\n",
    "datasink = Node(DataSink(base_directory = experiment_dir,\n",
    "                         container=output_dir),\n",
    "                name=\"datasink\")\n",
    "\n",
    "\"\"\"\n",
    "# Use the following DataSink output substitutions\n",
    "substitutions = [('_subject_id_', '')]\n",
    "subjFolders = [('_fwhm_id_%s%s' % (f, sub), '%s_fwhm%s' % (sub, f))\n",
    "               for f in fwhm\n",
    "               for sub in subject_list]\n",
    "substitutions.extend(subjFolders)\n",
    "datasink.inputs.substitutions = substitutions\n",
    "\"\"\""
   ]
  },
  {
   "cell_type": "markdown",
   "metadata": {
    "deletable": true,
    "editable": true
   },
   "source": [
    "### Workflow"
   ]
  },
  {
   "cell_type": "code",
   "execution_count": 9,
   "metadata": {
    "collapsed": false,
    "deletable": true,
    "editable": true
   },
   "outputs": [],
   "source": [
    "# Initiation of the 1st-level analysis workflow\n",
    "l1analysis = Workflow(name='l1analysis')\n",
    "l1analysis.base_dir = join(experiment_dir, working_dir)\n",
    "\n",
    "# Connect up the 1st-level analysis components\n",
    "l1analysis.connect([(infosource, selectfiles, [('subject_id', 'subject_id'),\n",
    "                                               ('task', 'task')]),\n",
    "                    (infosource, getsubjectinfo, [('subject_id','subject_id'),\n",
    "                                                 ('task', 'task')]),\n",
    "                    (getsubjectinfo, modelspec, [('subject_info',\n",
    "                                                  'subject_info')]),\n",
    "                    (infosource, level1conest, [('contrasts', 'contrasts')]),\n",
    "                    (selectfiles, modelspec, [('func', 'functional_runs')]),\n",
    "                    (modelspec, level1design, [('session_info',\n",
    "                                                'session_info')]),\n",
    "                    (level1design, level1estimate, [('spm_mat_file',\n",
    "                                                     'spm_mat_file')]),\n",
    "                    (level1estimate, level1conest, [('spm_mat_file',\n",
    "                                                     'spm_mat_file'),\n",
    "                                                    ('beta_images',\n",
    "                                                     'beta_images'),\n",
    "                                                    ('residual_image',\n",
    "                                                     'residual_image')]),\n",
    "                    (level1conest, datasink, [('spm_mat_file',\n",
    "                                               '1stLevel.@spm_mat'),\n",
    "                                              ('spmT_images', '1stLevel.@T'),\n",
    "                                              ('con_images', '1stLevel.@con'),\n",
    "                                              ('spmF_images', '1stLevel.@F'),\n",
    "                                              ('ess_images', '1stLevel.@ess'),\n",
    "                                              ]),\n",
    "                    ])"
   ]
  },
  {
   "cell_type": "markdown",
   "metadata": {
    "deletable": true,
    "editable": true
   },
   "source": [
    "### Visualize Workflow"
   ]
  },
  {
   "cell_type": "code",
   "execution_count": 10,
   "metadata": {
    "collapsed": false,
    "deletable": true,
    "editable": true,
    "scrolled": true
   },
   "outputs": [
    {
     "name": "stdout",
     "output_type": "stream",
     "text": [
      "170512-02:04:20,965 workflow INFO:\n",
      "\t Converting dotfile: /home/jovyan/work/output/workingdir/l1analysis/graph.dot to png format\n"
     ]
    },
    {
     "data": {
      "image/png": "[encoded data removed]",
      "text/plain": [
       "<IPython.core.display.Image object>"
      ]
     },
     "execution_count": 10,
     "metadata": {},
     "output_type": "execute_result"
    }
   ],
   "source": [
    "# Create 1st-level analysis output graph\n",
    "l1analysis.write_graph(graph2use='colored', format='png', simple_form=True)\n",
    "\n",
    "# Visualize the graph\n",
    "from IPython.display import Image\n",
    "Image(filename=join(l1analysis.base_dir, 'l1analysis', 'graph.dot.png'))"
   ]
  },
  {
   "cell_type": "markdown",
   "metadata": {
    "deletable": true,
    "editable": true
   },
   "source": [
    "### Run the Workflow\n"
   ]
  },
  {
   "cell_type": "code",
   "execution_count": 11,
   "metadata": {
    "collapsed": false,
    "deletable": true,
    "editable": true
   },
   "outputs": [
    {
     "name": "stdout",
     "output_type": "stream",
     "text": [
      "170512-02:04:29,677 workflow INFO:\n",
      "\t Workflow l1analysis settings: ['check', 'execution', 'logging']\n",
      "170512-02:04:29,705 workflow INFO:\n",
      "\t Running serially.\n",
      "170512-02:04:29,707 workflow INFO:\n",
      "\t Executing node selectfiles.a0 in dir: /home/jovyan/work/output/workingdir/l1analysis/_subject_id_sub-s358_task_stroop/selectfiles\n",
      "170512-02:04:29,733 workflow INFO:\n",
      "\t Executing node getsubjectinfo.a0 in dir: /home/jovyan/work/output/workingdir/l1analysis/_subject_id_sub-s358_task_stroop/getsubjectinfo\n",
      "170512-02:04:29,869 workflow INFO:\n",
      "\t Executing node modelspec.a0 in dir: /home/jovyan/work/output/workingdir/l1analysis/_subject_id_sub-s358_task_stroop/modelspec\n",
      "170512-02:04:30,351 workflow INFO:\n",
      "\t Executing node level1design.a0 in dir: /home/jovyan/work/output/workingdir/l1analysis/_subject_id_sub-s358_task_stroop/level1design\n",
      "170512-02:05:07,944 workflow ERROR:\n",
      "\t [u'Node level1design.a0 failed to run on host 76957add5ba9.']\n",
      "170512-02:05:07,946 workflow INFO:\n",
      "\t Saving crash info to /home/jovyan/work/output/crash-20170512-020507-jovyan-level1design.a0-4a466367-2cb7-45be-b0d0-7a989332896d.pklz\n",
      "170512-02:05:07,947 workflow INFO:\n",
      "\t Traceback (most recent call last):\n",
      "  File \"/opt/conda/envs/python2/lib/python2.7/site-packages/nipype-0.13.0rc1-py2.7.egg/nipype/pipeline/plugins/linear.py\", line 43, in run\n",
      "    node.run(updatehash=updatehash)\n",
      "  File \"/opt/conda/envs/python2/lib/python2.7/site-packages/nipype-0.13.0rc1-py2.7.egg/nipype/pipeline/engine/nodes.py\", line 366, in run\n",
      "    self._run_interface()\n",
      "  File \"/opt/conda/envs/python2/lib/python2.7/site-packages/nipype-0.13.0rc1-py2.7.egg/nipype/pipeline/engine/nodes.py\", line 476, in _run_interface\n",
      "    self._result = self._run_command(execute)\n",
      "  File \"/opt/conda/envs/python2/lib/python2.7/site-packages/nipype-0.13.0rc1-py2.7.egg/nipype/pipeline/engine/nodes.py\", line 607, in _run_command\n",
      "    result = self._interface.run()\n",
      "  File \"/opt/conda/envs/python2/lib/python2.7/site-packages/nipype-0.13.0rc1-py2.7.egg/nipype/interfaces/base.py\", line 1085, in run\n",
      "    runtime = self._run_wrapper(runtime)\n",
      "  File \"/opt/conda/envs/python2/lib/python2.7/site-packages/nipype-0.13.0rc1-py2.7.egg/nipype/interfaces/base.py\", line 1033, in _run_wrapper\n",
      "    runtime = self._run_interface(runtime)\n",
      "  File \"/opt/conda/envs/python2/lib/python2.7/site-packages/nipype-0.13.0rc1-py2.7.egg/nipype/interfaces/spm/base.py\", line 323, in _run_interface\n",
      "    results = self.mlab.run()\n",
      "  File \"/opt/conda/envs/python2/lib/python2.7/site-packages/nipype-0.13.0rc1-py2.7.egg/nipype/interfaces/base.py\", line 1085, in run\n",
      "    runtime = self._run_wrapper(runtime)\n",
      "  File \"/opt/conda/envs/python2/lib/python2.7/site-packages/nipype-0.13.0rc1-py2.7.egg/nipype/interfaces/base.py\", line 1728, in _run_wrapper\n",
      "    runtime = self._run_interface(runtime)\n",
      "  File \"/opt/conda/envs/python2/lib/python2.7/site-packages/nipype-0.13.0rc1-py2.7.egg/nipype/interfaces/matlab.py\", line 152, in _run_interface\n",
      "    self.raise_exception(runtime)\n",
      "  File \"/opt/conda/envs/python2/lib/python2.7/site-packages/nipype-0.13.0rc1-py2.7.egg/nipype/interfaces/base.py\", line 1686, in raise_exception\n",
      "    **runtime.dictcopy()))\n",
      "RuntimeError: Command:\n",
      "/opt/spm12/run_spm12.sh /opt/mcr/v91/ script /home/jovyan/work/output/workingdir/l1analysis/_subject_id_sub-s358_task_stroop/level1design/pyscript_level1design.m\n",
      "Standard output:\n",
      "------------------------------------------\n",
      "Setting up environment variables\n",
      "---\n",
      "LD_LIBRARY_PATH is .:/opt/mcr/v91//runtime/glnxa64:/opt/mcr/v91//bin/glnxa64:/opt/mcr/v91//sys/os/glnxa64:/opt/mcr/v91//sys/opengl/lib/glnxa64\n",
      "SPM12 (6906): /opt/spm12/spm12_mcr/spm12\n",
      " ___  ____  __  __                                            \n",
      "/ __)(  _ \\(  \\/  )                                           \n",
      "\\__ \\ )___/ )    (   Statistical Parametric Mapping           \n",
      "(___/(__)  (_/\\/\\_)  SPM12 - http://www.fil.ion.ucl.ac.uk/spm/\n",
      "\n",
      "Executing /home/jovyan/work/output/workingdir/l1analysis/_subject_id_sub-s358_task_stroop/level1design/pyscript_level1design.m at 12-May-2017 02:04:56:\n",
      "----------------------------------------------------------------------------------------------------\n",
      "MATLAB Version: 9.1.0.441655 (R2016b)\n",
      "MATLAB License Number: unknown\n",
      "Operating System: Linux 4.4.0-77-generic #98-Ubuntu SMP Wed Apr 26 08:34:02 UTC 2017 x86_64\n",
      "Java Version: Java 1.7.0_60-b19 with Oracle Corporation Java HotSpot(TM) 64-Bit Server VM mixed mode\n",
      "----------------------------------------------------------------------------------------------------\n",
      "MATLAB                                                Version 9.1         (R2016b)\n",
      "MATLAB                                                Version 9.1         (R2016b)\n",
      "MATLAB Compiler                                       Version 6.3         (R2016b)\n",
      "SPM version: SPM12 Release: 6906\n",
      "SPM path: /opt/spm12/spm12_mcr/spm12/spm.m\n",
      "Item 'Scans', field 'val': Number of matching files (0) less than required (1).\n",
      "\n",
      "Standard error:\n",
      "MATLAB code threw an exception:\n",
      "No executable modules, but still unresolved dependencies or incomplete module inputs.\n",
      "File:/opt/spm12/spm12_mcr/spm12/spm_jobman.m\n",
      "Name:/opt/spm12/spm12_mcr/spm12/spm_jobman.m\n",
      "Line:47\n",
      "File:opt/spm12/spm12_mcr/spm12/spm.m\n",
      "Name:/opt/spm12/spm12_mcr/spm12/spm_standalone.m\n",
      "Line:102\n",
      "File:ill_run_job\n",
      "Name:spm_jobman\n",
      "Line:115\n",
      "File:pm\n",
      "Name:spm_standalone\n",
      "Line:461\n",
      "File:\\xf7\n",
      "Name:\\u04b2\n",
      "Line:47\n",
      "\n",
      "Return code: 0\n",
      "Interface MatlabCommand failed to run. \n",
      "Interface Level1Design failed to run. \n",
      "\n",
      "170512-02:05:08,112 workflow INFO:\n",
      "\t ***********************************\n",
      "170512-02:05:08,113 workflow ERROR:\n",
      "\t could not run node: l1analysis.level1design.a0\n",
      "170512-02:05:08,114 workflow INFO:\n",
      "\t crashfile: /home/jovyan/work/output/crash-20170512-020507-jovyan-level1design.a0-4a466367-2cb7-45be-b0d0-7a989332896d.pklz\n",
      "170512-02:05:08,116 workflow INFO:\n",
      "\t ***********************************\n"
     ]
    },
    {
     "ename": "RuntimeError",
     "evalue": "Workflow did not execute cleanly. Check log for details",
     "output_type": "error",
     "traceback": [
      "\u001b[0;31m---------------------------------------------------------------------------\u001b[0m",
      "\u001b[0;31mRuntimeError\u001b[0m                              Traceback (most recent call last)",
      "\u001b[0;32m<ipython-input-11-f07b03d1f5c5>\u001b[0m in \u001b[0;36m<module>\u001b[0;34m()\u001b[0m\n\u001b[0;32m----> 1\u001b[0;31m \u001b[0ml1analysis\u001b[0m\u001b[0;34m.\u001b[0m\u001b[0mrun\u001b[0m\u001b[0;34m(\u001b[0m\u001b[0;34m)\u001b[0m\u001b[0;34m\u001b[0m\u001b[0m\n\u001b[0m",
      "\u001b[0;32m/opt/conda/envs/python2/lib/python2.7/site-packages/nipype-0.13.0rc1-py2.7.egg/nipype/pipeline/engine/workflows.pyc\u001b[0m in \u001b[0;36mrun\u001b[0;34m(self, plugin, plugin_args, updatehash)\u001b[0m\n\u001b[1;32m    581\u001b[0m         \u001b[0;32mif\u001b[0m \u001b[0mstr2bool\u001b[0m\u001b[0;34m(\u001b[0m\u001b[0mself\u001b[0m\u001b[0;34m.\u001b[0m\u001b[0mconfig\u001b[0m\u001b[0;34m[\u001b[0m\u001b[0;34m'execution'\u001b[0m\u001b[0;34m]\u001b[0m\u001b[0;34m[\u001b[0m\u001b[0;34m'create_report'\u001b[0m\u001b[0;34m]\u001b[0m\u001b[0;34m)\u001b[0m\u001b[0;34m:\u001b[0m\u001b[0;34m\u001b[0m\u001b[0m\n\u001b[1;32m    582\u001b[0m             \u001b[0mself\u001b[0m\u001b[0;34m.\u001b[0m\u001b[0m_write_report_info\u001b[0m\u001b[0;34m(\u001b[0m\u001b[0mself\u001b[0m\u001b[0;34m.\u001b[0m\u001b[0mbase_dir\u001b[0m\u001b[0;34m,\u001b[0m \u001b[0mself\u001b[0m\u001b[0;34m.\u001b[0m\u001b[0mname\u001b[0m\u001b[0;34m,\u001b[0m \u001b[0mexecgraph\u001b[0m\u001b[0;34m)\u001b[0m\u001b[0;34m\u001b[0m\u001b[0m\n\u001b[0;32m--> 583\u001b[0;31m         \u001b[0mrunner\u001b[0m\u001b[0;34m.\u001b[0m\u001b[0mrun\u001b[0m\u001b[0;34m(\u001b[0m\u001b[0mexecgraph\u001b[0m\u001b[0;34m,\u001b[0m \u001b[0mupdatehash\u001b[0m\u001b[0;34m=\u001b[0m\u001b[0mupdatehash\u001b[0m\u001b[0;34m,\u001b[0m \u001b[0mconfig\u001b[0m\u001b[0;34m=\u001b[0m\u001b[0mself\u001b[0m\u001b[0;34m.\u001b[0m\u001b[0mconfig\u001b[0m\u001b[0;34m)\u001b[0m\u001b[0;34m\u001b[0m\u001b[0m\n\u001b[0m\u001b[1;32m    584\u001b[0m         \u001b[0mdatestr\u001b[0m \u001b[0;34m=\u001b[0m \u001b[0mdatetime\u001b[0m\u001b[0;34m.\u001b[0m\u001b[0mutcnow\u001b[0m\u001b[0;34m(\u001b[0m\u001b[0;34m)\u001b[0m\u001b[0;34m.\u001b[0m\u001b[0mstrftime\u001b[0m\u001b[0;34m(\u001b[0m\u001b[0;34m'%Y%m%dT%H%M%S'\u001b[0m\u001b[0;34m)\u001b[0m\u001b[0;34m\u001b[0m\u001b[0m\n\u001b[1;32m    585\u001b[0m         \u001b[0;32mif\u001b[0m \u001b[0mstr2bool\u001b[0m\u001b[0;34m(\u001b[0m\u001b[0mself\u001b[0m\u001b[0;34m.\u001b[0m\u001b[0mconfig\u001b[0m\u001b[0;34m[\u001b[0m\u001b[0;34m'execution'\u001b[0m\u001b[0;34m]\u001b[0m\u001b[0;34m[\u001b[0m\u001b[0;34m'write_provenance'\u001b[0m\u001b[0;34m]\u001b[0m\u001b[0;34m)\u001b[0m\u001b[0;34m:\u001b[0m\u001b[0;34m\u001b[0m\u001b[0m\n",
      "\u001b[0;32m/opt/conda/envs/python2/lib/python2.7/site-packages/nipype-0.13.0rc1-py2.7.egg/nipype/pipeline/plugins/linear.pyc\u001b[0m in \u001b[0;36mrun\u001b[0;34m(self, graph, config, updatehash)\u001b[0m\n\u001b[1;32m     59\u001b[0m                 \u001b[0;32mif\u001b[0m \u001b[0mself\u001b[0m\u001b[0;34m.\u001b[0m\u001b[0m_status_callback\u001b[0m\u001b[0;34m:\u001b[0m\u001b[0;34m\u001b[0m\u001b[0m\n\u001b[1;32m     60\u001b[0m                     \u001b[0mself\u001b[0m\u001b[0;34m.\u001b[0m\u001b[0m_status_callback\u001b[0m\u001b[0;34m(\u001b[0m\u001b[0mnode\u001b[0m\u001b[0;34m,\u001b[0m \u001b[0;34m'exception'\u001b[0m\u001b[0;34m)\u001b[0m\u001b[0;34m\u001b[0m\u001b[0m\n\u001b[0;32m---> 61\u001b[0;31m         \u001b[0mreport_nodes_not_run\u001b[0m\u001b[0;34m(\u001b[0m\u001b[0mnotrun\u001b[0m\u001b[0;34m)\u001b[0m\u001b[0;34m\u001b[0m\u001b[0m\n\u001b[0m",
      "\u001b[0;32m/opt/conda/envs/python2/lib/python2.7/site-packages/nipype-0.13.0rc1-py2.7.egg/nipype/pipeline/plugins/base.pyc\u001b[0m in \u001b[0;36mreport_nodes_not_run\u001b[0;34m(notrun)\u001b[0m\n\u001b[1;32m     93\u001b[0m                 \u001b[0mlogger\u001b[0m\u001b[0;34m.\u001b[0m\u001b[0mdebug\u001b[0m\u001b[0;34m(\u001b[0m\u001b[0msubnode\u001b[0m\u001b[0;34m.\u001b[0m\u001b[0m_id\u001b[0m\u001b[0;34m)\u001b[0m\u001b[0;34m\u001b[0m\u001b[0m\n\u001b[1;32m     94\u001b[0m         \u001b[0mlogger\u001b[0m\u001b[0;34m.\u001b[0m\u001b[0minfo\u001b[0m\u001b[0;34m(\u001b[0m\u001b[0;34m\"***********************************\"\u001b[0m\u001b[0;34m)\u001b[0m\u001b[0;34m\u001b[0m\u001b[0m\n\u001b[0;32m---> 95\u001b[0;31m         raise RuntimeError(('Workflow did not execute cleanly. '\n\u001b[0m\u001b[1;32m     96\u001b[0m                             'Check log for details'))\n\u001b[1;32m     97\u001b[0m \u001b[0;34m\u001b[0m\u001b[0m\n",
      "\u001b[0;31mRuntimeError\u001b[0m: Workflow did not execute cleanly. Check log for details"
     ]
    }
   ],
   "source": [
    "l1analysis.run()"
   ]
  },
  {
   "cell_type": "code",
   "execution_count": null,
   "metadata": {
    "collapsed": false,
    "deletable": true,
    "editable": true
   },
   "outputs": [],
   "source": [
    "!tree datasink/1stLevel/_subject*\n"
   ]
  },
  {
   "cell_type": "code",
   "execution_count": null,
   "metadata": {
    "collapsed": true,
    "deletable": true,
    "editable": true
   },
   "outputs": [],
   "source": [
    "from nilearn.plotting import plot_stat_map\n",
    "anatimg = '/data/ds102/sub-01/anat/sub-01_T1w.nii.gz'\n",
    "plot_stat_map(\n",
    "    '/output/datasink/1stLevel/sub-01_fwhm4/spmT_0001.nii', title='average - fwhm=4',\n",
    "    bg_img=anatimg, threshold=3, display_mode='z', cut_coords=(-30, -15, 0, 15, 30), dim=-1)\n",
    "plot_stat_map(\n",
    "    '/output/datasink/1stLevel/sub-01_fwhm8/spmT_0001.nii', title='average - fwhm=8',\n",
    "    bg_img=anatimg, threshold=3, display_mode='z', cut_coords=(-30, -15, 0, 15, 30), dim=-1)"
   ]
  }
 ],
 "metadata": {
  "kernelspec": {
   "display_name": "Python [conda env:python2]",
   "language": "python",
   "name": "conda-env-python2-py"
  },
  "language_info": {
   "codemirror_mode": {
    "name": "ipython",
    "version": 2
   },
   "file_extension": ".py",
   "mimetype": "text/x-python",
   "name": "python",
   "nbconvert_exporter": "python",
   "pygments_lexer": "ipython2",
   "version": "2.7.12"
  }
 },
 "nbformat": 4,
 "nbformat_minor": 2
}
