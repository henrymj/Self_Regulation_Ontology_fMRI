{
 "cells": [
  {
   "cell_type": "code",
   "execution_count": null,
   "metadata": {},
   "outputs": [],
   "source": [
    "import argparse\n",
    "from glob import glob\n",
    "from os import makedirs, path\n",
    "import pandas as pd\n",
    "import pickle\n",
    "import sys\n",
    "\n",
    "from nistats.second_level_model import SecondLevelModel\n",
    "from nistats.thresholding import map_threshold\n",
    "from nilearn import plotting\n",
    "from utils.firstlevel_utils import load_first_level_objs, FirstLevel\n",
    "from utils.secondlevel_utils import create_group_mask"
   ]
  },
  {
   "cell_type": "markdown",
   "metadata": {},
   "source": [
    "### Parse Arguments\n",
    "These are not needed for the jupyter notebook, but are used after conversion to a script for production\n",
    "\n",
    "- conversion command:\n",
    "  - jupyter nbconvert --to script --execute 2ndlevel_analysis.ipynb"
   ]
  },
  {
   "cell_type": "code",
   "execution_count": null,
   "metadata": {},
   "outputs": [],
   "source": [
    "parser = argparse.ArgumentParser(description='fMRI Analysis Entrypoint Script.')\n",
    "parser.add_argument('-derivatives_dir', default=None)\n",
    "parser.add_argument('--tasks', nargs=\"+\", help=\"Choose from ANT, CCTHot, discountFix, \\\n",
    "                                    DPX, motorSelectiveStop, stopSignal, \\\n",
    "                                    stroop, surveyMedley, twoByTwo, WATT3\")\n",
    "parser.add_argument('--rerun', action='store_true')\n",
    "parser.add_argument('--rt', action='store_true')\n",
    "parser.add_argument('--beta', action='store_true')\n",
    "\n",
    "if '-derivatives_dir' in sys.argv or '-h' in sys.argv:\n",
    "    args = parser.parse_args()\n",
    "else:\n",
    "    args = parser.parse_args([])\n",
    "    args.derivatives_dir = '/data/derivatives'\n",
    "    args.tasks = ['stroop']\n",
    "    args.rt=True"
   ]
  },
  {
   "cell_type": "markdown",
   "metadata": {},
   "source": [
    "### Setup"
   ]
  },
  {
   "cell_type": "code",
   "execution_count": null,
   "metadata": {},
   "outputs": [],
   "source": [
    "# set paths\n",
    "first_level_dir = path.join(args.derivatives_dir, '1stlevel')\n",
    "second_level_dir = path.join(args.derivatives_dir,'2ndlevel')\n",
    "fmriprep_dir = path.join(args.derivatives_dir, 'fmriprep', 'fmriprep')\n",
    "\n",
    "# set tasks\n",
    "if args.tasks is not None:\n",
    "    tasks = args.tasks\n",
    "else:\n",
    "    tasks = ['ANT', 'CCTHot', 'discountFix',\n",
    "            'DPX', 'motorSelectiveStop',\n",
    "            'stopSignal', 'stroop',\n",
    "            'twoByTwo', 'WATT3']\n",
    "    \n",
    "# set other variables\n",
    "subjects = sorted([i[-4:] for i in glob(path.join(first_level_dir, 's*'))])\n",
    "regress_rt = args.rt\n",
    "beta_series = args.beta"
   ]
  },
  {
   "cell_type": "markdown",
   "metadata": {},
   "source": [
    "### Create Mask"
   ]
  },
  {
   "cell_type": "code",
   "execution_count": null,
   "metadata": {},
   "outputs": [],
   "source": [
    "mask_threshold = .95\n",
    "mask_loc = path.join(second_level_dir, 'group_mask_thresh-%s.nii.gz' % str(mask_threshold))\n",
    "if path.exists(mask_loc) == False or args.rerun:\n",
    "    group_mask = create_group_mask(fmriprep_dir, mask_threshold)\n",
    "    makedirs(path.dirname(mask_loc), exist_ok=True)\n",
    "    group_mask.to_filename(mask_loc)"
   ]
  },
  {
   "cell_type": "markdown",
   "metadata": {},
   "source": [
    "### Create second level objects"
   ]
  },
  {
   "cell_type": "code",
   "execution_count": null,
   "metadata": {},
   "outputs": [],
   "source": [
    "rt_flag = \"True\" if regress_rt else \"False\"\n",
    "beta_flag = \"True\" if beta_series else \"False\"\n",
    "for task in tasks:\n",
    "    # load first level models\n",
    "    first_levels = load_first_level_objs(subjects, task, first_level_dir, regress_rt=regress_rt)\n",
    "    if len(first_levels) == 0:\n",
    "        continue\n",
    "    first_level_models = [subj.fit_model for subj in first_levels]\n",
    "    # simple design for one sample test\n",
    "    design_matrix = pd.DataFrame([1] * len(first_level_models), columns=['intercept'])\n",
    "    # run second level\n",
    "    second_level_model = SecondLevelModel(mask=mask_loc, smoothing_fwhm=4.4).fit(\n",
    "        first_level_models, design_matrix=design_matrix)\n",
    "    makedirs(path.join(second_level_dir, task), exist_ok=True)\n",
    "    f = open(path.join(second_level_dir, task, 'secondlevel_RT-%s_beta-%s.pkl' % (rt_flag, beta_flag)), 'wb')\n",
    "    pickle.dump(second_level_model, f)\n",
    "    f.close()"
   ]
  }
 ],
 "metadata": {
  "kernelspec": {
   "display_name": "Python 3",
   "language": "python",
   "name": "python3"
  },
  "language_info": {
   "codemirror_mode": {
    "name": "ipython",
    "version": 3
   },
   "file_extension": ".py",
   "mimetype": "text/x-python",
   "name": "python",
   "nbconvert_exporter": "python",
   "pygments_lexer": "ipython3",
   "version": "3.6.5"
  }
 },
 "nbformat": 4,
 "nbformat_minor": 2
}
